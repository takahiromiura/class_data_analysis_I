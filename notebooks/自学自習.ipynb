{
 "cells": [
  {
   "cell_type": "markdown",
   "metadata": {},
   "source": [
    "# 調べる\n",
    "\n",
    "プログラミングにおいて、細かい規則や関数などについては、自分で調べて使えるようになる必要があります。\n",
    "\n",
    "ここでは、問題に直面したときにどうするかを説明します。\n",
    "\n"
   ]
  },
  {
   "cell_type": "markdown",
   "metadata": {},
   "source": [
    "## 問題の明確化\n",
    "\n",
    "何をするために必要なのか、調べる前に問題を具体的にします。\n",
    "\n",
    "例えば、データ分析をするときにも、どこで躓いているのかを明確にする必要があります。\n",
    "\n",
    "問題はデータを読み込むことなのか、さらに言うと `csv` (comma separated values) ファイルを読み込みたいのか、エクセルファイルを読み込みたいのか。\n",
    "\n",
    "ある分析手法を実行することなのか (回帰分析や k-means 法)。\n",
    "\n",
    "データ A とデータ B を結合することなのか、欠損値を別の値に書き換えたいのか。\n",
    "\n",
    "問題を具体化することで、検索が容易になります。"
   ]
  },
  {
   "cell_type": "markdown",
   "metadata": {},
   "source": [
    "## ドキュメントを読む\n",
    "\n",
    "リストやタプルなどの値の平均値を計算するには、`statistics` モジュールの `mean` 関数を使います。\n",
    "\n",
    "では、`mean` 関数には何を入れる必要があるのでしょうか。\n",
    "\n",
    "ライブラリなどは基本的にドキュメントが公開されています。\n",
    "\n",
    "`statistics` モジュールは以下の URL でドキュメントが公開されています。\n",
    "\n",
    "https://docs.python.org/ja/3/library/statistics.html\n",
    "\n",
    "Google 検索では `statistics python` などで検索すれば、大体ドキュメントの Web サイトに辿り着けます。\n",
    "\n",
    "以下は `mean` 関数の説明文の抜粋です (https://docs.python.org/ja/3/library/statistics.html#statistics.mean)。\n",
    "\n",
    "> statistics.mean(data)\n",
    "> \n",
    "> シーケンス型またはイテラブルになり得る data の標本算術平均を返します。\n",
    ">\n",
    "> 算術平均はデータの総和をデータ数で除したものです。\n",
    "> \n",
    "> 単に「平均」と呼ばれることも多いですが、数学における平均の一種に過ぎません。データの中心位置の測度の一つです。\n",
    "> \n",
    "> data が空の場合 StatisticsError を送出します。\n",
    "\n",
    "最初に、関数やクラスの名前と引数名の定義が記載されています。\n",
    "\n",
    "`statistics.mean` とあることから、 `mean` 関数は `statistics` モジュール内の関数であることが分かります。\n",
    "\n",
    "引数は一つだけで、`data` という引数名であることが分かります。\n",
    "\n",
    "その下に、この関数がどういったことをするのかの説明が記載されています。\n",
    "\n",
    "場合によっては、使用例も載っています。\n",
    "\n",
    "「シーケンス型またはイテラブルになり得る data」を用いるため、リストやタプルなどを `mean` 関数に入れて使うことが推測できます。 "
   ]
  },
  {
   "cell_type": "code",
   "execution_count": 2,
   "metadata": {},
   "outputs": [
    {
     "data": {
      "text/plain": [
       "2.5"
      ]
     },
     "execution_count": 2,
     "metadata": {},
     "output_type": "execute_result"
    }
   ],
   "source": [
    "from statistics import mean\n",
    "mean([1, 2, 3, 4])"
   ]
  },
  {
   "cell_type": "markdown",
   "metadata": {},
   "source": [
    "より複雑な機能を持つ関数の場合、トライ & エラーで試してみるのも重要です。\n",
    "\n",
    "また、どのような属性・メソッドがあるかをざっと見ておくと、いざ問題に直面したときに思い起こせるかもしれません。\n",
    "\n",
    "Python に最初から入っているライブラリ (Python 標準ライブラリ) は以下で確認できます。\n",
    "\n",
    "https://docs.python.org/ja/3/library/index.html"
   ]
  },
  {
   "cell_type": "markdown",
   "metadata": {},
   "source": [
    "## やってみよう\n",
    "\n",
    "ドキュメントを読み、`round` 関数を用いて、`3.1415` という小数点 (float) 型を `3.14` に丸めてください。\n",
    "\n",
    "https://docs.python.org/ja/3/library/functions.html#round"
   ]
  },
  {
   "cell_type": "markdown",
   "metadata": {},
   "source": [
    "# ライブラリを探す\n",
    "\n",
    "特に初心者の場合、どのようなライブラリがあるのかを把握するのが難しいと思います。\n",
    "\n",
    "その場合は以下のことをおすすめします。\n",
    "\n",
    "1. Python の人気ライブラリ・おすすめライブラリなどをまとめているブログ記事を読む\n",
    "\n",
    "2. ChatGPT などで聞いてみる。例えば、「Python で大規模なデータ分析を行うにはどのようなライブラリがありますか。」など。\n",
    "\n",
    "3. [Qiita](https://qiita.com/) や [Medium](https://medium.com/) などで Python 用の記事を読む\n",
    "\n",
    "場合によってはいくつかのライブラリが該当することもあります。\n",
    "\n",
    "例えば、グラフを作成するためのライブラリでも [matplotlib](https://matplotlib.org/stable/)、[seaborn](https://seaborn.pydata.org/)、[plotly](https://plotly.com/python/)、[plotnine](https://plotnine.org/) などがあります。\n",
    "\n",
    "とりあえずは、人気のライブラリから触ってみるのが良いでしょう。\n",
    "\n",
    "ある程度使わないと勝手は分かりません。\n",
    "\n",
    "ここらへんもトライ & エラーになることは覚えておいてください。"
   ]
  },
  {
   "cell_type": "markdown",
   "metadata": {},
   "source": [
    "## やってみよう\n",
    "\n",
    "機械学習用の Python ライブラリを探してみてください。"
   ]
  }
 ],
 "metadata": {
  "kernelspec": {
   "display_name": ".venv",
   "language": "python",
   "name": "python3"
  },
  "language_info": {
   "codemirror_mode": {
    "name": "ipython",
    "version": 3
   },
   "file_extension": ".py",
   "mimetype": "text/x-python",
   "name": "python",
   "nbconvert_exporter": "python",
   "pygments_lexer": "ipython3",
   "version": "3.11.7"
  }
 },
 "nbformat": 4,
 "nbformat_minor": 2
}
