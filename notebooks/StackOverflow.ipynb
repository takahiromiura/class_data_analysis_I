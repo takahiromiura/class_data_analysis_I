{
  "cells": [
    {
      "cell_type": "markdown",
      "metadata": {
        "id": "view-in-github",
        "colab_type": "text"
      },
      "source": [
        "<a href=\"https://colab.research.google.com/github/takahiromiura/class_data_analysis_I/blob/main/notebooks/StackOverflow.ipynb\" target=\"_parent\"><img src=\"https://colab.research.google.com/assets/colab-badge.svg\" alt=\"Open In Colab\"/></a>"
      ]
    },
    {
      "cell_type": "markdown",
      "metadata": {
        "id": "sRu6w1Fu5CG1"
      },
      "source": [
        "# Stack Overflow の質問分析\n",
        "\n",
        "ここでは、プログラミング専門の質問掲示板、[Stack Overflow](https://stackoverflow.com/) のデータを分析してみます。"
      ]
    },
    {
      "cell_type": "markdown",
      "metadata": {
        "id": "HQlfWY5N5CG2"
      },
      "source": [
        "# プログラミングの前準備"
      ]
    },
    {
      "cell_type": "markdown",
      "metadata": {
        "id": "RIYDXSyq5CG2"
      },
      "source": [
        "## 目的の設定\n",
        "\n",
        "データ分析で、実際にプログラミングを行う段階は後の方になります。\n",
        "\n",
        "まずは、何のためにデータ分析をするのか、どのような疑問を解き明かしたいのか、目的を設定することが重要です。\n",
        "\n",
        "目的によって、どのようなデータが、どのくらい必要か変わってきます。\n",
        "\n",
        "例えば、\n",
        "\n",
        "- [能力のアピールは Stack Overflow の投稿のモチベーションとして寄与しているか?](https://pubsonline.informs.org/doi/10.1287/mnsc.2018.3264)\n",
        "- [質問の内容から解答までの時間を予測できるか?](https://ieeexplore.ieee.org/document/7180106)\n",
        "- [他者から解答を受け取ると、他の人の質問に解答しやすくなるか?](https://www.kansai-u.ac.jp/riss/output/paper/pdf/RISS_DP_No111.pdf)\n",
        "\n",
        "場合によっては、追加のアンケートなどが必要になります。\n",
        "\n",
        "とりあえず、ここでは「質問 1 つあたりの解答数の平均値」を知りたいとします。\n",
        "\n",
        "また、直近の質問のデータを用いるとします。\n",
        "\n",
        "ここで、必要なデータを全て羅列する必要はありませんが、ざっくりとした方向性は決めておいた方が良いでしょう。"
      ]
    },
    {
      "cell_type": "markdown",
      "metadata": {
        "id": "1HF9k_iv5CG2"
      },
      "source": [
        "## データセットを探す\n",
        "\n",
        "Web サイトからデータセット (データの集まり) を集める場合、自力で集めるか、Web サイト側が公開しているデータセットを使うか方法などがあります。\n",
        "\n",
        "インターネット検索を駆使しましょう。\n",
        "\n",
        "Web サイトによっては、API (Application Programming Interface) という、データをやりとりするためのシステムが用意されていることがあります。\n",
        "\n",
        "「Stack Overflow question API」などで検索すると、お目当てのページにヒットすることがあります。\n",
        "\n",
        "- [質問の API 説明ページ](https://api.stackexchange.com/docs/questions)\n",
        "\n",
        "Stack Overflow の場合は、他にも [Internet Archive](https://archive.org/details/stackexchange) や [BigQuery の公開プロジェクト](https://console.cloud.google.com/marketplace/product/stack-exchange/stack-overflow?hl=ja&project=stackoverflow-207101)などでもデータセットが公開されています。\n",
        "\n",
        "このようなデータセットが用意されておらず、API もない場合は自力で行うか、他者に依頼する方法などがあります。\n",
        "\n",
        "Web スクレイピングを使ってプログラミングでデータ収集するという手もあります。\n",
        "\n",
        "該当の Web サイトの利用規約には従ってください。"
      ]
    },
    {
      "cell_type": "markdown",
      "metadata": {
        "id": "nnRW95Wu5CG3"
      },
      "source": [
        "# データ分析\n",
        "\n",
        "データセットが用意できたら、データ分析を行います。\n",
        "\n",
        "ですが、いきなりプログラミングはしません。\n",
        "\n",
        "まずは、何が必要かを大まかにリストにまとめます。\n",
        "\n",
        "例えば、「質問 1 つあたりの解答数の平均値」を今回は知りたいので、\n",
        "\n",
        "1. データの前処理\n",
        "2. 質問を 1 つ取り出す\n",
        "3. 解答数を取得し、別データに追加\n",
        "4. 平均値の計算して結果を出力\n",
        "\n",
        "ぐらいでしょうか。\n",
        "\n",
        "この段階ではタスクを細かくしすぎずに、3 ~ 5 ぐらいのステップに分けます。\n",
        "\n",
        "このステップをコードのコメントに入れておいても良いでしょう。"
      ]
    },
    {
      "cell_type": "code",
      "execution_count": 1,
      "metadata": {
        "id": "G92tDYVu5CG3"
      },
      "outputs": [],
      "source": [
        "# 1. データの前処理\n",
        "# 2. 質問を 1 つ取り出す\n",
        "# 3. 解答数を取得し、別データに追加\n",
        "# 4. 平均値の計算して結果を出力"
      ]
    },
    {
      "cell_type": "markdown",
      "metadata": {
        "id": "vmfi2JVP5CG3"
      },
      "source": [
        "## データ前処理\n",
        "\n",
        "データセットを取得しても、目的に完全に沿っていることはまずありません。\n",
        "\n",
        "欠損値や新しい変数を作成するなど、目的に応じたデータセットに変換する必要があります。\n",
        "\n",
        "これをデータの *前処理* (preprocessing) といいます。\n",
        "\n",
        "データ前処理は複雑なので、ここでは省略します。\n",
        "\n",
        "以下のようなデータが準備できたと仮定します。\n",
        "\n",
        "このデータは以下のリンクから、一部を省略したものです。\n",
        "\n",
        "- [データ URL](https://api.stackexchange.com/docs/questions#fromdate=2024-07-08&todate=2024-07-10&order=desc&sort=activity&filter=default&site=stackoverflow&run=true)\n",
        "\n",
        "また、`false` は `False`、`true` は `True` に変換しています。"
      ]
    },
    {
      "cell_type": "code",
      "execution_count": 2,
      "metadata": {
        "id": "341sPZpr5CG3"
      },
      "outputs": [],
      "source": [
        "data = {\n",
        "    'items': [\n",
        "        {\n",
        "            'is_answered': False,\n",
        "            'view_count': 46,\n",
        "            'answer_count': 2,\n",
        "            'score': 0,\n",
        "        },\n",
        "        {\n",
        "            'is_answered': False,\n",
        "            'view_count': 42,\n",
        "            'answer_count': 0,\n",
        "            'score': -2,\n",
        "        },\n",
        "        {\n",
        "            'is_answered': True,\n",
        "            'view_count': 41,\n",
        "            'answer_count': 4,\n",
        "            'score': 3,\n",
        "        },\n",
        "        {\n",
        "            'is_answered': False,\n",
        "            'view_count': 9,\n",
        "            'answer_count': 0,\n",
        "            'score': 0,\n",
        "        },\n",
        "        {\n",
        "            'is_answered': False,\n",
        "            'view_count': 24,\n",
        "            'answer_count': 0,\n",
        "            'score': 0,\n",
        "        },\n",
        "        {\n",
        "            'is_answered': False,\n",
        "            'view_count': 11,\n",
        "            'answer_count': 0,\n",
        "            'score': 0,\n",
        "        },\n",
        "        {\n",
        "            'is_answered': False,\n",
        "            'view_count': 16,\n",
        "            'answer_count': 1,\n",
        "            'score': -1,\n",
        "        },\n",
        "        {\n",
        "            'is_answered': False,\n",
        "            'view_count': 8,\n",
        "            'answer_count': 1,\n",
        "            'score': 0,\n",
        "        },\n",
        "        {\n",
        "            'is_answered': True,\n",
        "            'view_count': 37,\n",
        "            'answer_count': 1,\n",
        "            'score': 1,\n",
        "        },\n",
        "        {\n",
        "            'is_answered': False,\n",
        "            'view_count': 18,\n",
        "            'answer_count': 0,\n",
        "            'score': 0,\n",
        "        },\n",
        "        {\n",
        "            'is_answered': False,\n",
        "            'view_count': 47,\n",
        "            'answer_count': 2,\n",
        "            'score': 1,\n",
        "        },\n",
        "        {\n",
        "            'is_answered': False,\n",
        "            'view_count': 47,\n",
        "            'answer_count': 1,\n",
        "            'score': 0,\n",
        "        },\n",
        "        {\n",
        "            'is_answered': False,\n",
        "            'view_count': 14,\n",
        "            'answer_count': 1,\n",
        "            'score': -1,\n",
        "        },\n",
        "        {\n",
        "            'is_answered': False,\n",
        "            'view_count': 18,\n",
        "            'answer_count': 1,\n",
        "            'score': -1,\n",
        "        },\n",
        "        {\n",
        "            'is_answered': False,\n",
        "            'view_count': 19,\n",
        "            'answer_count': 0,\n",
        "            'score': 0,\n",
        "        },\n",
        "        {\n",
        "            'is_answered': True,\n",
        "            'view_count': 54,\n",
        "            'answer_count': 1,\n",
        "            'score': 0,\n",
        "        },\n",
        "        {\n",
        "            'is_answered': False,\n",
        "            'view_count': 60,\n",
        "            'answer_count': 0,\n",
        "            'score': 0,\n",
        "        },\n",
        "        {\n",
        "            'is_answered': False,\n",
        "            'view_count': 55,\n",
        "            'answer_count': 0,\n",
        "            'score': 2,\n",
        "        },\n",
        "        {\n",
        "            'is_answered': False,\n",
        "            'view_count': 14,\n",
        "            'answer_count': 2,\n",
        "            'score': 1,\n",
        "        },\n",
        "        {\n",
        "            'is_answered': False,\n",
        "            'view_count': 13,\n",
        "            'answer_count': 1,\n",
        "            'score': 0,\n",
        "        },\n",
        "        {\n",
        "            'is_answered': False,\n",
        "            'view_count': 33,\n",
        "            'answer_count': 0,\n",
        "            'score': 0,\n",
        "        },\n",
        "        {\n",
        "            'is_answered': False,\n",
        "            'view_count': 28,\n",
        "            'answer_count': 1,\n",
        "            'score': 0,\n",
        "        },\n",
        "        {\n",
        "            'is_answered': False,\n",
        "            'view_count': 22,\n",
        "            'answer_count': 0,\n",
        "            'score': 0,\n",
        "        },\n",
        "        {\n",
        "            'is_answered': False,\n",
        "            'view_count': 29,\n",
        "            'answer_count': 0,\n",
        "            'score': 0,\n",
        "        },\n",
        "        {\n",
        "            'is_answered': False,\n",
        "            'view_count': 12,\n",
        "            'answer_count': 1,\n",
        "            'score': 0,\n",
        "        },\n",
        "        {\n",
        "            'is_answered': False,\n",
        "            'view_count': 17,\n",
        "            'answer_count': 1,\n",
        "            'score': 0,\n",
        "        },\n",
        "        {\n",
        "            'is_answered': False,\n",
        "            'view_count': 33,\n",
        "            'answer_count': 2,\n",
        "            'score': 1,\n",
        "        },\n",
        "        {\n",
        "            'is_answered': False,\n",
        "            'view_count': 43,\n",
        "            'answer_count': 1,\n",
        "            'score': -4,\n",
        "        },\n",
        "        {\n",
        "            'is_answered': False,\n",
        "            'view_count': 17,\n",
        "            'answer_count': 0,\n",
        "            'score': 0,\n",
        "        },\n",
        "        {\n",
        "            'is_answered': False,\n",
        "            'view_count': 27,\n",
        "            'answer_count': 0,\n",
        "            'score': 0,\n",
        "        }\n",
        "    ],\n",
        "    'has_more': True,\n",
        "    'quota_max': 10000,\n",
        "    'quota_remaining': 9989\n",
        "}\n"
      ]
    },
    {
      "cell_type": "markdown",
      "metadata": {
        "id": "pGfN9rX35CG4"
      },
      "source": [
        "## 解答数取得まで\n",
        "\n",
        "データセットのデータ構造を読み解きましょう。\n",
        "\n",
        "例えば、上の `data` には `item` キーの値として質問データのリストが与えられています。\n",
        "\n",
        "質問データは辞書型で、ここでは `answer_count` が解答数です。\n",
        "\n",
        "`answer_count`、`view_count` などの定義は API の説明ページに載っていることが多いです。\n",
        "\n",
        "最終的にはループ処理を行いますが、まずは 1 つだけ取り出し、データを処理することをお勧めします。"
      ]
    },
    {
      "cell_type": "code",
      "execution_count": 3,
      "metadata": {
        "id": "Ne3QXICT5CG4",
        "outputId": "165e3263-f013-452f-a419-9c948275e25e",
        "colab": {
          "base_uri": "https://localhost:8080/"
        }
      },
      "outputs": [
        {
          "output_type": "execute_result",
          "data": {
            "text/plain": [
              "2"
            ]
          },
          "metadata": {},
          "execution_count": 3
        }
      ],
      "source": [
        "data[\"items\"][0][\"answer_count\"] # 0 番目の質問データの取得"
      ]
    },
    {
      "cell_type": "markdown",
      "metadata": {
        "id": "R_LBPiBq5CG5"
      },
      "source": [
        "このデータをリストに追加します。\n",
        "\n",
        "リストに `value` を追加するには、 `<my_list>.append(value)` とします。"
      ]
    },
    {
      "cell_type": "code",
      "execution_count": 4,
      "metadata": {
        "id": "vkAxUyZF5CG5",
        "outputId": "6ebf6160-f979-47a2-f396-710e41e91019",
        "colab": {
          "base_uri": "https://localhost:8080/"
        }
      },
      "outputs": [
        {
          "output_type": "stream",
          "name": "stdout",
          "text": [
            "[1]\n",
            "[1, 3]\n"
          ]
        }
      ],
      "source": [
        "my_list = [1]\n",
        "print(my_list) # 1\n",
        "my_list.append(3) # 3 を追加\n",
        "print(my_list) # 1, 3"
      ]
    },
    {
      "cell_type": "code",
      "execution_count": 5,
      "metadata": {
        "id": "I-i1bcqI5CG5",
        "outputId": "7154e3c2-f8fb-4111-c3a4-6db0922babbb",
        "colab": {
          "base_uri": "https://localhost:8080/"
        }
      },
      "outputs": [
        {
          "output_type": "execute_result",
          "data": {
            "text/plain": [
              "[2]"
            ]
          },
          "metadata": {},
          "execution_count": 5
        }
      ],
      "source": [
        "answer_counts = [] # 解答数のリスト\n",
        "answer_counts.append(data[\"items\"][0][\"answer_count\"])\n",
        "answer_counts"
      ]
    },
    {
      "cell_type": "markdown",
      "metadata": {
        "id": "3-Eh6lN75CG5"
      },
      "source": [
        "後は、この作業をループ処理で書いてみます。"
      ]
    },
    {
      "cell_type": "code",
      "execution_count": 6,
      "metadata": {
        "id": "pEiWHGDc5CG5",
        "outputId": "f6727a3d-e20b-41f5-dbf2-052d437e328f",
        "colab": {
          "base_uri": "https://localhost:8080/"
        }
      },
      "outputs": [
        {
          "output_type": "stream",
          "name": "stdout",
          "text": [
            "[2, 0, 4, 0, 0]\n"
          ]
        }
      ],
      "source": [
        "answer_counts = []\n",
        "for question in data[\"items\"]:\n",
        "    answer_counts.append(question[\"answer_count\"])\n",
        "\n",
        "print(answer_counts[:5]) # 最初の 5 つを出力"
      ]
    },
    {
      "cell_type": "markdown",
      "metadata": {
        "id": "NdhAfCrs5CG5"
      },
      "source": [
        "## 結果の出力まで\n",
        "\n",
        "解答数のリストが用意できたので、平均値を計算し、その結果を出力します。\n",
        "\n",
        "平均値を計算するには、リスト内の数値の合計値を計算する `sum` 関数とリストの長さを計算する `len` 関数を用います。"
      ]
    },
    {
      "cell_type": "code",
      "execution_count": 7,
      "metadata": {
        "id": "M0ZMuyqj5CG5",
        "outputId": "0b7399cc-a67e-4a09-c464-f788e9b4c8af",
        "colab": {
          "base_uri": "https://localhost:8080/"
        }
      },
      "outputs": [
        {
          "output_type": "execute_result",
          "data": {
            "text/plain": [
              "0.8"
            ]
          },
          "metadata": {},
          "execution_count": 7
        }
      ],
      "source": [
        "sum(answer_counts) / len(answer_counts)"
      ]
    },
    {
      "cell_type": "markdown",
      "metadata": {
        "id": "F8no9MGN5CG5"
      },
      "source": [
        "他にも、`mean` 関数を用いることもできます。\n",
        "\n",
        "`mean` 関数は、まず使えるように関数を追加する必要があります。\n",
        "\n",
        "この方法については、別途説明します。"
      ]
    },
    {
      "cell_type": "code",
      "execution_count": 8,
      "metadata": {
        "id": "qOGzE2sI5CG6",
        "outputId": "ac6f4a8e-1541-4d9b-e10a-3e71f0434af7",
        "colab": {
          "base_uri": "https://localhost:8080/"
        }
      },
      "outputs": [
        {
          "output_type": "execute_result",
          "data": {
            "text/plain": [
              "0.8"
            ]
          },
          "metadata": {},
          "execution_count": 8
        }
      ],
      "source": [
        "from statistics import mean\n",
        "mean(answer_counts)"
      ]
    },
    {
      "cell_type": "markdown",
      "metadata": {
        "id": "HEgKC3sj5CG6"
      },
      "source": [
        "分析のコードをまとめると、以下のようになります。\n",
        "\n",
        "プログラミングでは、計画が非常に重要です。\n",
        "\n",
        "まずは大まかなステップに分けて、各ステップで実行可能なレベルまで細かいタスクに分解します。\n",
        "\n",
        "一見面倒ですが、こちらの方が早く終わります。\n",
        "\n",
        "また、知識が足りない場合 (例えばリストに要素を追加する方法) も、細かいタスクに分けていれば、情報探索が容易になるでしょう。"
      ]
    },
    {
      "cell_type": "code",
      "execution_count": 9,
      "metadata": {
        "id": "wsa29S2e5CG6",
        "outputId": "1358aab7-570f-438d-fbf1-d01438944db5",
        "colab": {
          "base_uri": "https://localhost:8080/"
        }
      },
      "outputs": [
        {
          "output_type": "stream",
          "name": "stdout",
          "text": [
            "0.8\n"
          ]
        }
      ],
      "source": [
        "# 1. データの前処理\n",
        "\n",
        "answer_counts = []\n",
        "# 2. 質問を 1 つ取り出す\n",
        "for question in data[\"items\"]:\n",
        "    # 3. 解答数を取得し、別データに追加\n",
        "    answer_counts.append(question[\"answer_count\"])\n",
        "\n",
        "# 4. 平均値の計算して結果を出力\n",
        "print(sum(answer_counts)/len(answer_counts))"
      ]
    }
  ],
  "metadata": {
    "kernelspec": {
      "display_name": ".venv",
      "language": "python",
      "name": "python3"
    },
    "language_info": {
      "codemirror_mode": {
        "name": "ipython",
        "version": 3
      },
      "file_extension": ".py",
      "mimetype": "text/x-python",
      "name": "python",
      "nbconvert_exporter": "python",
      "pygments_lexer": "ipython3",
      "version": "3.11.7"
    },
    "colab": {
      "provenance": [],
      "include_colab_link": true
    }
  },
  "nbformat": 4,
  "nbformat_minor": 0
}