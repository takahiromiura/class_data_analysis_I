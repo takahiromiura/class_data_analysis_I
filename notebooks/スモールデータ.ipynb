{
  "cells": [
    {
      "cell_type": "markdown",
      "metadata": {
        "id": "view-in-github",
        "colab_type": "text"
      },
      "source": [
        "<a href=\"https://colab.research.google.com/github/takahiromiura/class_data_analysis_I/blob/main/notebooks/%E3%82%B9%E3%83%A2%E3%83%BC%E3%83%AB%E3%83%87%E3%83%BC%E3%82%BF.ipynb\" target=\"_parent\"><img src=\"https://colab.research.google.com/assets/colab-badge.svg\" alt=\"Open In Colab\"/></a>"
      ]
    },
    {
      "cell_type": "markdown",
      "metadata": {
        "id": "bra139NfkUvu"
      },
      "source": [
        " # 演習: 健康診断レポート作成\n",
        "\n",
        "リストを使って、以前行った BMI 計算などを含む健康診断レポートプログラムを作成します。\n",
        "\n",
        "今回は、10 人のデータを扱います。\n",
        "\n",
        "健康診断のデータには個人ID, 身長, 体重, 年齢, 血圧のデータが記載されています。"
      ]
    },
    {
      "cell_type": "code",
      "execution_count": null,
      "metadata": {
        "id": "IaZmZBChkUvv",
        "outputId": "5f791d1a-2fe6-4b85-e5e9-7a90bdeb9045"
      },
      "outputs": [
        {
          "data": {
            "text/plain": [
              "['A,167,71,58,135',\n",
              " 'B,160,79,53,111',\n",
              " 'C,178,83,34,133',\n",
              " 'D,173,66,20,129',\n",
              " 'E,176,82,57,122',\n",
              " 'F,167,85,44,94',\n",
              " 'G,160,80,51,106',\n",
              " 'H,151,82,44,132',\n",
              " 'I,153,65,41,108',\n",
              " 'J,169,58,56,91']"
            ]
          },
          "execution_count": 3,
          "metadata": {},
          "output_type": "execute_result"
        }
      ],
      "source": [
        "DATA = [\n",
        "    \"A,167,71,58,135\",\n",
        "    \"B,160,79,53,111\",\n",
        "    \"C,178,83,34,133\",\n",
        "    \"D,173,66,20,129\",\n",
        "    \"E,176,82,57,122\",\n",
        "    \"F,167,85,44,94\",\n",
        "    \"G,160,80,51,106\",\n",
        "    \"H,151,82,44,132\",\n",
        "    \"I,153,65,41,108\",\n",
        "    \"J,169,58,56,91\"\n",
        "]\n",
        "DATA"
      ]
    },
    {
      "cell_type": "markdown",
      "metadata": {
        "id": "GtQQtp4DkUvw"
      },
      "source": [
        "上のようなデータは、`csv` ファイルを読み込んだ場合に発生します。\n",
        "\n",
        "やることは以前と変わらず、BMI と肥満度を計算します。\n",
        "\n",
        "個人毎のデータに対して、個人ID, 身長、体重、BMI, 肥満度の辞書型を作成して、そのリストを作成します。\n",
        "\n",
        "入力データから出力データを作成するのに、どのようなステップが必要か考えてみましょう。\n",
        "\n",
        "項目をコードのコメントに書き入れます。"
      ]
    },
    {
      "cell_type": "code",
      "execution_count": null,
      "metadata": {
        "id": "iUS7TGHNkUvw"
      },
      "outputs": [],
      "source": [
        "# 1. リストから要素を取り出す\n",
        "# 2. 文字列から項目別のデータを抽出する\n",
        "# 3. 個人毎のデータの辞書型を作成する\n",
        "# 4. 処理を繰り返す\n",
        "# 5. 結果をリストにまとめる"
      ]
    },
    {
      "cell_type": "markdown",
      "metadata": {
        "id": "1NFHPzcqkUvw"
      },
      "source": [
        "プログラムの実装は、必ずしもやることリストの上から順に行う必要はありません。\n",
        "\n",
        "例えば、個人毎のデータをリストに付け足していくループ処理を先に書き、データ作成のロジックをその後にしても良いです。\n",
        "\n",
        "どちらを先に実装するかに正解はありませんが、ここでは 2 と 3 を先に行います。\n",
        "\n",
        "まずは例となる文字列を取得します。\n",
        "\n",
        "データから適当な要素を取得して、変数に格納します。"
      ]
    },
    {
      "cell_type": "code",
      "execution_count": null,
      "metadata": {
        "id": "-CCjdUMdkUvw",
        "outputId": "2181ee4c-e54b-436e-fbb3-37d6f739fabe"
      },
      "outputs": [
        {
          "name": "stdout",
          "output_type": "stream",
          "text": [
            "A,167,71,58,135\n"
          ]
        }
      ],
      "source": [
        "# 2. 文字列からデータを抽出する\n",
        "TEXT = DATA[0]\n",
        "print(TEXT)"
      ]
    },
    {
      "cell_type": "markdown",
      "metadata": {
        "id": "98-BXaTUkUvw"
      },
      "source": [
        "`print` 関数は、改行コード `\\n` などがあると改行した結果が表示されます。"
      ]
    },
    {
      "cell_type": "code",
      "execution_count": null,
      "metadata": {
        "id": "cTH1M_QNkUvx",
        "outputId": "94c31d99-ad57-45cf-ad73-2c5875b53519"
      },
      "outputs": [
        {
          "name": "stdout",
          "output_type": "stream",
          "text": [
            "A\n",
            "B\n"
          ]
        }
      ],
      "source": [
        "print(\"A\\nB\")"
      ]
    },
    {
      "cell_type": "markdown",
      "metadata": {
        "id": "XB1dxzGRkUvx"
      },
      "source": [
        "改行コードもそのまま出力したいときは、`repr` 関数を通してから `print` で出力します。"
      ]
    },
    {
      "cell_type": "code",
      "execution_count": null,
      "metadata": {
        "id": "n9d5pLj9kUvx",
        "outputId": "c0c39142-71d7-417a-978f-b9110ae054f5"
      },
      "outputs": [
        {
          "name": "stdout",
          "output_type": "stream",
          "text": [
            "'A\\nB'\n"
          ]
        }
      ],
      "source": [
        "print(repr(\"A\\nB\"))"
      ]
    },
    {
      "cell_type": "markdown",
      "metadata": {
        "id": "LIubQa0zkUvx"
      },
      "source": [
        "## 文字列の解析\n",
        "\n",
        "テキストを解析し、データなどの情報を抽出することを **パース** (parse) といいます。\n",
        "\n",
        "まずは、個人ID, 身長などのデータが 1 つの文字列になっているので、これを小分けにします。\n",
        "\n",
        "`split` メソッドを用いることで、区切り文字に従って文字列をリストに分割できます。\n",
        "\n",
        "デフォルトの区切り文字は空白文字 (スペース、改行コード `\\n` やタブ `\\t`) です。\n",
        "\n",
        "ここではカンマ `,` を区切り文字として用います。"
      ]
    },
    {
      "cell_type": "code",
      "execution_count": null,
      "metadata": {
        "id": "H85eJTXekUvx",
        "outputId": "3d266092-72fd-41e9-f56d-058da7fe6fa6"
      },
      "outputs": [
        {
          "name": "stdout",
          "output_type": "stream",
          "text": [
            "A,167,71,58,135\n",
            "['A', '167', '71', '58', '135']\n"
          ]
        }
      ],
      "source": [
        "# 2. 文字列からデータを抽出する\n",
        "TEXT = DATA[0]\n",
        "print(TEXT) # 入力データの一部 (文字列) を出力\n",
        "\n",
        "TEXT_DATA = TEXT.split(\",\") # 文字列をリストに分割\n",
        "print(TEXT_DATA)"
      ]
    },
    {
      "cell_type": "markdown",
      "metadata": {
        "id": "vkld8AC5kUvx"
      },
      "source": [
        "## 個人毎のデータを作成する\n",
        "\n",
        "テキストデータを分割することまでできたので、次のステップに移ります。\n",
        "\n",
        "ここで、個人毎のデータを作成するのに何が必要か、さらに細かいステップに分けます。\n",
        "\n",
        "コードにサブタスクを追加します。"
      ]
    },
    {
      "cell_type": "code",
      "execution_count": null,
      "metadata": {
        "id": "AVhHE7vUkUvx"
      },
      "outputs": [],
      "source": [
        "# 3. 個人毎のデータの辞書型を作成する\n",
        "#   3.1 身長・体重から BMI を計算する\n",
        "#   3.2 BMI から肥満度のカテゴリー分けをする\n",
        "#   3.3 個人ID, 身長, 体重, BMI, 肥満度の辞書型を作成する"
      ]
    },
    {
      "cell_type": "markdown",
      "metadata": {
        "id": "Dbr8DSj_kUvy"
      },
      "source": [
        "### BMI の計算\n",
        "\n",
        "リストの 1 番目が身長 (cm) で 2 番目が体重 (kg) です。\n",
        "\n",
        "このリストを受け取り、BMI を計算する関数を作成します。\n",
        "\n",
        "リストの中身は文字列なので、`int` クラス・オブジェクトを用いて整数に変換してから計算します。\n",
        "\n",
        "次のような関数を作成します。"
      ]
    },
    {
      "cell_type": "code",
      "execution_count": null,
      "metadata": {
        "id": "SRpX57IYkUvy",
        "outputId": "cf2586c2-f95e-49a2-9fcf-eeff357b16ee"
      },
      "outputs": [
        {
          "name": "stdout",
          "output_type": "stream",
          "text": [
            "25.458065904119906\n"
          ]
        }
      ],
      "source": [
        "# 3.1 身長・体重から BMI を計算する\n",
        "def calc_BMI(data):\n",
        "    height = int(data[1])\n",
        "    weight = int(data[2])\n",
        "    bmi = weight / (height / 100) ** 2\n",
        "    return bmi\n",
        "\n",
        "BMI = calc_BMI(TEXT_DATA)\n",
        "print(BMI)"
      ]
    },
    {
      "cell_type": "markdown",
      "metadata": {
        "id": "5EjQyg2ekUvy"
      },
      "source": [
        "ここでは、小数点 3 桁以降の細かい数値までは必要ありません。\n",
        "\n",
        "`round` 関数を用いて小数点 2 桁まで丸めます。\n",
        "\n",
        "`round(<obj>, i)` とすると、小数点型オブジェクト `<obj>` を `i` 桁まで丸めた結果を返します。"
      ]
    },
    {
      "cell_type": "code",
      "execution_count": null,
      "metadata": {
        "id": "zFaiBRGfkUvy",
        "outputId": "32228c38-8ec0-47b0-cf3a-6a01fd794476"
      },
      "outputs": [
        {
          "name": "stdout",
          "output_type": "stream",
          "text": [
            "25.46\n"
          ]
        }
      ],
      "source": [
        "def calc_BMI(data):\n",
        "    height = int(data[1]) # 文字列型を整数型に変換\n",
        "    weight = int(data[2])\n",
        "    bmi = weight / (height / 100) ** 2\n",
        "    return round(bmi, 2) # 小数点 2 桁丸めた結果を返す\n",
        "\n",
        "BMI = calc_BMI(TEXT_DATA)\n",
        "print(BMI) # BMI を出力"
      ]
    },
    {
      "cell_type": "markdown",
      "metadata": {
        "id": "XsLgMdb6kUvy"
      },
      "source": [
        "### 肥満度カテゴリー分け\n",
        "\n",
        "BMI から肥満度のカテゴリー分けを行う関数を以下のように作成します。"
      ]
    },
    {
      "cell_type": "code",
      "execution_count": null,
      "metadata": {
        "id": "YUQxH71qkUvy",
        "outputId": "cd21e6b7-76ef-4ca4-cc77-fa4462fbf85c"
      },
      "outputs": [
        {
          "name": "stdout",
          "output_type": "stream",
          "text": [
            "肥満\n"
          ]
        }
      ],
      "source": [
        "# 3.2 BMI から肥満度のカテゴリー分けをする\n",
        "def classify_BMI(bmi):\n",
        "    if bmi > 25:\n",
        "        return \"肥満\"\n",
        "\n",
        "    elif bmi < 18.5:\n",
        "        return \"低体重\"\n",
        "\n",
        "    else:\n",
        "        return \"普通体重\"\n",
        "\n",
        "OBESITY = classify_BMI(BMI)\n",
        "print(OBESITY)"
      ]
    },
    {
      "cell_type": "markdown",
      "metadata": {
        "id": "ET4X4YvskUvy"
      },
      "source": [
        "### 診断レポート作成\n",
        "\n",
        "最後に、必要なデータを辞書型にまとめます。"
      ]
    },
    {
      "cell_type": "code",
      "execution_count": null,
      "metadata": {
        "id": "Q8kL6kC0kUvy",
        "outputId": "0e6d1426-de0f-4eab-e905-246c819c0c81"
      },
      "outputs": [
        {
          "name": "stdout",
          "output_type": "stream",
          "text": [
            "{'id': 'A', 'height': 167, 'weight': 71, 'BMI': 25.46, 'Obesity': '肥満'}\n"
          ]
        }
      ],
      "source": [
        "# 3.3 個人ID, 身長, 体重, BMI, 肥満度の辞書型を作成する\n",
        "USER_ID = TEXT_DATA[0]\n",
        "REPORT = {\n",
        "    \"id\": USER_ID,\n",
        "    \"height\": int(TEXT_DATA[1]),\n",
        "    \"weight\": int(TEXT_DATA[2]),\n",
        "    \"BMI\": BMI,\n",
        "    \"Obesity\": OBESITY\n",
        "}\n",
        "print(REPORT) # 診断レポートを出力"
      ]
    },
    {
      "cell_type": "markdown",
      "metadata": {
        "id": "OSMDec9TkUvz"
      },
      "source": [
        " 文字列から診断レポートまでの流れをひとまとめにする `make_report` 関数を作成します。\n",
        "\n",
        " つまり、文字列を入力すると診断レポートを表す辞書型を返す関数を作成します。\n",
        "\n",
        " `calc_BMI`, `classify_BMI` はそのままに、細々とした変数定義などを関数内で行います。"
      ]
    },
    {
      "cell_type": "code",
      "execution_count": null,
      "metadata": {
        "id": "GtKL7yx5kUvz",
        "outputId": "7c5f4b85-23d4-4a91-f753-5242ce8e5a86"
      },
      "outputs": [
        {
          "name": "stdout",
          "output_type": "stream",
          "text": [
            "A,167,71,58,135\n",
            "{'id': 'A', 'height': 167, 'weight': 71, 'BMI': 25.46, 'Obesity': 'Overweight'}\n"
          ]
        }
      ],
      "source": [
        "def make_report(data_str):\n",
        "    data = data_str.split(\",\") # 文字列をリストに分割\n",
        "\n",
        "    # 身長・体重から BMI を計算する\n",
        "    bmi = calc_BMI(data)\n",
        "\n",
        "    # BMI から肥満度のカテゴリー分けをする\n",
        "    obesity = classify_BMI(bmi)\n",
        "\n",
        "    # 個人ID, 身長, 体重, BMI, 肥満度の辞書型を作成する\n",
        "    user_id = data[0]\n",
        "    report = {\n",
        "        \"id\": user_id,\n",
        "        \"height\": int(data[1]),\n",
        "        \"weight\": int(data[2]),\n",
        "        \"BMI\": bmi,\n",
        "        \"Obesity\": obesity\n",
        "    }\n",
        "\n",
        "    # 診断レポートを返す\n",
        "    return report\n",
        "\n",
        "# 入力データの一部を出力\n",
        "TEXT = DATA[0]\n",
        "print(TEXT)\n",
        "print(make_report(TEXT))\n"
      ]
    },
    {
      "cell_type": "markdown",
      "metadata": {
        "id": "AxcQ5dITkUvz"
      },
      "source": [
        "### ループ処理\n",
        "\n",
        "入力データの各要素に対して、`make_report` 関数を使い、診断レポートを作成します。\n",
        "\n",
        "リストのループ処理なので、`for` ループを使います。"
      ]
    },
    {
      "cell_type": "code",
      "execution_count": null,
      "metadata": {
        "id": "MrEsOrcAkUvz",
        "outputId": "4c368c96-861c-47a6-e7be-ccdf01dc9207"
      },
      "outputs": [
        {
          "name": "stdout",
          "output_type": "stream",
          "text": [
            "{'id': 'A', 'height': 167, 'weight': 71, 'BMI': 25.46, 'Obesity': 'Overweight'}\n",
            "{'id': 'B', 'height': 160, 'weight': 79, 'BMI': 30.86, 'Obesity': 'Overweight'}\n",
            "{'id': 'C', 'height': 178, 'weight': 83, 'BMI': 26.2, 'Obesity': 'Overweight'}\n",
            "{'id': 'D', 'height': 173, 'weight': 66, 'BMI': 22.05, 'Obesity': 'Normal'}\n",
            "{'id': 'E', 'height': 176, 'weight': 82, 'BMI': 26.47, 'Obesity': 'Overweight'}\n",
            "{'id': 'F', 'height': 167, 'weight': 85, 'BMI': 30.48, 'Obesity': 'Overweight'}\n",
            "{'id': 'G', 'height': 160, 'weight': 80, 'BMI': 31.25, 'Obesity': 'Overweight'}\n",
            "{'id': 'H', 'height': 151, 'weight': 82, 'BMI': 35.96, 'Obesity': 'Overweight'}\n",
            "{'id': 'I', 'height': 153, 'weight': 65, 'BMI': 27.77, 'Obesity': 'Overweight'}\n",
            "{'id': 'J', 'height': 169, 'weight': 58, 'BMI': 20.31, 'Obesity': 'Normal'}\n"
          ]
        }
      ],
      "source": [
        "# 4. 処理を繰り返す\n",
        "for data_str in DATA:\n",
        "    report = make_report(data_str)\n",
        "    print(report)"
      ]
    },
    {
      "cell_type": "markdown",
      "metadata": {
        "id": "-mp3p4q8kUvz"
      },
      "source": [
        " ### 結果をリストにまとめる\n",
        "\n",
        "\n",
        "\n",
        " 最後に、これらの各診断レポートを一つのリストにまとめます。\n",
        "\n",
        " まずは空のリストを作成し、`append` で追加していきます。"
      ]
    },
    {
      "cell_type": "code",
      "execution_count": null,
      "metadata": {
        "id": "vdY9uw-kkUvz",
        "outputId": "d6d1dc6c-edce-47b0-8311-31f6feb618ab"
      },
      "outputs": [
        {
          "data": {
            "text/plain": [
              "[{'id': 'A',\n",
              "  'height': 167,\n",
              "  'weight': 71,\n",
              "  'BMI': 25.46,\n",
              "  'Obesity': 'Overweight'},\n",
              " {'id': 'B',\n",
              "  'height': 160,\n",
              "  'weight': 79,\n",
              "  'BMI': 30.86,\n",
              "  'Obesity': 'Overweight'},\n",
              " {'id': 'C',\n",
              "  'height': 178,\n",
              "  'weight': 83,\n",
              "  'BMI': 26.2,\n",
              "  'Obesity': 'Overweight'}]"
            ]
          },
          "execution_count": 32,
          "metadata": {},
          "output_type": "execute_result"
        }
      ],
      "source": [
        "# 4. 処理を繰り返す\n",
        "# 5. 結果をリストにまとめる\n",
        "results = []\n",
        "for data_str in DATA:\n",
        "    report = make_report(data_str)\n",
        "    results.append(report) # 診断レポートを追加\n",
        "\n",
        "results[:3] # 最初の 3 つだけ出力"
      ]
    },
    {
      "cell_type": "markdown",
      "metadata": {
        "id": "PYY6OAzPkUvz"
      },
      "source": [
        "## HealthReport クラスを作る\n",
        "\n",
        "データの文字列から、解析、BMI 計算、肥満度カテゴリー分け、データ出力を `HealthReport` クラスにまとめてみます。\n",
        "\n",
        "インスタンスを作成する際にデータの文字列を渡し、`parse_text` メソッドで文字列をリストに分割し、結果をインスタンス属性 `data` に格納します。\n",
        "\n",
        "また、BMI の計算と診断レポート作成の両方で身長・体重を表す文字列を整数型に変換する処理を行っているため、この処理を一か所に集約します。\n",
        "\n",
        "インスタンス属性 `data` から身長を取得するメソッド (`get_height`)、体重を取得するメソッド (`get_weight`) を追加します。\n",
        "\n",
        "ユーザーID を取得するメソッド `get_user_id` はあってもなくても良いです。\n",
        "\n",
        "しかし、どのようなデータを欲しいかと、どうすればそのデータを取得できるかを切り分けて考えられるため、あると便利です。\n",
        "\n",
        "最後に、`make` メソッドで結果を出力します。"
      ]
    },
    {
      "cell_type": "code",
      "execution_count": null,
      "metadata": {
        "id": "u3dy6QeJkUvz",
        "outputId": "17acb6af-ab72-4704-98cb-4d036074317d"
      },
      "outputs": [
        {
          "data": {
            "text/plain": [
              "[{'id': 'A', 'height': 167, 'weight': 71, 'BMI': 25.46, 'Obesity': '肥満'},\n",
              " {'id': 'B', 'height': 160, 'weight': 79, 'BMI': 30.86, 'Obesity': '肥満'},\n",
              " {'id': 'C', 'height': 178, 'weight': 83, 'BMI': 26.2, 'Obesity': '肥満'}]"
            ]
          },
          "execution_count": 38,
          "metadata": {},
          "output_type": "execute_result"
        }
      ],
      "source": [
        "class HealthReport:\n",
        "\n",
        "    def __init__(self, data_str):\n",
        "        self.data_str = data_str # 元の文字列\n",
        "        self.data = self.parse_text(data_str) # 文字列をリストに分解\n",
        "\n",
        "    def parse_text(self, data_str):\n",
        "        return data_str.split(\",\")\n",
        "\n",
        "    def get_user_id(self):\n",
        "        return self.data[0]\n",
        "\n",
        "    def get_height(self):\n",
        "        return int(self.data[1])\n",
        "\n",
        "    def get_weight(self):\n",
        "        return int(self.data[2])\n",
        "\n",
        "    # 身長・体重から BMI を計算する\n",
        "    def calc_BMI(self):\n",
        "        height = self.get_height()\n",
        "        weight = self.get_weight()\n",
        "        bmi = weight / (height / 100) ** 2\n",
        "        return round(bmi, 2) # 小数点 2 桁丸めた結果を返す\n",
        "\n",
        "    # BMI から肥満度のカテゴリー分けをする\n",
        "    def classify_BMI(self):\n",
        "        bmi = self.calc_BMI()\n",
        "        if bmi > 25:\n",
        "            return \"肥満\"\n",
        "\n",
        "        elif bmi < 18.5:\n",
        "            return \"低体重\"\n",
        "\n",
        "        else:\n",
        "            return \"普通体重\"\n",
        "\n",
        "    # 個人ID, 身長, 体重, BMI, 肥満度の辞書型を作成する\n",
        "    def make(self):\n",
        "        return {\n",
        "            \"id\": self.get_user_id(),\n",
        "            \"height\": self.get_height(),\n",
        "            \"weight\": self.get_weight(),\n",
        "            \"BMI\": self.calc_BMI(),\n",
        "            \"Obesity\": self.classify_BMI(),\n",
        "        }\n",
        "\n",
        "results = []\n",
        "for data_str in DATA:\n",
        "    report = HealthReport(data_str).make() # 診断レポートを出力\n",
        "    results.append(report) # 診断レポートを追加\n",
        "\n",
        "results[:3] # 結果の一部を出力"
      ]
    }
  ],
  "metadata": {
    "kernelspec": {
      "display_name": ".venv",
      "language": "python",
      "name": "python3"
    },
    "language_info": {
      "codemirror_mode": {
        "name": "ipython",
        "version": 3
      },
      "file_extension": ".py",
      "mimetype": "text/x-python",
      "name": "python",
      "nbconvert_exporter": "python",
      "pygments_lexer": "ipython3",
      "version": "3.11.7"
    },
    "colab": {
      "provenance": [],
      "include_colab_link": true
    }
  },
  "nbformat": 4,
  "nbformat_minor": 0
}