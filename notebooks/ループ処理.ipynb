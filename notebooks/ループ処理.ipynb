{
 "cells": [
  {
   "cell_type": "markdown",
   "metadata": {},
   "source": [
    " # ループ処理\n",
    "\n",
    " リスト・タプル・辞書型など、データの集まりに対して、逐次的に同じ処理を行っていく方法について学びます。"
   ]
  },
  {
   "cell_type": "markdown",
   "metadata": {},
   "source": [
    "## `print` 関数\n",
    "\n",
    "Colab ノートブックは、以下のコードのように最後の行の結果を出力します。"
   ]
  },
  {
   "cell_type": "code",
   "execution_count": 4,
   "metadata": {},
   "outputs": [
    {
     "data": {
      "text/plain": [
       "[1, 2, 3]"
      ]
     },
     "execution_count": 4,
     "metadata": {},
     "output_type": "execute_result"
    }
   ],
   "source": [
    "NUMS = [1, 2, 3]\n",
    "NUMS"
   ]
  },
  {
   "cell_type": "markdown",
   "metadata": {},
   "source": [
    "以下のように、最後の行で値を参照してない場合は何も出力されません。"
   ]
  },
  {
   "cell_type": "code",
   "execution_count": 5,
   "metadata": {},
   "outputs": [],
   "source": [
    "NUMS\n",
    "NUMS = [4, 5, 6] # 変数再定義"
   ]
  },
  {
   "cell_type": "markdown",
   "metadata": {},
   "source": [
    "最後の行以外の結果も出力するには、`print` 関数を用います。\n",
    "\n",
    "`print` 関数は `()` 内に出力するものを入れます。\n",
    "\n",
    "`print` と `()` の間にスペースは空けられません。"
   ]
  },
  {
   "cell_type": "code",
   "execution_count": 6,
   "metadata": {},
   "outputs": [
    {
     "name": "stdout",
     "output_type": "stream",
     "text": [
      "[4, 5, 6]\n"
     ]
    }
   ],
   "source": [
    "print(NUMS)\n",
    "NUMS = [4, 5, 6]"
   ]
  },
  {
   "cell_type": "markdown",
   "metadata": {},
   "source": [
    "`print` 関数で文字列を出力すると、ダブルクォーテーションおよびシングルクォーテーションは除去されます。"
   ]
  },
  {
   "cell_type": "code",
   "execution_count": 1,
   "metadata": {},
   "outputs": [
    {
     "name": "stdout",
     "output_type": "stream",
     "text": [
      "Hello World!\n"
     ]
    }
   ],
   "source": [
    "print(\"Hello World!\")"
   ]
  },
  {
   "cell_type": "markdown",
   "metadata": {},
   "source": [
    "次のように各要素を出力できます。\n"
   ]
  },
  {
   "cell_type": "code",
   "execution_count": 7,
   "metadata": {},
   "outputs": [
    {
     "name": "stdout",
     "output_type": "stream",
     "text": [
      "1\n",
      "2\n",
      "3\n"
     ]
    }
   ],
   "source": [
    "NUMS = [1, 2, 3]\n",
    "print(NUMS[0])\n",
    "print(NUMS[1])\n",
    "print(NUMS[2])"
   ]
  },
  {
   "cell_type": "markdown",
   "metadata": {},
   "source": [
    " ## `for` ループ\n",
    "\n",
    "\n",
    " まずは、`for` ループから学びます。\n",
    "\n",
    " 次のように、`1, 2, 3` という数値が入っているリストがあり、これらの要素を `print` 関数で出力したいとします。"
   ]
  },
  {
   "cell_type": "markdown",
   "metadata": {},
   "source": [
    " 各処理はインデックスが異なるだけで、同じ処理を繰り返し行っています。\n",
    "\n",
    " 処理を分解すると、次のようになるでしょう。\n",
    "\n",
    "\n",
    "\n",
    " 1. `i` 番目の要素を `NUMS` から取り出す\n",
    "\n",
    " 2. `i` 番目の要素を `print` で出力する\n",
    "\n",
    " 3. `i < len(NUMS)` なら `i = i + 1` として、1 に戻る。そうでないなら処理を終了する\n",
    "\n",
    "\n",
    "\n",
    " 最後の部分は、左から要素を取り出して、2 番目の要素に達したら処理を終えていることを表現しています。\n",
    "\n",
    " これを **ループ処理** (looping)といいます。\n",
    "\n",
    " ループ処理は、繰り返し行う処理と終了条件 (または継続条件) から成り立っています。\n",
    "\n",
    " ループ処理内で繰り返し行う処理を **イテレーション** (iteration) と呼びます。\n",
    "\n",
    " また、要素を逐次的に取り出すことができる機能を持つオブジェクトを **イタレーター** (iterator) といいます。\n",
    "\n",
    " リスト型、タプル型、辞書型、文字列型はイタレーターで、数値型はイタレーターではありません。\n"
   ]
  },
  {
   "cell_type": "markdown",
   "metadata": {},
   "source": [
    " ### `for` 構文\n",
    "\n",
    "\n",
    " `for` 構文を用いることで、このループ処理が実行できます。\n",
    "\n",
    " 構文の規則は次のようなものです。\n",
    "\n",
    "```py\n",
    "for i in <data>:\n",
    "    <operation>\n",
    "```\n",
    "\n",
    "リストやタプルなどのイタレータで、`for i in <data>` は、この `<data>` の各要素を逐次的に `i` という変数に格納するということを意味しています。\n",
    "\n",
    "`if` でもあったように、`:` を最後につけるのを忘れないようにしてください。\n",
    "\n",
    " `<operation>` は繰り返し行う処理の内容で、`def` や `if` と同様、インデントブロックで処理内容を表記します。"
   ]
  },
  {
   "cell_type": "markdown",
   "metadata": {},
   "source": [
    " ### リスト・タプルの `for` ループ\n",
    "\n",
    " 先ほどの処理を実際に `for` ループで書いてみます。"
   ]
  },
  {
   "cell_type": "code",
   "execution_count": null,
   "metadata": {},
   "outputs": [],
   "source": [
    "# %%\n",
    "NUMS = [1, 2, 3]\n",
    "for i in NUMS:\n",
    "    print(i)"
   ]
  },
  {
   "cell_type": "markdown",
   "metadata": {},
   "source": [
    " `for` ループで作成した変数 (先の例では `i`) は、ループ処理が終わっても破棄されないことに注意してください。\n",
    "\n",
    " 例えば、次のように `for` ループで使っている変数名が先に使われていると、意図せず値が書き換わってしまいます。\n",
    "\n"
   ]
  },
  {
   "cell_type": "code",
   "execution_count": null,
   "metadata": {},
   "outputs": [],
   "source": [
    "# %%\n",
    "num = 1000\n",
    "print(num)\n",
    "NUMS = [1, 2, 3]\n",
    "for num in NUMS:\n",
    "    print(num)\n",
    "print(num)"
   ]
  },
  {
   "cell_type": "markdown",
   "metadata": {},
   "source": [
    " タプルでも使い方は同じです。\n",
    "\n"
   ]
  },
  {
   "cell_type": "markdown",
   "metadata": {},
   "source": [
    " # やってみよう\n",
    "\n",
    "\n",
    "\n",
    " `1, 2, 3, 4, 5` のタプルを作成し、`for` ループを使い次の処理をしてください。\n",
    "\n",
    " - 各要素を `print` で出力\n",
    "\n",
    " - 3 以上の要素のカウント\n",
    "\n"
   ]
  },
  {
   "cell_type": "markdown",
   "metadata": {},
   "source": [
    " ### 辞書型の `for` ループ\n",
    "\n",
    "\n",
    "\n",
    " 辞書型はリストやタプルなどのシーケンスとは異なり、値が `key-value` のペアの集合であるため、どれを取り出したいかで書き方が少し違います。\n",
    "\n",
    " 例えば、以下のような辞書型オブジェクトを作成したとします。\n",
    "\n"
   ]
  },
  {
   "cell_type": "code",
   "execution_count": null,
   "metadata": {},
   "outputs": [],
   "source": [
    "# %%\n",
    "fruits = {\n",
    "   \"apple\": 100,\n",
    "   \"banana\": 200,\n",
    "}"
   ]
  },
  {
   "cell_type": "markdown",
   "metadata": {},
   "source": [
    " 場合によって、`key` (`\"apple\"`, `\"banana\"`) だけを取り出したい場合や、`value` (`100`, `200`) だけを取り出したい場合、`key-value` のペアを取り出したい場合があると思います。\n",
    "\n",
    " 単純に辞書型オブジェクトを `for` ループにかけると、`key` が逐次的に取り出されます。\n",
    "\n"
   ]
  },
  {
   "cell_type": "code",
   "execution_count": null,
   "metadata": {},
   "outputs": [],
   "source": [
    "# %%\n",
    "fruits = {\n",
    "    \"apple\": 100,\n",
    "    \"banana\": 200,\n",
    "}\n",
    "for i in fruits: # key が逐次的に取り出される\n",
    "    print(i)"
   ]
  },
  {
   "cell_type": "markdown",
   "metadata": {},
   "source": [
    " `keys` メソッドを使っても、同じように `key` が取り出されます。\n",
    "\n"
   ]
  },
  {
   "cell_type": "code",
   "execution_count": null,
   "metadata": {},
   "outputs": [],
   "source": [
    "# %%\n",
    "fruits = {\n",
    "    \"apple\": 100,\n",
    "    \"banana\": 200,\n",
    "}\n",
    "for i in fruits.keys(): # key が逐次的に取り出される\n",
    "    print(i)"
   ]
  },
  {
   "cell_type": "markdown",
   "metadata": {},
   "source": [
    " `values` メソッドを使うと、ループ処理で `value` が逐次的に取り出されます。\n",
    "\n"
   ]
  },
  {
   "cell_type": "code",
   "execution_count": null,
   "metadata": {},
   "outputs": [],
   "source": [
    "# %%\n",
    "fruits = {\n",
    "    \"apple\": 100,\n",
    "    \"banana\": 200,\n",
    "}\n",
    "for i in fruits.values(): # value が逐次的に取り出される\n",
    "    print(i)"
   ]
  },
  {
   "cell_type": "markdown",
   "metadata": {},
   "source": [
    " `items` メソッドを使うと、`key-value` のペアがタプル `(key, value)` として取り出されます。\n",
    "\n"
   ]
  },
  {
   "cell_type": "code",
   "execution_count": null,
   "metadata": {},
   "outputs": [],
   "source": [
    "# %%\n",
    "fruits = {\n",
    "    \"apple\": 100,\n",
    "    \"banana\": 200,\n",
    "}\n",
    "for i in fruits.items(): # key-value が逐次的に取り出される\n",
    "    print(i)"
   ]
  },
  {
   "cell_type": "markdown",
   "metadata": {},
   "source": [
    " タプルやリストは、各要素に対応する変数を定義することで、展開 (アンパック: unpack)することができます。\n",
    "\n"
   ]
  },
  {
   "cell_type": "code",
   "execution_count": null,
   "metadata": {},
   "outputs": [],
   "source": [
    "# %%\n",
    "i = (100, 200) # i にタプルが格納される\n",
    "print(i)\n",
    "j, k = (100, 200) # j に 100, k に 200 が格納される\n",
    "print(j)\n",
    "print(k)"
   ]
  },
  {
   "cell_type": "markdown",
   "metadata": {},
   "source": [
    " これを利用して、`key-value` を取り出すときに、それぞれに対応する変数を用意すると便利です。\n",
    "\n"
   ]
  },
  {
   "cell_type": "code",
   "execution_count": null,
   "metadata": {},
   "outputs": [],
   "source": [
    "# %%\n",
    "fruits = {\n",
    "    \"apple\": 100,\n",
    "    \"banana\": 200,\n",
    "}\n",
    "for key, value in fruits.items(): # key-value が逐次的に取り出される\n",
    "    print(key)\n",
    "    print(value)"
   ]
  },
  {
   "cell_type": "markdown",
   "metadata": {},
   "source": [
    " # やってみよう\n",
    "\n",
    "\n",
    "\n",
    " `{\"apple\": 100, \"banana\": 200, \"cherry\": 300}` の辞書を作成し、`value` が 200 以上の `key` だけを出力してください。\n",
    "\n"
   ]
  },
  {
   "cell_type": "markdown",
   "metadata": {},
   "source": [
    " ### `for` ループに便利な関数\n",
    "\n",
    "\n",
    "\n",
    " #### `range`\n",
    "\n",
    "\n",
    "\n",
    " `range` 関数は連番の整数のイタレーターを返します。\n",
    "\n",
    " 例えば、`1 ~ 10` までの合計を計算したい場合、わざわざ連番のリストを作成する必要がなくなります。\n",
    "\n",
    " `range(5)` とすると、各イテレーションで `0` から `5` の直前 (`4`) までを返します。\n",
    "\n"
   ]
  },
  {
   "cell_type": "code",
   "execution_count": null,
   "metadata": {},
   "outputs": [],
   "source": [
    "# %%\n",
    "for i in range(5):\n",
    "    print(i)"
   ]
  },
  {
   "cell_type": "markdown",
   "metadata": {},
   "source": [
    " これは次と同じです。\n",
    "\n"
   ]
  },
  {
   "cell_type": "code",
   "execution_count": null,
   "metadata": {},
   "outputs": [],
   "source": [
    "# %%\n",
    "for i in [0, 1, 2, 3, 4]:\n",
    "    print(i)"
   ]
  },
  {
   "cell_type": "markdown",
   "metadata": {},
   "source": [
    " 引数を 2 つ入れると、開始番号をずらすことができます。\n",
    "\n",
    " `range(i, j)` とすると、`i` から `j` の直前までの整数を各イテレーションで返します。\n",
    "\n"
   ]
  },
  {
   "cell_type": "code",
   "execution_count": null,
   "metadata": {},
   "outputs": [],
   "source": [
    "# %%\n",
    "for i in range(5, 10):\n",
    "    print(i)"
   ]
  },
  {
   "cell_type": "markdown",
   "metadata": {},
   "source": [
    " また、`list` 関数や `tuple` 関数などを使って、`range` 関数から連番のリスト、タプルを生成することもできます。\n",
    "\n"
   ]
  },
  {
   "cell_type": "code",
   "execution_count": null,
   "metadata": {},
   "outputs": [],
   "source": [
    "# %%\n",
    "list(range(5))"
   ]
  },
  {
   "cell_type": "markdown",
   "metadata": {},
   "source": [
    " # やってみよう\n",
    "\n",
    "\n",
    "\n",
    " `range` 関数を使って、1 から 10 までの数の合計を計算してください。\n",
    "\n"
   ]
  },
  {
   "cell_type": "markdown",
   "metadata": {},
   "source": [
    " ### `enumerate`\n",
    "\n",
    "\n",
    "\n",
    " ループ処理内で、何回目のイテレーションなのかをカウントしたい場合があります。\n",
    "\n",
    " これは次のようにできます。\n",
    "\n"
   ]
  },
  {
   "cell_type": "code",
   "execution_count": null,
   "metadata": {},
   "outputs": [],
   "source": [
    "# %%\n",
    "counter = 0\n",
    "for i in [10, 100, 1000]:\n",
    "    print(i, counter) # 各要素とカウンターの値を出力\n",
    "    counter = counter + 1 # カウンターの値を 1 つ増やす"
   ]
  },
  {
   "cell_type": "markdown",
   "metadata": {},
   "source": [
    " `enumerate` 関数を使っても同じことが可能です。\n",
    "\n",
    " この関数はイテレーターを引数にして、イテレーションの回数の値 `counter` とイテレーターの要素 `i` のタプル `(counter, i)` を返します。\n",
    "\n",
    " タプルの順番に気を付けてください。\n",
    "\n"
   ]
  },
  {
   "cell_type": "code",
   "execution_count": null,
   "metadata": {},
   "outputs": [],
   "source": [
    "# %%\n",
    "for counter, i in enumerate([10, 100, 1000]):\n",
    "    print(i, counter) # 各要素とカウンターの値を出力"
   ]
  },
  {
   "cell_type": "markdown",
   "metadata": {},
   "source": [
    " 2 番目の引数に、カウンターの初期値を入れることができます。\n",
    "\n",
    " 例えば、次はカウンターの初期値を 1 にした場合のコードです。\n",
    "\n"
   ]
  },
  {
   "cell_type": "code",
   "execution_count": null,
   "metadata": {},
   "outputs": [],
   "source": [
    "# %%\n",
    "for counter, i in enumerate([10, 100, 1000], 1):\n",
    "    print(i, counter) # 各要素とカウンターの値を出力"
   ]
  },
  {
   "cell_type": "markdown",
   "metadata": {},
   "source": [
    " # やってみよう\n",
    "\n",
    "\n",
    "\n",
    " `\"red\", \"blue\", \"green\", \"yellow\"` のリストを作成し、`enumerate` を用いてインデックスが奇数の要素のみを出力してください。\n",
    "\n"
   ]
  },
  {
   "cell_type": "markdown",
   "metadata": {},
   "source": [
    " ### `zip`\n",
    "\n",
    "\n",
    "\n",
    " 複数のイテレーターを同じイテレーションに組み込みたい場合、`zip` 関数を使います。\n",
    "\n",
    " `zip` で複数のイテレーターオブジェクトをくるむと、各イテレーターの要素のタプルが返ってきます。\n",
    "\n",
    " 例えば、`1, 2, 3` と `apple, banana, orange` という 2 つのリストを組み合わせたループ処理を実行するには次のようにできます。\n",
    "\n"
   ]
  },
  {
   "cell_type": "code",
   "execution_count": null,
   "metadata": {},
   "outputs": [],
   "source": [
    "# %%\n",
    "NUMS = [1, 2, 3]\n",
    "FRUITS = [\"apple\", \"banana\", \"orange\"]\n",
    "for num, fruit in zip(NUMS, FRUITS): # 各要素をまとめて取り出す\n",
    "    print(num, fruit)"
   ]
  },
  {
   "cell_type": "markdown",
   "metadata": {},
   "source": [
    " # やってみよう\n",
    "\n",
    "\n",
    "\n",
    " `\"Alice\", \"Bob\", \"Charlie\"` と `24, 30, 35` のリストをそれぞれ作成し、`zip` 関数を使って結合した各ペアの要素を出力してください。\n",
    "\n"
   ]
  },
  {
   "cell_type": "markdown",
   "metadata": {},
   "source": [
    " ## `while` ループ\n",
    "\n",
    "\n",
    "\n",
    " 条件が達成されなくなるまで、ループ処理を行うには `while` 構文を用います。\n",
    "\n",
    " 構文の規則は次のようなものです。\n",
    "\n"
   ]
  },
  {
   "cell_type": "code",
   "execution_count": null,
   "metadata": {},
   "outputs": [],
   "source": [
    "# %%\n",
    "while <cond>:\n",
    "    <operation>"
   ]
  },
  {
   "cell_type": "markdown",
   "metadata": {},
   "source": [
    " 以下のような処理が行われます。\n",
    "\n",
    "\n",
    "\n",
    " 1. `<operation>` が実行される\n",
    "\n",
    " 2. `<cond>` が `False` なら処理を終える。`<cond>` が `True` なら 1 に戻る\n",
    "\n",
    "\n",
    "\n",
    " 例えば、次はリストの要素を順に取り出していき、負の値に当たるまでカウントします。\n",
    "\n"
   ]
  },
  {
   "cell_type": "code",
   "execution_count": null,
   "metadata": {},
   "outputs": [],
   "source": [
    "# %%\n",
    "NUMS = [10, 300, -5, 10]\n",
    "counter = 0\n",
    "while NUMS[counter] >= 0:\n",
    "   print(NUMS[counter]) # `i` 番目の要素を取り出す\n",
    "   counter += 1 # カウントアップ"
   ]
  },
  {
   "cell_type": "markdown",
   "metadata": {},
   "source": [
    " `counter += 1` は `counter = counter + 1` と同値です。\n",
    "\n",
    "\n",
    "\n",
    " `NUMS[counter] >= 0` はそれぞれ、`10 >= 0`, `300 >= 0`, `-5 >= 0` を評価しており、最後は `False` なので処理が終了しています。\n",
    "\n",
    "\n",
    "\n",
    " 一般的には `for` ループが使われることが多いですが、数値解析の場面で `while` ループはよく使われます。\n",
    "\n",
    " パラメータの収束条件に達するまで (ある閾値を下回るまで)、パラメータを更新します。\n",
    "\n"
   ]
  },
  {
   "cell_type": "markdown",
   "metadata": {},
   "source": [
    " # やってみよう\n",
    "\n",
    "\n",
    "\n",
    " `5, 10, 15, 20, 25` のリストを作成して、次の `while` ループ処理を実行してください。\n",
    "\n",
    " - 要素を順に加算して、合計が 50 を越した時点でループを終了する\n",
    "\n",
    " - 終了した時の合計値を出力する"
   ]
  }
 ],
 "metadata": {
  "kernelspec": {
   "display_name": ".venv",
   "language": "python",
   "name": "python3"
  },
  "language_info": {
   "codemirror_mode": {
    "name": "ipython",
    "version": 3
   },
   "file_extension": ".py",
   "mimetype": "text/x-python",
   "name": "python",
   "nbconvert_exporter": "python",
   "pygments_lexer": "ipython3",
   "version": "3.11.9"
  }
 },
 "nbformat": 4,
 "nbformat_minor": 2
}
