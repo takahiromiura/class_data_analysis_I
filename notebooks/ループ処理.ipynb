{
  "cells": [
    {
      "cell_type": "markdown",
      "metadata": {
        "id": "view-in-github",
        "colab_type": "text"
      },
      "source": [
        "<a href=\"https://colab.research.google.com/github/takahiromiura/class_data_analysis_I/blob/feature%2Flecture4/notebooks/%E3%83%AB%E3%83%BC%E3%83%97%E5%87%A6%E7%90%86.ipynb\" target=\"_parent\"><img src=\"https://colab.research.google.com/assets/colab-badge.svg\" alt=\"Open In Colab\"/></a>"
      ]
    },
    {
      "cell_type": "markdown",
      "metadata": {
        "id": "wOpWsKyAvyfC"
      },
      "source": [
        "# ループ処理\n",
        "\n",
        "データ分析では同じ処理を繰り返すことが多いです。\n",
        "\n",
        "A さんの年齢が 30 以上かどうか、B さんの年齢はどうか、C さんは、などのように。\n",
        "\n",
        "ここでは、このような繰り返し処理 **ループ処理** の方法、for ループと while ループについて学びます。"
      ]
    },
    {
      "cell_type": "markdown",
      "metadata": {
        "id": "Xv1lVxwyvyfD"
      },
      "source": [
        "## for ループ\n",
        "\n",
        "まずは、for ループから学びます。\n",
        "\n",
        "先ほどのように、`1, 2, 3` という数値が入っているリストがあり、これらの要素を `print` 関数で出力したいとします。\n",
        "\n",
        "各処理はインデックスが異なるだけで、同じ処理を繰り返し行っています。\n",
        "\n",
        "処理を分解すると、次のようになるでしょう。\n",
        "\n",
        " 1. `i` 番目の要素を `NUMS` から取り出す (最初は `i = 0` とする)。\n",
        "\n",
        " 2. `i` 番目の要素を `print` で出力する\n",
        "\n",
        " 3. `i < 2` なら `i = i + 1` として、1 に戻る。そうでないなら処理を終了する。\n",
        "\n",
        " 最後の部分は、左から要素を取り出して、2 番目の要素に達したら処理を終えていることを表現しています。\n",
        "\n",
        " これを **ループ処理** (looping)といいます。\n",
        "\n",
        " ループ処理は、繰り返し行う処理と終了条件 (または継続条件) から成り立っています。\n",
        "\n",
        " ループ処理内で繰り返し行う処理を **イテレーション** (iteration) と呼びます。\n",
        "\n",
        " また、要素を逐次的に取り出すことができる機能を持つオブジェクトを **イタレーター** (iterator) といいます。\n",
        "\n",
        " リスト型、タプル型、辞書型、文字列型はイタレーターで、数値型はイタレーターではありません。\n"
      ]
    },
    {
      "cell_type": "markdown",
      "metadata": {
        "id": "zP33afbbvyfE"
      },
      "source": [
        "### やってみよう\n",
        "\n",
        "1 から 10 までの整数が入ったリストがあり、要素の合計値を計算したいとします。\n",
        "\n",
        "このような場合、どのようなループ処理をすればよいですか。\n",
        "\n",
        "上の例のように、処理を分解して考えてください。"
      ]
    },
    {
      "cell_type": "markdown",
      "metadata": {
        "id": "Cmlg510svyfE"
      },
      "source": [
        "### for 構文\n",
        "\n",
        "for 構文を用いることで、このループ処理が実行できます。\n",
        "\n",
        "以下が構文の規則です。\n",
        "\n",
        "```py\n",
        "for i in <data>:\n",
        "    <operation>\n",
        "```\n",
        "\n",
        "`<data>` はリストやタプルなどのイタレータです。\n",
        "\n",
        "`for i in <data>` は、この `<data>` の各要素を逐次的に `i` という変数に格納するということを意味しています。\n",
        "\n",
        "また、`:` を最後につけるのを忘れないようにしてください。\n",
        "\n",
        "`<operation>` は繰り返し行う処理の内容で、条件分岐の時と同様、インデントブロックで処理内容を表記します。"
      ]
    },
    {
      "cell_type": "markdown",
      "metadata": {
        "id": "px1vv96XvyfE"
      },
      "source": [
        " ### リスト・タプルの for ループ\n",
        "\n",
        " 先ほどの処理を実際に for ループで書いてみます。"
      ]
    },
    {
      "cell_type": "code",
      "execution_count": 1,
      "metadata": {
        "id": "9B9ehEBivyfE",
        "outputId": "970d9520-3eaf-40f2-9e84-3f64b56a2322",
        "colab": {
          "base_uri": "https://localhost:8080/"
        }
      },
      "outputs": [
        {
          "output_type": "stream",
          "name": "stdout",
          "text": [
            "1\n",
            "2\n",
            "3\n"
          ]
        }
      ],
      "source": [
        "NUMS = [1, 2, 3]\n",
        "for i in NUMS:\n",
        "    print(i)"
      ]
    },
    {
      "cell_type": "markdown",
      "metadata": {
        "id": "2zGZQhN5vyfF"
      },
      "source": [
        "for ループで作成した変数 (先の例では `i`) は、ループ処理が終わっても破棄されないことに注意してください。\n",
        "\n",
        "例えば、次のように for ループで使っている変数名が先に使われていると、意図せず値が書き換わってしまいます。"
      ]
    },
    {
      "cell_type": "code",
      "execution_count": 2,
      "metadata": {
        "id": "5PMETMkKvyfF",
        "outputId": "a6400742-2695-4624-add6-11cb3c4e2219",
        "colab": {
          "base_uri": "https://localhost:8080/"
        }
      },
      "outputs": [
        {
          "output_type": "stream",
          "name": "stdout",
          "text": [
            "1000\n",
            "1\n",
            "2\n",
            "3\n",
            "3\n"
          ]
        }
      ],
      "source": [
        "num = 1000\n",
        "print(num) # 1000\n",
        "\n",
        "NUMS = [1, 2, 3]\n",
        "for num in NUMS: # ここで変数が再定義される\n",
        "    print(num)\n",
        "\n",
        "print(num) # 3"
      ]
    },
    {
      "cell_type": "markdown",
      "metadata": {
        "id": "u0fjcWUKvyfF"
      },
      "source": [
        " タプルでも使い方は同じです。\n",
        "\n"
      ]
    },
    {
      "cell_type": "markdown",
      "metadata": {
        "id": "d0PUZ0k9vyfF"
      },
      "source": [
        "#### やってみよう\n",
        "\n",
        "5 つの適当な数値からなるタプルがあり、その合計値を計算したいとします。\n",
        "\n",
        "1. 適当な数値を使い、タプルを作成してください\n",
        "\n",
        "2. for ループを使わないで、合計値を計算してください。\n",
        "\n",
        "3. for ループを使って、合計値を計算してください。\n",
        "\n",
        "ヒント:\n",
        "\n",
        "- `x = k` を定義した後に `x = k + j` または `x += j` とすると元の数値に `j` を足した値が `x` として再定義されます。"
      ]
    },
    {
      "cell_type": "markdown",
      "metadata": {
        "id": "KLirIW4tvyfG"
      },
      "source": [
        "## while ループ\n",
        "\n",
        "for ループは、イタレーターの最後に到達したら自動的にループが終了します。\n",
        "\n",
        "そのため、終了条件(および継続条件)は明示する必要がありませんでした。\n",
        "\n",
        "継続条件を明示して、条件が達成されなくなるまでループ処理を行うには `while` 構文を用います。\n",
        "\n",
        "構文の規則は次のようなものです。\n",
        "\n",
        "```py\n",
        "while <cond>:\n",
        "    <operation>\n",
        "```\n",
        "\n",
        "以下のような処理が行われます。\n",
        "\n",
        "1. `<operation>` が実行される\n",
        "\n",
        "2. `<cond>` が評価され、`False` なら処理を終える。`True` なら 1 に戻る。\n",
        "\n",
        "例えば、次はリストの要素を順に取り出していき、負の値に当たるまでカウントします。"
      ]
    },
    {
      "cell_type": "code",
      "execution_count": 3,
      "metadata": {
        "id": "nPVS1KTPvyfG",
        "outputId": "746e58f0-cfcb-4655-9b44-e74a22d7a74a",
        "colab": {
          "base_uri": "https://localhost:8080/"
        }
      },
      "outputs": [
        {
          "output_type": "stream",
          "name": "stdout",
          "text": [
            "10\n",
            "300\n"
          ]
        }
      ],
      "source": [
        "NUMS = [10, 300, -5, 10]\n",
        "counter = 0\n",
        "while NUMS[counter] >= 0:\n",
        "   print(NUMS[counter]) # `i` 番目の要素を取り出す\n",
        "   counter += 1 # カウントアップ"
      ]
    },
    {
      "cell_type": "markdown",
      "metadata": {
        "id": "2XSIkMCMvyfG"
      },
      "source": [
        "`NUMS[counter] >= 0` はそれぞれ、`10 >= 0`, `300 >= 0`, `-5 >= 0` を評価しており、最後は `False` なので処理が終了しています。\n",
        "\n",
        "`counter += 1` は `counter = counter + 1` と同値です。\n",
        "\n",
        "for ループとは異なり、`counter` を変化させないとループは終わらないことに注意してください。\n",
        "\n",
        "処理が止まらない場合は、Colab ではコードセルの左の四角のアイコンを押してください。\n",
        "\n",
        "または、`ランタイム -> 実行を中断` を行います。\n",
        "\n",
        "一般的には `for` ループが使われることが多いですが、数値解析などでは `while` ループが使われます。\n",
        "\n",
        "例えば、パラメータの収束条件に達するまで (ある閾値を下回るまで)、パラメータを更新する時に `while` ループを用います。"
      ]
    },
    {
      "cell_type": "markdown",
      "metadata": {
        "id": "zfB20K_0vyfG"
      },
      "source": [
        " ### やってみよう\n",
        "\n",
        " `5, 10, 15, 20, 25` のリストを作成して、次の `while` ループ処理を実行してください。\n",
        "\n",
        " - 要素を順に加算して、合計が 50 を越した時点でループを終了する\n",
        "\n",
        " - 終了した時の合計値を出力する"
      ]
    }
  ],
  "metadata": {
    "kernelspec": {
      "display_name": ".venv",
      "language": "python",
      "name": "python3"
    },
    "language_info": {
      "codemirror_mode": {
        "name": "ipython",
        "version": 3
      },
      "file_extension": ".py",
      "mimetype": "text/x-python",
      "name": "python",
      "nbconvert_exporter": "python",
      "pygments_lexer": "ipython3",
      "version": "3.11.7"
    },
    "colab": {
      "provenance": [],
      "include_colab_link": true
    }
  },
  "nbformat": 4,
  "nbformat_minor": 0
}