{
  "cells": [
    {
      "cell_type": "markdown",
      "metadata": {
        "id": "view-in-github",
        "colab_type": "text"
      },
      "source": [
        "<a href=\"https://colab.research.google.com/github/takahiromiura/class_data_analysis_I/blob/main/notebooks/%E3%83%A2%E3%82%B8%E3%83%A5%E3%83%BC%E3%83%AB.ipynb\" target=\"_parent\"><img src=\"https://colab.research.google.com/assets/colab-badge.svg\" alt=\"Open In Colab\"/></a>"
      ]
    },
    {
      "cell_type": "markdown",
      "metadata": {
        "id": "PQ28-IWqjvse"
      },
      "source": [
        " # モジュール・パッケージ・ライブラリ\n",
        "\n",
        "Python の基本的な機能だけでも簡単な計算や分析などが可能ですが、それだけでは足りないこともあります。\n",
        "\n",
        "ここでは、そういった追加機能を使うための方法や、追加機能を外部からインストールするための方法を学びます。"
      ]
    },
    {
      "cell_type": "markdown",
      "metadata": {
        "id": "et3AgNeLjvsg"
      },
      "source": [
        "## モジュールとは\n",
        "\n",
        "Python を立ち上げたときに使える関数 (`len` 関数など) やクラス (`int` 型など) はそれぞれ組み込み関数・クラス、または **ビルトイン** (built-in) 関数・クラスと呼ばれます。\n",
        "\n",
        "しかし、それだけでは機能が不十分です。\n",
        "\n",
        "そのような場合、**モジュール** (module) を追加します。\n",
        "\n",
        "モジュールとは、クラスや関数などの集まりを指します。\n",
        "\n",
        "モジュールは単なる Python のスクリプトです。"
      ]
    },
    {
      "cell_type": "markdown",
      "metadata": {
        "id": "uGi3GVTyjvsg"
      },
      "source": [
        "### `import` 構文\n",
        "\n",
        "時間のデータを扱いたいとします。\n",
        "\n",
        "`2022/12/24` というデータから、年 (`2022`) だけを参照したり、ある日時との差を計算したりといった機能が欲しいです。\n",
        "\n",
        "このような場合、`str` 型では不十分であり、当然 `int` 型などの数値型でも扱いが難しいです。\n",
        "\n",
        "Python には `datetime` モジュールという、時間を扱うクラス・関数が用意されています。\n",
        "\n",
        "モジュールを追加するには、`import` 構文を使用します。\n",
        "\n",
        "`<module_name>` を追加するには次のように書きます。\n",
        "\n",
        "```py\n",
        "import <module_name>\n",
        "```\n",
        "\n",
        "下のコードは `datetime` モジュールを追加しています。"
      ]
    },
    {
      "cell_type": "code",
      "execution_count": 1,
      "metadata": {
        "id": "AuNhUDzajvsh"
      },
      "outputs": [],
      "source": [
        "import datetime"
      ]
    },
    {
      "cell_type": "markdown",
      "metadata": {
        "id": "GvWrfbO8jvsh"
      },
      "source": [
        "モジュールが正しく追加された場合は、何も出力されません。\n",
        "\n",
        "モジュールが見つからない場合には、エラー (`ModuleNotFoundError`) が返ってきます。"
      ]
    },
    {
      "cell_type": "code",
      "execution_count": 2,
      "metadata": {
        "id": "LJ8-1Gwujvsh"
      },
      "outputs": [],
      "source": [
        "# import wrong_module"
      ]
    },
    {
      "cell_type": "markdown",
      "metadata": {
        "id": "5f0Shc0ojvsh"
      },
      "source": [
        "モジュールを追加すると、以降はそのモジュールが使用可能です。\n",
        "\n",
        "セッションを新たに立ち上げた場合、再度モジュールを追加する必要があることに注意してください。\n",
        "\n",
        "追加した `datetime` モジュールを参照してみます。"
      ]
    },
    {
      "cell_type": "code",
      "execution_count": 3,
      "metadata": {
        "id": "ZkS_Tjvtjvsi",
        "outputId": "4b84c870-9ae4-44c4-a6ce-031fd2d3cf91",
        "colab": {
          "base_uri": "https://localhost:8080/"
        }
      },
      "outputs": [
        {
          "output_type": "execute_result",
          "data": {
            "text/plain": [
              "<module 'datetime' from '/usr/lib/python3.10/datetime.py'>"
            ]
          },
          "metadata": {},
          "execution_count": 3
        }
      ],
      "source": [
        "datetime"
      ]
    },
    {
      "cell_type": "markdown",
      "metadata": {
        "id": "oSg4A9jpjvsi"
      },
      "source": [
        "`datetime` モジュールが `datetime.py` から追加されていると書いてあります。\n",
        "\n",
        "モジュールは `py` スクリプト内に定義されているクラス・関数・定数などを追加しているのです。\n",
        "\n",
        "`datetime.py` 内のオブジェクトは `datetime` という名前にまとめられています (**名前空間** と呼びます)。\n",
        "\n",
        "モジュール内のクラスなどを使うには、クラスの属性を呼び出すときのようにドット `.` を用いて、 `<module_name>.<obj>` とします。\n",
        "\n",
        "例えば、`datetime` モジュール内には、時間を扱う `datetime` クラスや日にちを扱う `date` クラスなどがあります。\n",
        "\n",
        "以下のコードは、これらを `datetime` モジュールから参照しています。"
      ]
    },
    {
      "cell_type": "code",
      "execution_count": 4,
      "metadata": {
        "id": "EHwgP2wxjvsi",
        "outputId": "c5c0c221-43d9-4df5-fe20-9c2dc7673fcb",
        "colab": {
          "base_uri": "https://localhost:8080/"
        }
      },
      "outputs": [
        {
          "output_type": "execute_result",
          "data": {
            "text/plain": [
              "datetime.datetime"
            ]
          },
          "metadata": {},
          "execution_count": 4
        }
      ],
      "source": [
        "datetime.datetime # datetime クラスの呼び出し"
      ]
    },
    {
      "cell_type": "code",
      "execution_count": 5,
      "metadata": {
        "id": "4nmaC6uMjvsi",
        "outputId": "ac41e5b9-81ac-43cf-cf79-f3fa52b55b43",
        "colab": {
          "base_uri": "https://localhost:8080/"
        }
      },
      "outputs": [
        {
          "output_type": "execute_result",
          "data": {
            "text/plain": [
              "datetime.date"
            ]
          },
          "metadata": {},
          "execution_count": 5
        }
      ],
      "source": [
        "datetime.date # date クラスの呼び出し"
      ]
    },
    {
      "cell_type": "markdown",
      "metadata": {
        "id": "cmIhOID5jvsj"
      },
      "source": [
        "#### やってみよう\n",
        "\n",
        "自然対数を計算する `log` 関数などが入ってる `math` モジュールを追加してみてください。"
      ]
    },
    {
      "cell_type": "markdown",
      "metadata": {
        "id": "ofe5JunIjvsj"
      },
      "source": [
        " ### `from ~ import` 構文\n",
        "\n",
        "\n",
        "\n",
        " モジュール内の一部だけを追加したい場合、例えば `datetime` モジュールの `datetime` クラスや `date` クラスだけを追加したい場合は、`from ~ import` 構文を使います。\n",
        "\n",
        " `<moduel_name>` から `<obj>` を追加したい場合、次のように書きます。\n",
        "\n"
      ]
    },
    {
      "cell_type": "code",
      "execution_count": 6,
      "metadata": {
        "id": "_TgnUXDijvsj",
        "outputId": "2c468d94-ad08-4c6f-9801-28a8fe824a41",
        "colab": {
          "base_uri": "https://localhost:8080/"
        }
      },
      "outputs": [
        {
          "output_type": "execute_result",
          "data": {
            "text/plain": [
              "datetime.date"
            ]
          },
          "metadata": {},
          "execution_count": 6
        }
      ],
      "source": [
        "from datetime import date\n",
        "date"
      ]
    },
    {
      "cell_type": "markdown",
      "metadata": {
        "id": "W5oUmLnJjvsj"
      },
      "source": [
        " また、モジュールから複数のオブジェクトを追加することも可能です。\n",
        "\n",
        " オブジェクト間は `,` で区切ります。\n",
        "\n",
        " 次は `datetime` から `datetime` クラスと `date` クラスを追加しています。\n",
        "\n"
      ]
    },
    {
      "cell_type": "code",
      "execution_count": 7,
      "metadata": {
        "id": "R_z8PJsNjvsj",
        "outputId": "40e7c024-05f0-44ac-9382-e25e9011c42a",
        "colab": {
          "base_uri": "https://localhost:8080/"
        }
      },
      "outputs": [
        {
          "output_type": "stream",
          "name": "stdout",
          "text": [
            "<class 'datetime.datetime'>\n",
            "<class 'datetime.date'>\n"
          ]
        }
      ],
      "source": [
        "from datetime import datetime, date\n",
        "print(datetime)\n",
        "print(date)"
      ]
    },
    {
      "cell_type": "markdown",
      "metadata": {
        "id": "CqpZQrlxjvsj"
      },
      "source": [
        "#### やってみよう\n",
        "\n",
        "`math` モジュールから `log` 関数と `exp` 関数を `from ~ import` を用いて追加してください。"
      ]
    },
    {
      "cell_type": "markdown",
      "metadata": {
        "id": "o6DIuRcTjvsj"
      },
      "source": [
        " ### `import ~ as` 構文\n",
        "\n",
        "\n",
        " 追加モジュールやモジュール内の一部のオブジェクト名が長い場合、`import ~ as` 構文を使って、名前を変更することができます。\n",
        "\n",
        "\n",
        "\n",
        " 以下は、`datetime` モジュールを `dt` というモジュール名として追加しています。\n",
        "\n",
        " 新しく立ち上げた Python で以下を実行しています。\n",
        "\n"
      ]
    },
    {
      "cell_type": "code",
      "execution_count": 8,
      "metadata": {
        "id": "PHaknnOCjvsj",
        "outputId": "84c2d320-ae8e-4ff3-d0d5-f59a3f23eec7",
        "colab": {
          "base_uri": "https://localhost:8080/"
        }
      },
      "outputs": [
        {
          "output_type": "execute_result",
          "data": {
            "text/plain": [
              "<module 'datetime' from '/usr/lib/python3.10/datetime.py'>"
            ]
          },
          "metadata": {},
          "execution_count": 8
        }
      ],
      "source": [
        "import datetime as dt\n",
        "dt"
      ]
    },
    {
      "cell_type": "markdown",
      "metadata": {
        "id": "3IvgiSoAjvsk"
      },
      "source": [
        " `from ~ import` を組み合わせることも可能です。\n",
        "\n",
        " 名前を変更する場合、各オブジェクト毎に行うことに注意してください。\n",
        "\n",
        " 次のコードは、`datetime` モジュールから `datetime` クラスを `dt` という名前で追加し、`date` クラスはそのままの名前で追加しています。\n",
        "\n"
      ]
    },
    {
      "cell_type": "code",
      "execution_count": 9,
      "metadata": {
        "id": "cWi5gOGDjvsk",
        "outputId": "d6f33525-5095-40e4-85ce-90acb1d82895",
        "colab": {
          "base_uri": "https://localhost:8080/"
        }
      },
      "outputs": [
        {
          "output_type": "stream",
          "name": "stdout",
          "text": [
            "<class 'datetime.datetime'>\n",
            "<class 'datetime.date'>\n"
          ]
        }
      ],
      "source": [
        "from datetime import datetime as dt, date\n",
        "print(dt)\n",
        "print(date)"
      ]
    },
    {
      "cell_type": "markdown",
      "metadata": {
        "id": "ghDWFimBjvsk"
      },
      "source": [
        "#### やってみよう\n",
        "\n",
        "統計に用いる関数がある `statistics` モジュールから `variance` 関数 を `var` という名前で追加してみましょう。"
      ]
    },
    {
      "cell_type": "markdown",
      "metadata": {
        "id": "YYpSsG1Bjvsk"
      },
      "source": [
        " ### `datetime`, `date` クラスを使ってみる\n",
        "\n",
        " `datetime` は秒などの細かい単位までの時間を扱えるクラスで、`date` はそれより粗く日にち単位までの時間を扱うクラスです。\n",
        "\n",
        " `datetime` クラスは次のような年 (year)、月 (month)、日 (day)、時 (hour)、分 (minute)、秒 (second)、マイクロ秒 (microsecond) まで指定可能です。\n",
        "\n",
        " 日にちより細かい時間は省略可能です。\n",
        "\n",
        " 例えば、2024 年 4 月 1 日 の `datetime` 型は次のように作成します。\n",
        "\n"
      ]
    },
    {
      "cell_type": "code",
      "execution_count": 10,
      "metadata": {
        "id": "W-r15i4fjvsk",
        "outputId": "dba2ff0c-14bb-4977-9f25-0258ea9f85ac",
        "colab": {
          "base_uri": "https://localhost:8080/"
        }
      },
      "outputs": [
        {
          "output_type": "execute_result",
          "data": {
            "text/plain": [
              "datetime.datetime(2024, 4, 1, 0, 0)"
            ]
          },
          "metadata": {},
          "execution_count": 10
        }
      ],
      "source": [
        "datetime(2024, 4, 1)"
      ]
    },
    {
      "cell_type": "markdown",
      "metadata": {
        "id": "xapjMv3Cjvsk"
      },
      "source": [
        " 年や月などは属性として用意されています。\n",
        "\n"
      ]
    },
    {
      "cell_type": "code",
      "execution_count": 11,
      "metadata": {
        "id": "n2dqyN5_jvsk",
        "outputId": "2cf0621d-a5f6-461d-a8f7-e8cf99b80a4c",
        "colab": {
          "base_uri": "https://localhost:8080/"
        }
      },
      "outputs": [
        {
          "output_type": "stream",
          "name": "stdout",
          "text": [
            "year: 2024\n",
            "day: 4\n"
          ]
        }
      ],
      "source": [
        "day = datetime(2024, 4, 1)\n",
        "print(\"year:\", day.year)\n",
        "print(\"day:\", day.month)"
      ]
    },
    {
      "cell_type": "markdown",
      "metadata": {
        "id": "7lAXCvmEjvsl"
      },
      "source": [
        " `date` は日付まで指定可能です。\n",
        "\n"
      ]
    },
    {
      "cell_type": "code",
      "execution_count": 12,
      "metadata": {
        "id": "0bmICRKnjvsl",
        "outputId": "d7ca580a-4381-46cb-9012-b5ce6e697e35",
        "colab": {
          "base_uri": "https://localhost:8080/"
        }
      },
      "outputs": [
        {
          "output_type": "execute_result",
          "data": {
            "text/plain": [
              "datetime.date(2024, 4, 1)"
            ]
          },
          "metadata": {},
          "execution_count": 12
        }
      ],
      "source": [
        "date(2024, 4, 1)"
      ]
    },
    {
      "cell_type": "markdown",
      "metadata": {
        "id": "49dE-auLjvsl"
      },
      "source": [
        "#### やってみよう\n",
        "\n",
        "今日の年月日を表す、`datetime` オブジェクト、`date` オブジェクトを作成してください。"
      ]
    },
    {
      "cell_type": "markdown",
      "metadata": {
        "id": "fzqYOBDKjvsl"
      },
      "source": [
        "#### 書式コード\n",
        "\n",
        "`strftime` メソッドを用いると、`datetime` や `date` オブジェクトを文字列に変換できます。\n",
        "\n",
        "年月日を表す書式コードを指定することで `YYYY/MM/DD` や `YYYY年M月D日` など出力形式を柔軟に変更できます (Y は年、M は月、D は日を意味します)。\n",
        "\n",
        "書式コードとは西暦 4 桁を `%Y` という記号で表すような、対応関係のことです。\n",
        "\n",
        "これによって、どこに何の値 (年月日) を埋め込むかを指定します。\n",
        "\n",
        "9 月を `09` として表すのを 0 埋めといいます。\n",
        "\n",
        "0 埋めした月は `%m`、0 埋めした日は `%d` で表します (0 埋めしない場合は `%-m`, `%-d`)。\n",
        "\n",
        "`2024/04/01` のように出力したい場合は `%Y/%m/%d`、`2024年4月1日` のようにしたい場合は `%Y月%-m月%-d日` とします。"
      ]
    },
    {
      "cell_type": "code",
      "execution_count": 13,
      "metadata": {
        "id": "UoP1e89wjvsl",
        "outputId": "58d74901-7958-414f-c68d-93ba1c994a09",
        "colab": {
          "base_uri": "https://localhost:8080/"
        }
      },
      "outputs": [
        {
          "output_type": "stream",
          "name": "stdout",
          "text": [
            "2024/04/01\n",
            "2024年4月1日\n"
          ]
        }
      ],
      "source": [
        "some_day = date(2024, 4, 1)\n",
        "\n",
        "print(some_day.strftime(\"%Y/%m/%d\"))\n",
        "\n",
        "print(some_day.strftime(\"%Y年%-m月%-d日\"))"
      ]
    },
    {
      "cell_type": "markdown",
      "metadata": {
        "id": "qYY1qUC2jvsl"
      },
      "source": [
        "他の書式コードは以下を参照してください。\n",
        "\n",
        "https://docs.python.org/ja/3.12/library/datetime.html#strftime-strptime-behavior"
      ]
    },
    {
      "cell_type": "markdown",
      "metadata": {
        "id": "RmPxXa1pjvsl"
      },
      "source": [
        "##### やってみよう\n",
        "\n",
        "今日の日付を表す `date` オブジェクトを用いて、以下のパターンの文字列を出力してください (括弧内は 2024 年 4 月 1 日の場合の例)。\n",
        "\n",
        "- YYYY年MM月DD日 (2024年04月01日)\n",
        "- MM-DD-YYYY (04-01-2024)"
      ]
    },
    {
      "cell_type": "markdown",
      "metadata": {
        "id": "RFfLA_-Djvsl"
      },
      "source": [
        " その他、`timedelta` クラスを使うことで、ある時間から一定期間後の時間はいつになるかを計算できます。\n",
        "\n",
        " また、文字列から `datetime`, `date` 型に変換することや、その逆も可能です。\n",
        "\n",
        "\n",
        "\n",
        " 詳しくは Python のドキュメントを見てください。\n",
        "\n",
        " https://docs.python.org/ja/3/library/datetime.html#datetime.datetime\n",
        "\n"
      ]
    },
    {
      "cell_type": "markdown",
      "metadata": {
        "id": "TkJFplV6jvsm"
      },
      "source": [
        "## パッケージ・ライブラリのインストール\n",
        "\n",
        "複数のファイルをディレクトリ(フォルダ)にまとめられるように、モジュールもディレクトリにまとめることができます。\n",
        "\n",
        "モジュールのあつまりを **パッケージ** (package) と呼び、さらにパッケージがあつまったものを **ライブラリ** (library) と呼びます。\n",
        "\n",
        "実際には、パッケージとライブラリは同じような意味で使われることが多いです。\n",
        "\n",
        "また、パッケージをモジュールと呼んでいる場合もあります。\n",
        "\n",
        "Python をインストールしたときに用意されている機能だけでなく、拡張した機能が外部で公開されています。\n",
        "\n",
        "まずは、データ操作でよく使われる [`pandas`](https://pandas.pydata.org/) というライブラリをインストールしましょう。\n",
        "\n",
        "インストールには、`pip` コマンドを使います。\n",
        "\n",
        "`pip` コマンドでライブラリをインストールする場合は、次のように入力します。\n",
        "\n",
        "```bash\n",
        "\n",
        "pip install <library_name>\n",
        "\n",
        "```\n",
        "\n",
        "Colab では、以下のようにコマンドの前に `!` を付けます。\n",
        "\n",
        "```bash\n",
        "\n",
        "!pip install <library_name>\n",
        "\n",
        "```\n",
        "\n",
        "Colab では `pandas` を含む、多くのライブラリが事前に追加されていますが、念のため説明をします。\n",
        "\n",
        "`pandas` をインストールするには次のコマンドです (Colab 以外)。\n",
        "\n",
        "```bash\n",
        "\n",
        "pip install pandas\n",
        "\n",
        "```\n",
        "\n",
        "正しく入力されていれば、`pandas` と `pandas` 内で使っている他の外部ライブラリ (依存パッケージ) が追加されます。\n",
        "\n",
        "必ずしもライブラリ名と `pip install` のときに指定する名前が一致するわけではありません。\n",
        "\n",
        "まずは google 検索などでインストールするときの名前を調べましょう。\n"
      ]
    },
    {
      "cell_type": "code",
      "execution_count": 14,
      "metadata": {
        "id": "KsvOqY6Vjvsm",
        "outputId": "5dee5a9e-14aa-44d0-d76b-9dcb5f8f359e",
        "colab": {
          "base_uri": "https://localhost:8080/"
        }
      },
      "outputs": [
        {
          "output_type": "stream",
          "name": "stdout",
          "text": [
            "Requirement already satisfied: pandas in /usr/local/lib/python3.10/dist-packages (2.0.3)\n",
            "Requirement already satisfied: python-dateutil>=2.8.2 in /usr/local/lib/python3.10/dist-packages (from pandas) (2.8.2)\n",
            "Requirement already satisfied: pytz>=2020.1 in /usr/local/lib/python3.10/dist-packages (from pandas) (2023.4)\n",
            "Requirement already satisfied: tzdata>=2022.1 in /usr/local/lib/python3.10/dist-packages (from pandas) (2024.1)\n",
            "Requirement already satisfied: numpy>=1.21.0 in /usr/local/lib/python3.10/dist-packages (from pandas) (1.25.2)\n",
            "Requirement already satisfied: six>=1.5 in /usr/local/lib/python3.10/dist-packages (from python-dateutil>=2.8.2->pandas) (1.16.0)\n"
          ]
        }
      ],
      "source": [
        "!pip install pandas"
      ]
    },
    {
      "cell_type": "markdown",
      "metadata": {
        "id": "TaTNKmEGjvsm"
      },
      "source": [
        "Python を新しく立ち上げて、`pandas` を `import` で追加できるようになっていることを確認します。"
      ]
    },
    {
      "cell_type": "code",
      "execution_count": 15,
      "metadata": {
        "id": "LfJQySwFjvsm"
      },
      "outputs": [],
      "source": [
        "import pandas"
      ]
    }
  ],
  "metadata": {
    "kernelspec": {
      "display_name": ".venv",
      "language": "python",
      "name": "python3"
    },
    "language_info": {
      "codemirror_mode": {
        "name": "ipython",
        "version": 3
      },
      "file_extension": ".py",
      "mimetype": "text/x-python",
      "name": "python",
      "nbconvert_exporter": "python",
      "pygments_lexer": "ipython3",
      "version": "3.11.7"
    },
    "colab": {
      "provenance": [],
      "include_colab_link": true
    }
  },
  "nbformat": 4,
  "nbformat_minor": 0
}