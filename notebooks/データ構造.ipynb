{
 "cells": [
  {
   "cell_type": "markdown",
   "metadata": {},
   "source": [
    "# 基本的なデータ構造: 辞書・リスト・タプル\n",
    "\n",
    "データ分析では、例えば A さんの生年月日や身長などのデータ、B さんのデータなどをまとめて取り扱う必要があります。\n",
    "\n",
    "データをまとめるための仕組みを **データ構造** といいます。\n",
    "\n",
    "ここでは、Python での基本的なデータ構造、辞書・リスト・タプルについて説明します。\n",
    "\n",
    "これらは、コンテナとも呼ばれます。"
   ]
  },
  {
   "cell_type": "markdown",
   "metadata": {},
   "source": [
    "# 辞書\n",
    "\n",
    "アンケートデータにおける A さんの年齢、年収、性別が次のようなものだとします。\n",
    "\n",
    "- 年齢 (歳): 26\n",
    "- 年収 (万): 450\n",
    "- 性別: 男\n",
    "\n",
    "別々に変数を定義するよりも、A さんに関する情報をまとめた方がすっきりしそうです。\n",
    "\n",
    "**辞書** (dictionary) 型は、このような用途に使えます。"
   ]
  },
  {
   "cell_type": "markdown",
   "metadata": {},
   "source": [
    "## 辞書の作成\n",
    "\n",
    "Python では波括弧 `{}` によって辞書を作成します。\n",
    "辞書では、`key` と `value` をセットで登録する必要があります。\n",
    "`key` (キー) は呼び出し用の名前で、`value` (バリュー) はその値です。\n",
    "キー (key) と値 (value) のペアを `key-value` とまとめて読んだりします。。\n",
    "\n",
    "例えば、辞書は英語で dictionary です。\n",
    "「辞書」という `key` に対して、「dictionary」という `value` が紐づいているイメージです。\n",
    "\n",
    "`{key: value}` で辞書を定義します。\n",
    "ある `key` に紐づく `value` を `key: value` で表現します。\n",
    "コロン `:` の前後にスペースはあってもなくても構いません。\n",
    "\n",
    "`key` には数値型や文字列型などが使用できます。\n",
    "先ほどの和英辞書の例は次のように作れます。"
   ]
  },
  {
   "cell_type": "code",
   "execution_count": 1,
   "metadata": {},
   "outputs": [
    {
     "data": {
      "text/plain": [
       "{'辞書': 'dictionary'}"
      ]
     },
     "execution_count": 1,
     "metadata": {},
     "output_type": "execute_result"
    }
   ],
   "source": [
    "{\"辞書\": \"dictionary\"}"
   ]
  },
  {
   "cell_type": "markdown",
   "metadata": {},
   "source": [
    "複数の `key-value` をセットするときは、`,` で区切ります。"
   ]
  },
  {
   "cell_type": "code",
   "execution_count": 2,
   "metadata": {},
   "outputs": [
    {
     "data": {
      "text/plain": [
       "{'辞書': 'dictionary', 'プログラミング': 'programming'}"
      ]
     },
     "execution_count": 2,
     "metadata": {},
     "output_type": "execute_result"
    }
   ],
   "source": [
    "{\"辞書\": \"dictionary\", \"プログラミング\": \"programming\"}"
   ]
  },
  {
   "cell_type": "markdown",
   "metadata": {},
   "source": [
    "キーは辞書につき一つしか定義できないことに注意してください。\n",
    "\n",
    "後に定義されたものに上書きされます。"
   ]
  },
  {
   "cell_type": "code",
   "execution_count": 3,
   "metadata": {},
   "outputs": [
    {
     "data": {
      "text/plain": [
       "{'辞書': 'lexicon'}"
      ]
     },
     "execution_count": 3,
     "metadata": {},
     "output_type": "execute_result"
    }
   ],
   "source": [
    "{\"辞書\": \"dictionary\", \"辞書\": \"lexicon\"}"
   ]
  },
  {
   "cell_type": "markdown",
   "metadata": {},
   "source": [
    "定義した辞書から値を呼び出すのは `<dict_name>[key]` で行えます。"
   ]
  },
  {
   "cell_type": "code",
   "execution_count": 4,
   "metadata": {},
   "outputs": [
    {
     "data": {
      "text/plain": [
       "'dictionary'"
      ]
     },
     "execution_count": 4,
     "metadata": {},
     "output_type": "execute_result"
    }
   ],
   "source": [
    "my_dict = {\"辞書\": \"dictionary\"}\n",
    "my_dict[\"辞書\"]"
   ]
  },
  {
   "cell_type": "markdown",
   "metadata": {},
   "source": [
    "登録されていないキーを辞書に与えるとエラーになります。"
   ]
  },
  {
   "cell_type": "code",
   "execution_count": 5,
   "metadata": {},
   "outputs": [],
   "source": [
    "# my_dict[\"日本\"]"
   ]
  },
  {
   "cell_type": "markdown",
   "metadata": {},
   "source": [
    "`dict_name[key] = value` で新たに `key-value` を登録できます。\n",
    "`key` がすでに存在している場合は上書きされます。"
   ]
  },
  {
   "cell_type": "code",
   "execution_count": 6,
   "metadata": {},
   "outputs": [
    {
     "data": {
      "text/plain": [
       "{'辞書': 'dictionary', '言語': 'language'}"
      ]
     },
     "execution_count": 6,
     "metadata": {},
     "output_type": "execute_result"
    }
   ],
   "source": [
    "my_dict[\"言語\"] = \"language\"\n",
    "my_dict"
   ]
  },
  {
   "cell_type": "markdown",
   "metadata": {},
   "source": [
    "### やってみよう\n",
    "\n",
    "上にある A さんの年齢 (age)、年収 (income)、性別 (gender) をまとめた辞書を作ってください。\n",
    "\n",
    "作成した辞書から、各値を呼び出してください。"
   ]
  },
  {
   "cell_type": "markdown",
   "metadata": {},
   "source": [
    "## 補足説明: 入れ子辞書・json\n",
    "\n",
    "辞書の中に辞書を入れることも可能です。\n",
    "\n",
    "例えば、日本語と英語・韓国語の辞書をまとめて作成することもできます。"
   ]
  },
  {
   "cell_type": "code",
   "execution_count": 7,
   "metadata": {},
   "outputs": [
    {
     "data": {
      "text/plain": [
       "{'辞書': {'en': 'dictionary', 'kr': '사전'}}"
      ]
     },
     "execution_count": 7,
     "metadata": {},
     "output_type": "execute_result"
    }
   ],
   "source": [
    "multi_dict = {\n",
    "  \"辞書\": {\n",
    "    \"en\": \"dictionary\",\n",
    "    \"kr\": \"사전\",\n",
    "  },\n",
    "}\n",
    "multi_dict"
   ]
  },
  {
   "cell_type": "markdown",
   "metadata": {},
   "source": [
    "### やってみよう\n",
    "上で定義した辞書から、「辞書」の英単語だけを呼び出してください。"
   ]
  },
  {
   "cell_type": "markdown",
   "metadata": {},
   "source": [
    "### json\n",
    "\n",
    "このようなデータの形式は `json` (JavaScript Object Notation) という、よく Web サイトで使用するファイル形式によく似ています。\n",
    "実際、辞書型と `json` 形式には互換性があります。\n",
    "\n",
    "例えば、Stack Overflow などの Q & A サイトをまとめている StackExchange からデータをダウンロードできます ([リンク](https://api.stackexchange.com/docs))。\n",
    "\n",
    "\n",
    "逆に、1 回の推定に時間がかかるデータ分析の結果を以下のような辞書にまとめ、`json` ファイルとして保存しておくといった用途もあります。"
   ]
  },
  {
   "cell_type": "markdown",
   "metadata": {},
   "source": [
    "#### やってみよう\n",
    "\n",
    "下のリンクをクリックし、`Run` というボタンを押して、データ構造を確認してみましょう。\n",
    "\n",
    "- [リンク](https://api.stackexchange.com/docs/answers)"
   ]
  },
  {
   "cell_type": "markdown",
   "metadata": {},
   "source": [
    "# リスト\n",
    "\n",
    "辞書型のように、キーと値のペアではなく、1, 2, 3 というような値をまとめるのに便利なデータ構造が **リスト** (list) 型です。\n",
    "\n",
    "一般的なプログラミングの用語では、リストなどのデータ構造を **シーケンス** (sequence) といい、その中に含まれている各値を **要素** といいます。"
   ]
  },
  {
   "cell_type": "markdown",
   "metadata": {},
   "source": [
    "## リストの作成\n",
    "\n",
    "\n",
    "リストの定義には、鍵括弧 `[]` を用います。\n",
    "\n",
    "例えば、次は 1, 2, 3 からなるリストを作成しています。\n",
    "\n",
    "リスト内の要素は、カンマ `,` で区切ります。"
   ]
  },
  {
   "cell_type": "code",
   "execution_count": 8,
   "metadata": {},
   "outputs": [
    {
     "data": {
      "text/plain": [
       "[1, 2, 3]"
      ]
     },
     "execution_count": 8,
     "metadata": {},
     "output_type": "execute_result"
    }
   ],
   "source": [
    "[1, 2, 3]"
   ]
  },
  {
   "cell_type": "markdown",
   "metadata": {},
   "source": [
    "リストに入る要素は数値と文字列など、異なる種類のリストなども作成可能です。"
   ]
  },
  {
   "cell_type": "markdown",
   "metadata": {},
   "source": [
    "### やってみよう\n",
    "\n",
    "次のリストを作成してみましょう。\n",
    "\n",
    "- 100, 30.2, \"japan\""
   ]
  },
  {
   "cell_type": "markdown",
   "metadata": {},
   "source": [
    "## インデックスとスライス\n",
    "\n",
    "シーケンス内の要素は左から番号 (**インデックス**: index) が振られています。\n",
    "\n",
    "Python ではインデックスは 0 から始まることに注意してください (R では 1 から)。\n",
    "\n",
    "先の例では、1, 2, 3 に対応するインデックスはそれぞれ 0, 1, 2 です。\n",
    "\n",
    "インデックスを使って、対応する要素を参照することができます。\n",
    "\n",
    "リストから `i` 番目の値を呼び出す場合、`<list_name>[i]` とします。"
   ]
  },
  {
   "cell_type": "code",
   "execution_count": 9,
   "metadata": {},
   "outputs": [
    {
     "data": {
      "text/plain": [
       "2"
      ]
     },
     "execution_count": 9,
     "metadata": {},
     "output_type": "execute_result"
    }
   ],
   "source": [
    "NUMS = [1, 2, 3]\n",
    "NUMS[1]"
   ]
  },
  {
   "cell_type": "markdown",
   "metadata": {},
   "source": [
    "振り分けられていないインデックスを用いるとエラーになります。"
   ]
  },
  {
   "cell_type": "code",
   "execution_count": 10,
   "metadata": {},
   "outputs": [],
   "source": [
    "# NUMS[3]"
   ]
  },
  {
   "cell_type": "markdown",
   "metadata": {},
   "source": [
    "また、各要素には負の値のインデックスも振られており、これは右から -1 で始まります。\n",
    "\n",
    "1, 2, 3 に対応する負の値のインデックスはそれぞれ -3, -2, -1 です。\n",
    "\n",
    "シーケンスの最後の要素などを参照したい場合に役立ちます。"
   ]
  },
  {
   "cell_type": "markdown",
   "metadata": {},
   "source": [
    "### やってみよう\n",
    "\n",
    "正の値・負の値のインデックスを用いて、先ほど作成したリストから \"japan\" だけを取り出してみましょう"
   ]
  },
  {
   "cell_type": "markdown",
   "metadata": {},
   "source": [
    "シーケンスの一部を取り出すことをシーケンスの **スライス** (slice) といいます。\n",
    "\n",
    "Python におけるスライスは、開始するインデックス `i` 番目から終了するインデックス `i + j` 番目の*直前* までを切り出します。\n",
    "\n",
    "`i` から `i + j` までを、コロン `:` を用いて `i: i + j` と書くことでスライスができます。\n",
    "\n",
    "この場合、`i + j` 番目はスライスされる対象に含まれないことに注意してください。"
   ]
  },
  {
   "cell_type": "code",
   "execution_count": 11,
   "metadata": {},
   "outputs": [
    {
     "data": {
      "text/plain": [
       "[2, 3]"
      ]
     },
     "execution_count": 11,
     "metadata": {},
     "output_type": "execute_result"
    }
   ],
   "source": [
    "NUM_LONG = [1, 2, 3, 4, 5]\n",
    "NUM_LONG[1: 3] # 1 番目から 2 番目までスライス"
   ]
  },
  {
   "cell_type": "markdown",
   "metadata": {},
   "source": [
    "もし `i + j` 番目も含めたい場合には、`i + j + 1` とする必要があります。"
   ]
  },
  {
   "cell_type": "code",
   "execution_count": 12,
   "metadata": {},
   "outputs": [
    {
     "data": {
      "text/plain": [
       "[2, 3, 4]"
      ]
     },
     "execution_count": 12,
     "metadata": {},
     "output_type": "execute_result"
    }
   ],
   "source": [
    "NUM_LONG[1: 4] # 1 番目から 3 番目までスライス"
   ]
  },
  {
   "cell_type": "markdown",
   "metadata": {},
   "source": [
    "0 番目から `i + j - 1` 番目までを取り出したい場合は、`:` の左は空白にします。\n",
    "\n",
    "逆に、`i` 番目からシーケンスの最後までを取り出したい場合は、`:` の右を空白にします。"
   ]
  },
  {
   "cell_type": "markdown",
   "metadata": {},
   "source": [
    "### やってみよう\n",
    "\n",
    "先ほど定義した `NUMS_LONG` を用いて、スライスを試してみてください。\n",
    "\n",
    "- 0 番目から 4 番目までを取り出す\n",
    "- 1 番目から最後までを取り出す"
   ]
  },
  {
   "cell_type": "markdown",
   "metadata": {},
   "source": [
    "## 値の更新\n",
    "\n",
    "辞書型と同様、リストの中身を更新することができます。\n",
    "\n",
    "中身を更新するには、<list>[i] = value というように、リストオブジェクトの i 番目の要素に `=` で値を再定義します。\n",
    "\n",
    "例えば、次は 1, 2, 3 を含むリストを作成した後に、0 番目の要素を 100 にするには次のようにします。"
   ]
  },
  {
   "cell_type": "code",
   "execution_count": 13,
   "metadata": {},
   "outputs": [
    {
     "data": {
      "text/plain": [
       "[1, 2, 3]"
      ]
     },
     "execution_count": 13,
     "metadata": {},
     "output_type": "execute_result"
    }
   ],
   "source": [
    "NUMS = [1, 2, 3]\n",
    "NUMS"
   ]
  },
  {
   "cell_type": "code",
   "execution_count": 14,
   "metadata": {},
   "outputs": [
    {
     "data": {
      "text/plain": [
       "[100, 2, 3]"
      ]
     },
     "execution_count": 14,
     "metadata": {},
     "output_type": "execute_result"
    }
   ],
   "source": [
    "NUMS[0] = 100\n",
    "NUMS"
   ]
  },
  {
   "cell_type": "markdown",
   "metadata": {},
   "source": [
    "## ミュータブル・イミュータブル\n",
    "\n",
    "データによって、値を変更できるものとできないものがあります。\n",
    "\n",
    "リストや辞書型は値を変更することができます。\n",
    "\n",
    "値を変更できるものを**ミュータブル** (mutable) であるといいます。\n",
    "\n",
    "一方で、数値型や文字列型などは変更ができません。\n",
    "\n",
    "こちらは、**イミュータブル** (immutable) であるといいます。"
   ]
  },
  {
   "cell_type": "markdown",
   "metadata": {},
   "source": [
    "# タプル\n",
    "\n",
    "**タプル** (tuple) はリストに似たシーケンスデータです。\n",
    "\n",
    "リストとは異なる部分は、イミュータブルであるということです。"
   ]
  },
  {
   "cell_type": "markdown",
   "metadata": {},
   "source": [
    "## タプルの作成\n",
    "\n",
    "タプルの定義には括弧 `()` を用います。\n",
    "\n",
    "要素の区切りはカンマ `,` で表します。"
   ]
  },
  {
   "cell_type": "code",
   "execution_count": 15,
   "metadata": {},
   "outputs": [
    {
     "data": {
      "text/plain": [
       "('taxi', 'bus')"
      ]
     },
     "execution_count": 15,
     "metadata": {},
     "output_type": "execute_result"
    }
   ],
   "source": [
    "('taxi', 'bus')"
   ]
  },
  {
   "cell_type": "markdown",
   "metadata": {},
   "source": [
    "## タプルの操作\n",
    "\n",
    "リストと同様、タプルもインデックスやスライスを用いて、一部を参照することが可能です。"
   ]
  },
  {
   "cell_type": "code",
   "execution_count": 16,
   "metadata": {},
   "outputs": [
    {
     "data": {
      "text/plain": [
       "'bus'"
      ]
     },
     "execution_count": 16,
     "metadata": {},
     "output_type": "execute_result"
    }
   ],
   "source": [
    "CAR = ('taxi', 'bus', 'car')\n",
    "CAR[1]"
   ]
  },
  {
   "cell_type": "code",
   "execution_count": 17,
   "metadata": {},
   "outputs": [
    {
     "data": {
      "text/plain": [
       "('taxi', 'bus')"
      ]
     },
     "execution_count": 17,
     "metadata": {},
     "output_type": "execute_result"
    }
   ],
   "source": [
    "CAR[:2]"
   ]
  },
  {
   "cell_type": "markdown",
   "metadata": {},
   "source": [
    "### やってみよう\n",
    "\n",
    "- `'taxi', 'bus', 'car'` の *リスト* を作成し、0 番目の要素を `'train'` に *書き換えられる* ことをチェックしましょう。\n",
    "- `'taxi', 'bus', 'car'` の *タプル* を作成し、0 番目の要素を `'train'` に *書き換えられない* ことをチェックしましょう。"
   ]
  },
  {
   "cell_type": "markdown",
   "metadata": {},
   "source": [
    "要素の数が 1 つだけのタプルを作る場合は、区切り文字 `,` を最後に加える必要があることに注意してください。"
   ]
  },
  {
   "cell_type": "code",
   "execution_count": 18,
   "metadata": {},
   "outputs": [
    {
     "data": {
      "text/plain": [
       "('japan', 'korea')"
      ]
     },
     "execution_count": 18,
     "metadata": {},
     "output_type": "execute_result"
    }
   ],
   "source": [
    "(\"japan\", \"korea\") # OK"
   ]
  },
  {
   "cell_type": "code",
   "execution_count": 19,
   "metadata": {},
   "outputs": [
    {
     "data": {
      "text/plain": [
       "'japankorea'"
      ]
     },
     "execution_count": 19,
     "metadata": {},
     "output_type": "execute_result"
    }
   ],
   "source": [
    "(\"japan\" \"korea\") # NG"
   ]
  },
  {
   "cell_type": "markdown",
   "metadata": {},
   "source": [
    "## 補足説明: シーケンスとしての文字列\n",
    "\n",
    "実は文字列もシーケンスの一つです。\n",
    "\n",
    "したがって、文字列の一部をスライスしたり、`i` 番目の文字を取り出したりすることができます。"
   ]
  },
  {
   "cell_type": "code",
   "execution_count": 21,
   "metadata": {},
   "outputs": [
    {
     "data": {
      "text/plain": [
       "'wakayama'"
      ]
     },
     "execution_count": 21,
     "metadata": {},
     "output_type": "execute_result"
    }
   ],
   "source": [
    "LONG_STR = \"wakayama prefecture\"\n",
    "LONG_STR[:8]"
   ]
  },
  {
   "cell_type": "markdown",
   "metadata": {},
   "source": [
    "### やってみよう\n",
    "\n",
    "`和歌山 太郎` という氏名の文字列を作成して、名前だけを取り出してください。"
   ]
  }
 ],
 "metadata": {
  "kernelspec": {
   "display_name": ".venv",
   "language": "python",
   "name": "python3"
  },
  "language_info": {
   "codemirror_mode": {
    "name": "ipython",
    "version": 3
   },
   "file_extension": ".py",
   "mimetype": "text/x-python",
   "name": "python",
   "nbconvert_exporter": "python",
   "pygments_lexer": "ipython3",
   "version": "3.11.7"
  }
 },
 "nbformat": 4,
 "nbformat_minor": 2
}
