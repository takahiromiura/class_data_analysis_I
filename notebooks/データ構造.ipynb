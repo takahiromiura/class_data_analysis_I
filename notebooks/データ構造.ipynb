{
  "cells": [
    {
      "cell_type": "markdown",
      "metadata": {
        "colab_type": "text",
        "id": "view-in-github"
      },
      "source": [
        "<a href=\"https://colab.research.google.com/github/takahiromiura/class_data_analysis_I/blob/main/notebooks/%E3%83%87%E3%83%BC%E3%82%BF%E6%A7%8B%E9%80%A0.ipynb\" target=\"_parent\"><img src=\"https://colab.research.google.com/assets/colab-badge.svg\" alt=\"Open In Colab\"/></a>"
      ]
    },
    {
      "cell_type": "markdown",
      "metadata": {
        "id": "gDVq2MNR2hny"
      },
      "source": [
        "# 基本的なデータ構造: 辞書・リスト・タプル\n",
        "\n",
        "データ分析では、例えば A さんの生年月日や身長などのデータ、B さんのデータなどをまとめて取り扱う必要があります。\n",
        "\n",
        "データをまとめるための仕組みを **データ構造** といいます。\n",
        "\n",
        "ここでは、Python での基本的なデータ構造、辞書・リスト・タプルについて説明します。\n",
        "\n",
        "これらは、コンテナとも呼ばれます。"
      ]
    },
    {
      "cell_type": "markdown",
      "metadata": {
        "id": "TVJHwjdX2hnz"
      },
      "source": [
        "# 辞書\n",
        "\n",
        "アンケートデータにおける A さんの年齢、年収、性別が次のようなものだとします。\n",
        "\n",
        "- 年齢 (歳): 26\n",
        "- 年収 (万): 450\n",
        "- 性別: 男\n",
        "\n",
        "別々に変数を定義するよりも、A さんに関する情報をまとめた方がすっきりしそうです。\n",
        "\n",
        "**辞書** (dictionary) 型は、このような用途に使えます。\n",
        "\n",
        "辞書では、`key` と `value` のペアを登録する必要があります。\n",
        "\n",
        "`key` (キー) は呼び出し用の名前で、`value` (バリュー) はその値です。\n",
        "\n",
        "例えば、辞書という日本語は、英語で dictionary です。\n",
        "\n",
        "「辞書」という `key` に対して、「dictionary」という `value` が紐づいているイメージです。\n",
        "\n",
        "キー (key) と値 (value) のペアを `key-value` とまとめて呼んだりします。"
      ]
    },
    {
      "cell_type": "markdown",
      "metadata": {
        "id": "J24xgMJQ2hnz"
      },
      "source": [
        "## 辞書の作成\n",
        "\n",
        "Python では波括弧 `{}` によって辞書を作成します。\n",
        "\n",
        "ある `key` に紐づく `value` のペアは、 `key: value` と表します。\n",
        "\n",
        "コロン `:` の前後にスペースはあってもなくても構いません。\n",
        "\n",
        "`key` や `value` には数値型や文字列型などが使用できます。\n",
        "\n",
        "先ほどの和英辞書の例は次のように作れます。"
      ]
    },
    {
      "cell_type": "code",
      "execution_count": null,
      "metadata": {
        "id": "_bVP3TRh2hn0",
        "outputId": "c4d8b36c-30de-4262-b312-16ff43788b75"
      },
      "outputs": [
        {
          "data": {
            "text/plain": [
              "{'辞書': 'dictionary'}"
            ]
          },
          "execution_count": 1,
          "metadata": {},
          "output_type": "execute_result"
        }
      ],
      "source": [
        "{\"辞書\": \"dictionary\"}"
      ]
    },
    {
      "cell_type": "markdown",
      "metadata": {
        "id": "zV_x4yYb2hn0"
      },
      "source": [
        "複数の `key-value` をセットするときは、`,` で区切ります。"
      ]
    },
    {
      "cell_type": "code",
      "execution_count": null,
      "metadata": {
        "id": "RGddvzKA2hn1",
        "outputId": "b0dfbfd4-02cc-4b4c-d186-5f35e885e19b"
      },
      "outputs": [
        {
          "data": {
            "text/plain": [
              "{'辞書': 'dictionary', 'プログラミング': 'programming'}"
            ]
          },
          "execution_count": 2,
          "metadata": {},
          "output_type": "execute_result"
        }
      ],
      "source": [
        "{\"辞書\": \"dictionary\", \"プログラミング\": \"programming\"}"
      ]
    },
    {
      "cell_type": "markdown",
      "metadata": {
        "id": "Mj8_yBjY2hn1"
      },
      "source": [
        "キーは辞書につき一つしか定義できないことに注意してください。\n",
        "\n",
        "後に定義されたものに上書きされます。"
      ]
    },
    {
      "cell_type": "code",
      "execution_count": null,
      "metadata": {
        "id": "ACcRUg232hn1",
        "outputId": "12b2b83f-c7c2-475d-cddf-0752f0b12bf3"
      },
      "outputs": [
        {
          "data": {
            "text/plain": [
              "{'辞書': 'lexicon'}"
            ]
          },
          "execution_count": 3,
          "metadata": {},
          "output_type": "execute_result"
        }
      ],
      "source": [
        "{\"辞書\": \"dictionary\", \"辞書\": \"lexicon\"}"
      ]
    },
    {
      "cell_type": "markdown",
      "metadata": {
        "id": "svOiCX5i2hn1"
      },
      "source": [
        "定義した辞書から値を呼び出すのは `<dict_name>[key]` で行えます。"
      ]
    },
    {
      "cell_type": "code",
      "execution_count": null,
      "metadata": {
        "id": "H2JM7SD52hn1",
        "outputId": "a422bdf5-672d-4a39-ee6d-e9698783d71c"
      },
      "outputs": [
        {
          "data": {
            "text/plain": [
              "'dictionary'"
            ]
          },
          "execution_count": 4,
          "metadata": {},
          "output_type": "execute_result"
        }
      ],
      "source": [
        "my_dict = {\"辞書\": \"dictionary\"}\n",
        "my_dict[\"辞書\"]"
      ]
    },
    {
      "cell_type": "markdown",
      "metadata": {
        "id": "yB5n7D6q2hn1"
      },
      "source": [
        "登録されていないキーを辞書に与えるとエラーになります。"
      ]
    },
    {
      "cell_type": "code",
      "execution_count": null,
      "metadata": {
        "id": "hH0Y--572hn1"
      },
      "outputs": [],
      "source": [
        "# my_dict[\"日本\"]"
      ]
    },
    {
      "cell_type": "markdown",
      "metadata": {
        "id": "VZbKsLmY2hn2"
      },
      "source": [
        "`dict_name[key] = value` で新たに `key-value` を登録できます。\n",
        "`key` がすでに存在している場合は上書きされます。"
      ]
    },
    {
      "cell_type": "code",
      "execution_count": null,
      "metadata": {
        "id": "RFEasLaQ2hn2",
        "outputId": "fc6f85b2-f234-4b4f-d8ec-e47814994b19"
      },
      "outputs": [
        {
          "data": {
            "text/plain": [
              "{'辞書': 'dictionary', '言語': 'language'}"
            ]
          },
          "execution_count": 6,
          "metadata": {},
          "output_type": "execute_result"
        }
      ],
      "source": [
        "my_dict[\"言語\"] = \"language\"\n",
        "my_dict"
      ]
    },
    {
      "cell_type": "markdown",
      "metadata": {
        "id": "a7aUSjAV2hn2"
      },
      "source": [
        "### やってみよう\n",
        "\n",
        "上にある A さんの年齢 (age)、年収 (income)、性別 (gender) をまとめた辞書を作ってください。\n",
        "\n",
        "作成した辞書から、各値を呼び出してください。"
      ]
    },
    {
      "cell_type": "markdown",
      "metadata": {
        "id": "UwCWtndN2hn2"
      },
      "source": [
        "## 補足説明: 入れ子辞書・json\n",
        "\n",
        "辞書の中に辞書を入れることも可能です。\n",
        "\n",
        "例えば、日本語と英語・韓国語の辞書をまとめて作成することもできます。"
      ]
    },
    {
      "cell_type": "code",
      "execution_count": null,
      "metadata": {
        "id": "2AF8WXZn2hn2",
        "outputId": "1b125e7c-30a5-4795-93b0-42ed2657c122"
      },
      "outputs": [
        {
          "data": {
            "text/plain": [
              "{'辞書': {'en': 'dictionary', 'kr': '사전'}}"
            ]
          },
          "execution_count": 7,
          "metadata": {},
          "output_type": "execute_result"
        }
      ],
      "source": [
        "multi_dict = {\n",
        "  \"辞書\": {\n",
        "    \"en\": \"dictionary\",\n",
        "    \"kr\": \"사전\",\n",
        "  },\n",
        "}\n",
        "multi_dict"
      ]
    },
    {
      "cell_type": "markdown",
      "metadata": {
        "id": "woI0gSV52hn2"
      },
      "source": [
        "### やってみよう\n",
        "上で定義した辞書から、「辞書」の英単語だけを呼び出してください。"
      ]
    },
    {
      "cell_type": "markdown",
      "metadata": {
        "id": "FBtEs2__2hn2"
      },
      "source": [
        "### json\n",
        "\n",
        "このようなデータの形式は `json` (JavaScript Object Notation) という、よく Web サイトで使用するファイル形式によく似ています。\n",
        "実際、辞書型と `json` 形式には互換性があります。\n",
        "\n",
        "例えば、Stack Overflow などの Q & A サイトをまとめている StackExchange からデータをダウンロードできます ([リンク](https://api.stackexchange.com/docs))。\n",
        "\n",
        "\n",
        "逆に、1 回の推定に時間がかかるデータ分析の結果を以下のような辞書にまとめ、`json` ファイルとして保存しておくといった用途もあります。"
      ]
    },
    {
      "cell_type": "markdown",
      "metadata": {
        "id": "EFDPpmE62hn2"
      },
      "source": [
        "#### やってみよう\n",
        "\n",
        "下のリンクをクリックし、`Run` というボタンを押して、データ構造を確認してみましょう。\n",
        "\n",
        "- [リンク](https://api.stackexchange.com/docs/answers)"
      ]
    },
    {
      "cell_type": "markdown",
      "metadata": {
        "id": "Kdkqibxx2hn2"
      },
      "source": [
        "# リスト\n",
        "\n",
        "辞書型のように、キーと値のペアではなく、1, 2, 3 というような値をまとめるのに便利なデータ構造が **リスト** (list) 型です。\n",
        "\n",
        "一般的なプログラミングの用語では、リストなどのデータ構造を **シーケンス** (sequence) といい、その中に含まれている各値を **要素** といいます。"
      ]
    },
    {
      "cell_type": "markdown",
      "metadata": {
        "id": "PSOIkiz_2hn2"
      },
      "source": [
        "## リストの作成\n",
        "\n",
        "\n",
        "リストの定義には、鍵括弧 `[]` を用います。\n",
        "\n",
        "例えば、次は 1, 2, 3 からなるリストを作成しています。\n",
        "\n",
        "リスト内の要素は、カンマ `,` で区切ります。"
      ]
    },
    {
      "cell_type": "code",
      "execution_count": null,
      "metadata": {
        "id": "lEkkYrlg2hn3",
        "outputId": "25dd4c6d-d09c-4de2-d118-1d6f418a767a"
      },
      "outputs": [
        {
          "data": {
            "text/plain": [
              "[1, 2, 3]"
            ]
          },
          "execution_count": 8,
          "metadata": {},
          "output_type": "execute_result"
        }
      ],
      "source": [
        "[1, 2, 3]"
      ]
    },
    {
      "cell_type": "markdown",
      "metadata": {
        "id": "90Q4658c2hn3"
      },
      "source": [
        "リストに入る要素は数値と文字列など、異なる種類のリストなども作成可能です。"
      ]
    },
    {
      "cell_type": "markdown",
      "metadata": {
        "id": "Q9p9SVDs2hn3"
      },
      "source": [
        "### やってみよう\n",
        "\n",
        "次のリストを作成してみましょう。\n",
        "\n",
        "- 100, 30.2, \"japan\""
      ]
    },
    {
      "cell_type": "markdown",
      "metadata": {
        "id": "jRvboPRz2hn3"
      },
      "source": [
        "## インデックスとスライス\n",
        "\n",
        "シーケンス内の要素は左から番号 (**インデックス**: index) が振られています。\n",
        "\n",
        "Python ではインデックスは 0 から始まることに注意してください (R では 1 から)。\n",
        "\n",
        "先の例では、1, 2, 3 に対応するインデックスはそれぞれ 0, 1, 2 です。\n",
        "\n",
        "インデックスを使って、対応する要素を参照することができます。\n",
        "\n",
        "リストから `i` 番目の値を呼び出す場合、`<list_name>[i]` とします。"
      ]
    },
    {
      "cell_type": "code",
      "execution_count": null,
      "metadata": {
        "id": "aOymYFBd2hn3",
        "outputId": "ca6a898a-79b4-4019-fd23-5c432f320047"
      },
      "outputs": [
        {
          "data": {
            "text/plain": [
              "2"
            ]
          },
          "execution_count": 9,
          "metadata": {},
          "output_type": "execute_result"
        }
      ],
      "source": [
        "NUMS = [1, 2, 3]\n",
        "NUMS[1]"
      ]
    },
    {
      "cell_type": "markdown",
      "metadata": {
        "id": "qKqB0j9B2hn3"
      },
      "source": [
        "振り分けられていないインデックスを用いるとエラーになります。"
      ]
    },
    {
      "cell_type": "code",
      "execution_count": null,
      "metadata": {
        "id": "lCvwA4Cf2hn3"
      },
      "outputs": [],
      "source": [
        "# NUMS[3]"
      ]
    },
    {
      "cell_type": "markdown",
      "metadata": {
        "id": "1gz5adL_2hn4"
      },
      "source": [
        "また、各要素には負の値のインデックスも振られており、これは右から -1 で始まります。\n",
        "\n",
        "1, 2, 3 に対応する負の値のインデックスはそれぞれ -3, -2, -1 です。\n",
        "\n",
        "シーケンスの最後の要素などを参照したい場合に役立ちます。"
      ]
    },
    {
      "cell_type": "markdown",
      "metadata": {
        "id": "tz_2x1Qh2hn4"
      },
      "source": [
        "### やってみよう\n",
        "\n",
        "正の値・負の値のインデックスを用いて、先ほど作成したリストから \"japan\" だけを取り出してみましょう"
      ]
    },
    {
      "cell_type": "markdown",
      "metadata": {
        "id": "B6ak6Jnv2hn4"
      },
      "source": [
        "シーケンスの一部を取り出すことをシーケンスの **スライス** (slice) といいます。\n",
        "\n",
        "Python におけるスライスは、開始するインデックス `i` 番目から終了するインデックス `i + j` 番目の*直前* までを切り出します。\n",
        "\n",
        "`i` から `i + j` までを、コロン `:` を用いて `i: i + j` と書くことでスライスができます。\n",
        "\n",
        "この場合、`i + j` 番目はスライスされる対象に含まれないことに注意してください。"
      ]
    },
    {
      "cell_type": "code",
      "execution_count": null,
      "metadata": {
        "id": "3C1asZ8C2hn4",
        "outputId": "061c12ee-48cf-438a-fe0b-dc842d35a66a"
      },
      "outputs": [
        {
          "data": {
            "text/plain": [
              "[2, 3]"
            ]
          },
          "execution_count": 11,
          "metadata": {},
          "output_type": "execute_result"
        }
      ],
      "source": [
        "NUM_LONG = [1, 2, 3, 4, 5]\n",
        "NUM_LONG[1: 3] # 1 番目から 2 番目までスライス"
      ]
    },
    {
      "cell_type": "markdown",
      "metadata": {
        "id": "a_O2AAm12hn4"
      },
      "source": [
        "もし `i + j` 番目も含めたい場合には、`i + j + 1` とする必要があります。"
      ]
    },
    {
      "cell_type": "code",
      "execution_count": null,
      "metadata": {
        "id": "ig7kJ_mX2hn5",
        "outputId": "dcf45cc5-b99e-48dd-e3c8-330b691a14ba"
      },
      "outputs": [
        {
          "data": {
            "text/plain": [
              "[2, 3, 4]"
            ]
          },
          "execution_count": 12,
          "metadata": {},
          "output_type": "execute_result"
        }
      ],
      "source": [
        "NUM_LONG[1: 4] # 1 番目から 3 番目までスライス"
      ]
    },
    {
      "cell_type": "markdown",
      "metadata": {
        "id": "IdPMPkKv2hn5"
      },
      "source": [
        "0 番目から `i + j - 1` 番目までを取り出したい場合は、`:` の左は空白にします。\n",
        "\n",
        "逆に、`i` 番目からシーケンスの最後までを取り出したい場合は、`:` の右を空白にします。"
      ]
    },
    {
      "cell_type": "markdown",
      "metadata": {
        "id": "9ne9bGCx2hn5"
      },
      "source": [
        "### やってみよう\n",
        "\n",
        "先ほど定義した `NUMS_LONG` を用いて、スライスを試してみてください。\n",
        "\n",
        "- 0 番目から 4 番目までを取り出す\n",
        "- 1 番目から最後までを取り出す"
      ]
    },
    {
      "cell_type": "markdown",
      "metadata": {
        "id": "oN6BTe6H2hn5"
      },
      "source": [
        "## 値の更新\n",
        "\n",
        "辞書型と同様、リストの中身を更新することができます。\n",
        "\n",
        "中身を更新するには、<list>[i] = value というように、リストオブジェクトの i 番目の要素に `=` で値を再定義します。\n",
        "\n",
        "例えば、次は 1, 2, 3 を含むリストを作成した後に、0 番目の要素を 100 にするには次のようにします。"
      ]
    },
    {
      "cell_type": "code",
      "execution_count": null,
      "metadata": {
        "id": "qEXzCLam2hn5",
        "outputId": "216e9052-546f-4a3c-9712-6b87d9983553"
      },
      "outputs": [
        {
          "data": {
            "text/plain": [
              "[1, 2, 3]"
            ]
          },
          "execution_count": 13,
          "metadata": {},
          "output_type": "execute_result"
        }
      ],
      "source": [
        "NUMS = [1, 2, 3]\n",
        "NUMS"
      ]
    },
    {
      "cell_type": "code",
      "execution_count": null,
      "metadata": {
        "id": "cKGIVDbe2hn6",
        "outputId": "54897b5e-6f88-48c8-a740-c50a908435c4"
      },
      "outputs": [
        {
          "data": {
            "text/plain": [
              "[100, 2, 3]"
            ]
          },
          "execution_count": 14,
          "metadata": {},
          "output_type": "execute_result"
        }
      ],
      "source": [
        "NUMS[0] = 100\n",
        "NUMS"
      ]
    },
    {
      "cell_type": "markdown",
      "metadata": {
        "id": "YDWeEwUD2hn6"
      },
      "source": [
        "## ミュータブル・イミュータブル\n",
        "\n",
        "データによって、値を変更できるものとできないものがあります。\n",
        "\n",
        "リストや辞書型は値を変更することができます。\n",
        "\n",
        "値を変更できるものを**ミュータブル** (mutable) であるといいます。\n",
        "\n",
        "一方で、数値型や文字列型などは変更ができません。\n",
        "\n",
        "こちらは、**イミュータブル** (immutable) であるといいます。"
      ]
    },
    {
      "cell_type": "markdown",
      "metadata": {
        "id": "gSMDk1cA2hn6"
      },
      "source": [
        "# タプル\n",
        "\n",
        "**タプル** (tuple) はリストに似たシーケンスデータです。\n",
        "\n",
        "リストとは異なる部分は、イミュータブルであるということです。"
      ]
    },
    {
      "cell_type": "markdown",
      "metadata": {
        "id": "2BDlg2AD2hn6"
      },
      "source": [
        "## タプルの作成\n",
        "\n",
        "タプルの定義には括弧 `()` を用います。\n",
        "\n",
        "要素の区切りはカンマ `,` で表します。"
      ]
    },
    {
      "cell_type": "code",
      "execution_count": null,
      "metadata": {
        "id": "SaUt0tj22hn6",
        "outputId": "cbb7407d-e3ea-4cd3-d19b-91ee103d51cf"
      },
      "outputs": [
        {
          "data": {
            "text/plain": [
              "('taxi', 'bus')"
            ]
          },
          "execution_count": 15,
          "metadata": {},
          "output_type": "execute_result"
        }
      ],
      "source": [
        "('taxi', 'bus')"
      ]
    },
    {
      "cell_type": "markdown",
      "metadata": {
        "id": "-aCRGA9s2hn6"
      },
      "source": [
        "## タプルの操作\n",
        "\n",
        "リストと同様、タプルもインデックスやスライスを用いて、一部を参照することが可能です。"
      ]
    },
    {
      "cell_type": "code",
      "execution_count": null,
      "metadata": {
        "id": "ET3-a5eN2hn7",
        "outputId": "c9496e33-95ef-4a86-d114-4780ef2c93e3"
      },
      "outputs": [
        {
          "data": {
            "text/plain": [
              "'bus'"
            ]
          },
          "execution_count": 16,
          "metadata": {},
          "output_type": "execute_result"
        }
      ],
      "source": [
        "CAR = ('taxi', 'bus', 'car')\n",
        "CAR[1]"
      ]
    },
    {
      "cell_type": "code",
      "execution_count": null,
      "metadata": {
        "id": "ri9isujJ2hn7",
        "outputId": "18d20453-e12c-41bb-f57e-758f9fe720e7"
      },
      "outputs": [
        {
          "data": {
            "text/plain": [
              "('taxi', 'bus')"
            ]
          },
          "execution_count": 17,
          "metadata": {},
          "output_type": "execute_result"
        }
      ],
      "source": [
        "CAR[:2]"
      ]
    },
    {
      "cell_type": "markdown",
      "metadata": {
        "id": "HLJnBNy12hn7"
      },
      "source": [
        "### やってみよう\n",
        "\n",
        "- `'taxi', 'bus', 'car'` の *リスト* を作成し、0 番目の要素を `'train'` に *書き換えられる* ことをチェックしましょう。\n",
        "- `'taxi', 'bus', 'car'` の *タプル* を作成し、0 番目の要素を `'train'` に *書き換えられない* ことをチェックしましょう。"
      ]
    },
    {
      "cell_type": "markdown",
      "metadata": {
        "id": "Q5uGgQ8R2hn7"
      },
      "source": [
        "要素の数が 1 つだけのタプルを作る場合は、区切り文字 `,` を最後に加える必要があることに注意してください。"
      ]
    },
    {
      "cell_type": "code",
      "execution_count": null,
      "metadata": {
        "id": "T21szs9V2hn7",
        "outputId": "e0d38009-e463-401b-84ea-8ded6cb3eec1"
      },
      "outputs": [
        {
          "data": {
            "text/plain": [
              "('japan', 'korea')"
            ]
          },
          "execution_count": 18,
          "metadata": {},
          "output_type": "execute_result"
        }
      ],
      "source": [
        "(\"japan\", \"korea\") # OK"
      ]
    },
    {
      "cell_type": "code",
      "execution_count": null,
      "metadata": {
        "id": "rKYsLnRy2hn7",
        "outputId": "110f7eb0-dd45-471f-cfbe-4dbc1c2191cf"
      },
      "outputs": [
        {
          "data": {
            "text/plain": [
              "'japankorea'"
            ]
          },
          "execution_count": 19,
          "metadata": {},
          "output_type": "execute_result"
        }
      ],
      "source": [
        "(\"japan\" \"korea\") # NG"
      ]
    },
    {
      "cell_type": "markdown",
      "metadata": {
        "id": "UkURuX_U2hn7"
      },
      "source": [
        "## 補足説明: シーケンスとしての文字列\n",
        "\n",
        "実は文字列もシーケンスの一つです。\n",
        "\n",
        "したがって、文字列の一部をスライスしたり、`i` 番目の文字を取り出したりすることができます。"
      ]
    },
    {
      "cell_type": "code",
      "execution_count": null,
      "metadata": {
        "id": "X8EXGD_T2hn7",
        "outputId": "d4853121-2b33-4d1a-bdf1-37e81ede589d"
      },
      "outputs": [
        {
          "data": {
            "text/plain": [
              "'wakayama'"
            ]
          },
          "execution_count": 21,
          "metadata": {},
          "output_type": "execute_result"
        }
      ],
      "source": [
        "LONG_STR = \"wakayama prefecture\"\n",
        "LONG_STR[:8]"
      ]
    },
    {
      "cell_type": "markdown",
      "metadata": {
        "id": "vG5gSuYJ2hn8"
      },
      "source": [
        "### やってみよう\n",
        "\n",
        "`和歌山 太郎` という氏名の文字列を作成して、名前だけを取り出してください。"
      ]
    }
  ],
  "metadata": {
    "colab": {
      "include_colab_link": true,
      "provenance": [],
      "toc_visible": true
    },
    "kernelspec": {
      "display_name": ".venv",
      "language": "python",
      "name": "python3"
    },
    "language_info": {
      "codemirror_mode": {
        "name": "ipython",
        "version": 3
      },
      "file_extension": ".py",
      "mimetype": "text/x-python",
      "name": "python",
      "nbconvert_exporter": "python",
      "pygments_lexer": "ipython3",
      "version": "3.11.7"
    }
  },
  "nbformat": 4,
  "nbformat_minor": 0
}
