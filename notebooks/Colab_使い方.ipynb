{
  "cells": [
    {
      "cell_type": "markdown",
      "metadata": {
        "colab_type": "text",
        "id": "view-in-github"
      },
      "source": [
        "<a href=\"https://colab.research.google.com/github/takahiromiura/class_data_analysis_I/blob/main/notebooks/Colab_%E4%BD%BF%E3%81%84%E6%96%B9.ipynb\" target=\"_parent\"><img src=\"https://colab.research.google.com/assets/colab-badge.svg\" alt=\"Open In Colab\"/></a>"
      ]
    },
    {
      "cell_type": "markdown",
      "metadata": {
        "id": "5fCEDCU_qrC0"
      },
      "source": [
        "## はじめに\n",
        "\n",
        "この講義では、Colab ノーブブックという Python の開発・実行環境を使います。\n",
        "\n",
        "今開いている、このドキュメントはブログのような静的なウェブページではなく、**Colab ノートブック**という、コードを記述して実行できるインタラクティブな環境です。\n",
        "\n",
        "公式の説明\n",
        "> Colab（正式名称「Colaboratory」）では、ブラウザ上で Python を記述、実行できます。以下の機能を使用できます。\n",
        "- 環境構築が不要\n",
        "- GPU に料金なしでアクセス\n",
        "- 簡単に共有\n"
      ]
    },
    {
      "cell_type": "markdown",
      "metadata": {
        "id": "e0JZaN-nBr16"
      },
      "source": [
        "## セルとは\n",
        "\n",
        "Colab ノートブックは、**セル** というものが集まってできています。\n",
        "例えば、ここに書かれているテキストの付近をクリックすると、一定範囲が浮き上がって見えると思います。\n",
        "このまとまりがセルです。\n",
        "\n",
        "例えば、上の `はじめに` と書かれている部分とその下の公式説明部分までは、このセルとは別のセルです。\n",
        "\n",
        "セルには **コードセル** と **テキストセル** (もしくは Markdown セル) という 2つがあります。\n"
      ]
    },
    {
      "cell_type": "markdown",
      "metadata": {
        "id": "7gCqQidsJGBI"
      },
      "source": [
        "# コードセルについて\n",
        "\n",
        "コードセルには、プログラムを実行させるためのコード (スクリプト) を記述します。\n",
        "\n",
        "たとえば次の **コードセル** には、値を計算して変数に保存し、結果を出力する短い Python スクリプトが記述されています。"
      ]
    },
    {
      "cell_type": "code",
      "execution_count": null,
      "metadata": {
        "colab": {
          "base_uri": "https://localhost:8080/"
        },
        "id": "gJr_9dXGpJ05",
        "outputId": "1bc49c19-630e-4382-dd88-938c8203b4ed"
      },
      "outputs": [
        {
          "data": {
            "text/plain": [
              "86400"
            ]
          },
          "execution_count": 6,
          "metadata": {},
          "output_type": "execute_result"
        }
      ],
      "source": [
        "seconds_in_a_day = 24 * 60 * 60\n",
        "seconds_in_a_day"
      ]
    },
    {
      "cell_type": "markdown",
      "metadata": {
        "id": "2fhs6GZ4qFMx"
      },
      "source": [
        "上記のセルのコードを実行するには、マウスをセルに合わせるとセル左側にある、`[ ]` 上に出てくる実行ボタンをクリックします。\n",
        "もしくは、セルをクリックしてから、キーボード ショートカット「command+return」(Mac) または「Ctrl+Enter」(Windows) を使用します。\n",
        "\n",
        "セルのコードを実行すると、結果が実行したセルの下に出力されます。\n",
        "また、`[ ]` 内に何回目のコードセルの実行なのかが記載されます。\n",
        "\n",
        "実行直後はボタンがかぶさっているので、別のセルをクリックします。\n"
      ]
    },
    {
      "cell_type": "markdown",
      "metadata": {
        "id": "-4WXtTsPH2ca"
      },
      "source": [
        "## やってみよう\n",
        "\n",
        "上記のコードセルを再度実行し、`[ ]` 内の数値が変化することを確認してください。"
      ]
    },
    {
      "cell_type": "code",
      "execution_count": null,
      "metadata": {
        "colab": {
          "base_uri": "https://localhost:8080/"
        },
        "id": "-gE-Ez1qtyIA",
        "outputId": "11c4d67a-50bf-485e-d895-6e4f27cd93e6"
      },
      "outputs": [
        {
          "data": {
            "text/plain": [
              "604800"
            ]
          },
          "execution_count": 5,
          "metadata": {},
          "output_type": "execute_result"
        }
      ],
      "source": [
        "7 * seconds_in_a_day"
      ]
    },
    {
      "cell_type": "markdown",
      "metadata": {
        "id": "qbVod1mN-Yeq"
      },
      "source": [
        "1 つのセルで定義した変数は、後で他のセルで使用できます (変数についての詳しい説明は後日)。\n",
        "\n",
        "例えば、上のコードは、$7 \\times$ seconds_in_a_day を計算し、その結果を表示します。\n",
        "`seconds_in_a_day` には、先ほどのコードセルで `86400` という値が格納されています。\n",
        "\n",
        "したがって、上のコードは 7 $\\times$ 86400 を計算し、その結果を出力しています。"
      ]
    },
    {
      "cell_type": "markdown",
      "metadata": {
        "id": "6pW-zEIZPAkq"
      },
      "source": [
        "## コードの編集\n",
        "\n",
        "セルをクリックすると、コードを編集できます。"
      ]
    },
    {
      "cell_type": "markdown",
      "metadata": {
        "id": "Vhar69zPPLA_"
      },
      "source": [
        "### やってみよう\n",
        "\n",
        "1. 下のコードをまずは実行して、`5` が出力されることを確かめてください。\n",
        "2. `SOME_NUMBER = 5` の部分を `SOME_NUMBER = 10` と変えると、`10` が出力されることを確認してください。"
      ]
    },
    {
      "cell_type": "code",
      "execution_count": 7,
      "metadata": {
        "colab": {
          "base_uri": "https://localhost:8080/"
        },
        "id": "DeQlK_4jPl0f",
        "outputId": "87e9fc71-8dda-4cee-ab30-523bfcb6f3ed"
      },
      "outputs": [
        {
          "data": {
            "text/plain": [
              "5"
            ]
          },
          "execution_count": 7,
          "metadata": {},
          "output_type": "execute_result"
        }
      ],
      "source": [
        "SOME_NUMBER = 5\n",
        "SOME_NUMBER"
      ]
    },
    {
      "cell_type": "markdown",
      "metadata": {
        "id": "ixbj21aqJ4Ze"
      },
      "source": [
        "## セッションについて\n",
        "\n",
        "定義した変数などは、セッション内で共有されます。\n",
        "新しいセッションが開始すると、変数や `[ ]` 内の数字がリセットされます。\n",
        "ページ上部の `ランタイム` -> `セッションを再起動する` で新しいセッションを開始できます。\n",
        "また、Colab では一定時間 (大体 90 分) でセッションが終了します。"
      ]
    },
    {
      "cell_type": "markdown",
      "metadata": {
        "id": "oPormXBzN2Jp"
      },
      "source": [
        "\n",
        "### やってみよう\n",
        "\n",
        "新しいセッションを開始して、次を確認してください。\n",
        "- 実行したコードセルの `[ ]` 内の数字が消えている\n",
        "- `7 * seconds_in_a_day` というコードセルを最初に実行するとエラーになる\n",
        "- `seconds_in_a_day = 24 * 60 * 60` を実行した **後に** 上のコードセルを実行するとうまくいく"
      ]
    },
    {
      "cell_type": "markdown",
      "metadata": {
        "id": "-5m_V_a5N7FO"
      },
      "source": [
        "# テキストセルについて\n",
        "\n",
        "Colab ノートブックはその名の通り、コードだけでなく、補足説明のためのノートを記述することができます。\n",
        "今読んでいるセルのようなものを、**テキストセル** と呼びます。\n"
      ]
    },
    {
      "cell_type": "markdown",
      "metadata": {
        "id": "zMhMHRUZOqg4"
      },
      "source": [
        "## テキストの編集\n",
        "\n",
        "テキストセルをダブルクリックすると、テキスト内容を編集できます。\n",
        "ダブルクリックすると、セルが 2 分割されます。\n",
        "左は編集画面で、右が表示画面 (編集後に実際に表示される部分) です。\n",
        "\n",
        "テキストセルには、単なる文字だけでなく、数式 $y = 3x$ や画像 (動画も)、URL リンクなども加えることができます。\n",
        "また、文字を **強調** したり、*斜体* にしたりもできます。\n",
        "\n",
        "![Python ロゴ](https://www.python.org/static/community_logos/python-logo-master-v3-TM.png)\n",
        "\n",
        "[google.com](google.com)"
      ]
    },
    {
      "cell_type": "markdown",
      "metadata": {
        "id": "Zv_2aUBwTTM3"
      },
      "source": [
        "## テキストの体裁を変えるには\n",
        "\n",
        "テキストセルで文字の太さを変えたり、画像を挿入するには、2 通りの方法があります。\n",
        "一つは、編集画面上部のアイコンをクリックする方法です。\n",
        "使い方は、word などと同じです。\n"
      ]
    },
    {
      "cell_type": "markdown",
      "metadata": {
        "id": "p7L9cwNAUSsH"
      },
      "source": [
        "### やってみよう\n",
        "\n",
        "「この範囲」をマウスで範囲選択して、編集画面上部の B アイコンをクリックし、太字にしてください。"
      ]
    },
    {
      "cell_type": "markdown",
      "metadata": {
        "id": "J_2NZItaUWeg"
      },
      "source": [
        "### Markdown とは\n",
        "\n",
        "太字にしてみると、編集画面で強調部分が `**` で囲まれてたと思います。\n",
        "\n",
        "また、右の表示画面では、`**` は表示されておらず、`**` で囲まれている範囲の文字が太字になっていることが確認できるはずです。\n",
        "\n",
        "このような、テキストの種類を変えるための書き方をマークダウン記法といいます。\n",
        "この書き方を覚えることで、より分かりやすいテキストを作ることが可能です。\n",
        "\n",
        "強調の他に、よく使うものとしては以下のものがあります。\n",
        "\n",
        "- セクション: 行の始めに `#` をつけると、セクションのタイトルのように大きくなる (`#` の後はスペースを 1 つ空ける) 。`##`, `###`, `####` の順に小さくなる (サブセクションで分けるときに便利)。\n",
        "- 箇条書きリスト: 行の始めに `-` か `+` か `*` をつけると箇条書きになる。\n",
        "- 番号付きリスト: 行の始めに `1.` のように `数字.` をつけると番号順のリストになる (数字は何でもいい)。\n",
        "- ウェブリンク: `[テキスト](google.com)` とすると、google.com のハイパーリンクが [テキスト](google.com) に埋め込まれます (鍵括弧と括弧の順番に注意)。\n",
        "\n",
        "他にも、表や画像の埋め込みなど様々なものがあります。\n",
        "興味がある人は [Markdown 使い方紹介](https://help.notepm.jp/hc/ja/articles/17267176922393-Markdown%E8%A8%98%E6%B3%95-%E6%9B%B8%E3%81%8D%E6%96%B9-%E8%A6%8B%E5%87%BA%E3%81%97-%E8%A1%A8-%E3%83%AA%E3%83%B3%E3%82%AF-%E7%94%BB%E5%83%8F-%E6%96%87%E5%AD%97%E8%89%B2%E3%81%AA%E3%81%A9#:~:text=Markdown(%E3%83%9E%E3%83%BC%E3%82%AF%E3%83%80%E3%82%A6%E3%83%B3)%E3%81%A8%E3%81%AF,%E6%9B%B8%E3%81%8D%E6%96%B9%E3%82%92%E3%81%BE%E3%81%A8%E3%82%81%E3%81%A6%E3%81%84%E3%81%BE%E3%81%99%E3%80%82) などを見てみてください。\n",
        "\n",
        "また、マークダウン記法は Colab ノートブックだけでなく、様々なアプリなどで使えます ([GitHub](https://github.co.jp/) など。ただし、アプリによって少し書き方が違う場合があることに注意)。\n",
        "覚えておいて損はないでしょう。"
      ]
    },
    {
      "cell_type": "markdown",
      "metadata": {
        "id": "m6CjvS6nY4UC"
      },
      "source": [
        "#### やってみよう\n",
        "\n",
        "リンゴ、みかん、メロンという箇条書きリストを作成してみてください。"
      ]
    },
    {
      "cell_type": "markdown",
      "metadata": {
        "id": "UdRyKR44dcNI"
      },
      "source": [
        "\n",
        "# Colab のメリット・デメリット\n",
        "\n",
        "Colab の良い点は結果がすぐ見える点です。\n",
        "特に初心者にとって、ステップバイステップで実行結果を追えるのは、学習のハードルを下げる効果があるかと思います。\n",
        "\n",
        "また、結果の共有のしやすさも魅力の一つです。\n",
        "コードとその説明のテキスト、そして出力結果を共有できるため、何をどうしたらどうなるかまで残すことができます。\n",
        "\n",
        "例えば、以下のコードセルのように、分析結果のグラフを残すことができます。\n",
        "また、コードを実行すれば、同じ結果が得られます。"
      ]
    },
    {
      "cell_type": "code",
      "execution_count": 15,
      "metadata": {
        "colab": {
          "base_uri": "https://localhost:8080/",
          "height": 311
        },
        "id": "C4HZx7Gndbrh",
        "outputId": "3ae82716-357b-45bc-d24d-be6e12a75c24"
      },
      "outputs": [
        {
          "data": {
            "image/png": "[encoded data removed]",
            "text/plain": [
              "<Figure size 400x300 with 1 Axes>"
            ]
          },
          "metadata": {},
          "output_type": "display_data"
        }
      ],
      "source": [
        "import numpy as np\n",
        "from matplotlib import pyplot as plt\n",
        "\n",
        "np.random.seed(12345)\n",
        "ys = 200 + np.random.randn(100)\n",
        "x = [x for x in range(len(ys))]\n",
        "\n",
        "fig = plt.figure(figsize=(4, 3), facecolor='w')\n",
        "plt.plot(x, ys, '-')\n",
        "plt.fill_between(x, ys, 195, where=(ys > 195), facecolor='g', alpha=0.6)\n",
        "plt.title(\"Sample Visualization\", fontsize=10)\n",
        "plt.show(fig)"
      ]
    },
    {
      "cell_type": "markdown",
      "metadata": {
        "id": "SigoBilsiviV"
      },
      "source": [
        "より複雑な分析をする場合、一つのセルが長く、また多くなっていきます。\n",
        "結果として、ノートブック全体が複雑化してしまい、読みにくく、メンテナンスも難しくなります。\n",
        "\n",
        "一定以上のレベルに達したら、Colab を使わず、 [VS Code](https://code.visualstudio.com/) などのツールを使って Python の開発に移る方が良いと思います。\n",
        "ただ、少し新しいことを学ぶ必要があるため、若干の手間になります。"
      ]
    },
    {
      "cell_type": "markdown",
      "metadata": {
        "id": "ToVp6e-vmcLo"
      },
      "source": [
        "# セルの作り方・移動\n",
        "\n",
        "適当なセルをクリックして、セルの下の辺りにマウスのカーソルを合わせると、`+コード`, `+テキスト` というボタンが現れます。\n",
        "`+コード` を押すと、選択しているセルの下に新しいコードセルが作られます。\n",
        "`+テキスト` ならテキストセルが作られます。\n",
        "\n",
        "また、ページ上部の `挿入` をクリックしてもセルを作成することもできます。\n",
        "ヘッダーのボタンでも可能です。\n",
        "\n",
        "セルを選択するとセル右上に現れる、矢印を押すとセルを移動できます（↑は上に、↓は下に移動）。"
      ]
    },
    {
      "cell_type": "markdown",
      "metadata": {
        "id": "5l6UmNKEnW_e"
      },
      "source": [
        "\n",
        "## やってみよう\n",
        "\n",
        "- コードセルを一つ作ってください\n",
        "- テキストセルを一つ作ってください\n",
        "- このセルを一つ上に移動してから、一つ下に移動してください"
      ]
    },
    {
      "cell_type": "markdown",
      "metadata": {
        "id": "W8ia1fH6nXpk"
      },
      "source": [
        "# セルの複数実行\n",
        "\n",
        "コードセルが多い場合、一つずつクリックしていくのは面倒です。\n",
        "ページ上部の `ランタイム` を押してから、すべてのセルを実行や、選択しているセルより前のセルを全て実行する方法などがあります。\n",
        "その場合、コードセルは上から順に実行されます。\n",
        "\n",
        "もしくは、Ctrl + F9 (全てのセルを実行) などのコマンドでも実行できます。\n",
        "コマンドは、`ツール` -> `キーボードショートカット` か、ページ上部の `ランタイム` などのコマンド名の右に記載されています。\n"
      ]
    },
    {
      "cell_type": "markdown",
      "metadata": {
        "id": "KUxWFX6zrNRg"
      },
      "source": [
        "## やってみよう\n",
        "\n",
        "新しいセッションを開始をして、すべてのセルを一度に実行してください。"
      ]
    },
    {
      "cell_type": "markdown",
      "metadata": {
        "id": "7ta01wk5pTAN"
      },
      "source": [
        "# きれいなノートを作るには\n",
        "\n",
        "ノートブックは色々試すことができる反面、トライアンドエラーを繰り返しながら、コードを変えていると、ぐちゃぐちゃのノートになってしまいます。\n",
        "\n",
        "適当に書いたノートを後になって解読できないように、Colab ノートブックもちゃんと動かなくなることがあります。\n",
        "\n",
        "ちゃんとしたノートを作るために、以下が成り立つようにしましょう。\n",
        "\n",
        "- 新しいセッションを開始して、すべてのセルを実行すると、エラーなく最後まで実行できる\n",
        "\n",
        "2 番目のコードセルを実行してから 1 番目のコードセルを実行しないといけないという、暗号めいたノートを作らないように。"
      ]
    },
    {
      "cell_type": "markdown",
      "metadata": {
        "id": "6YFLnvdTr5F3"
      },
      "source": [
        "# ノートブックの作成・保存・読み込み\n",
        "\n",
        "ページ上部の `ファイル` から、ノートブックの作成・保存・読み込みなどができます。\n"
      ]
    },
    {
      "cell_type": "markdown",
      "metadata": {
        "id": "85v8xhktsCi_"
      },
      "source": [
        "## やってみよう\n",
        "\n",
        "新しいノートブックを作成して、保存してください。"
      ]
    }
  ],
  "metadata": {
    "colab": {
      "include_colab_link": true,
      "provenance": [],
      "toc_visible": true
    },
    "kernelspec": {
      "display_name": "Python 3",
      "name": "python3"
    }
  },
  "nbformat": 4,
  "nbformat_minor": 0
}
