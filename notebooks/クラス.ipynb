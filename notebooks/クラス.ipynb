{
  "cells": [
    {
      "cell_type": "markdown",
      "metadata": {
        "id": "view-in-github",
        "colab_type": "text"
      },
      "source": [
        "<a href=\"https://colab.research.google.com/github/takahiromiura/class_data_analysis_I/blob/main/notebooks/%E3%82%AF%E3%83%A9%E3%82%B9.ipynb\" target=\"_parent\"><img src=\"https://colab.research.google.com/assets/colab-badge.svg\" alt=\"Open In Colab\"/></a>"
      ]
    },
    {
      "cell_type": "markdown",
      "metadata": {
        "id": "VHkc7s63osqU"
      },
      "source": [
        " # クラス\n",
        "\n",
        " ここでは、新しいオブジェクトのクラス (型) を作成する方法について学んでいきます。\n",
        "\n",
        " ここは初学者にとって難しいので、完全に理解できなくても大丈夫です。"
      ]
    },
    {
      "cell_type": "markdown",
      "metadata": {
        "id": "xKCPU2Z-osqW"
      },
      "source": [
        " ## なぜクラスが必要か\n",
        "\n",
        " 例えば、データ前処理、分析、可視化用の関数や変数を作成した場合、それらを各用途でまとめた方がスッキリします。\n",
        "\n",
        " 関数を使ってまとめる方法もありますが、クラスを使った方がより柔軟にふるまいができ、かつバグのリスクを軽減できます。\n",
        "\n",
        " クラスを使う動機は他にもありますが、まずは関数や変数の集まりとして、クラスを理解してみると良いでしょう。"
      ]
    },
    {
      "cell_type": "markdown",
      "metadata": {
        "id": "kZI52uFDosqW"
      },
      "source": [
        " ## `class` 構文\n",
        "\n",
        " 関数ではなく新しいクラス (型) を定義することで、データ (属性) と必要な操作 (関数) をまとめることができます。\n",
        "\n",
        " 新しいオブジェクトのクラスを作成するには、`class` 構文を使用します。\n",
        "\n",
        " 構文は次のような規則です。\n",
        "\n",
        "\n",
        "\n",
        " ```py\n",
        " class <ClassName>:\n",
        "     <属性やメソッドの定義>\n",
        "\n",
        " ```\n",
        "\n",
        " 例えば、以下は中身が空っぽのクラスを作成しています。\n",
        "\n",
        " 何も書かないとエラーになるので、`pass` をインデントブロック内に入れています。\n",
        "\n",
        " `pass` 文は、処理をスキップします。"
      ]
    },
    {
      "cell_type": "code",
      "execution_count": 1,
      "metadata": {
        "id": "2Db3R32BosqX",
        "outputId": "32e5f762-4e29-4427-fea2-aade6d3b7245",
        "colab": {
          "base_uri": "https://localhost:8080/"
        }
      },
      "outputs": [
        {
          "output_type": "execute_result",
          "data": {
            "text/plain": [
              "__main__.MyClass"
            ]
          },
          "metadata": {},
          "execution_count": 1
        }
      ],
      "source": [
        "class MyClass:\n",
        "    pass\n",
        "\n",
        "MyClass"
      ]
    },
    {
      "cell_type": "markdown",
      "metadata": {
        "id": "6nszV64qosqY"
      },
      "source": [
        "作成するクラスの名前の規則は、変数や関数定義の時と同様です。\n",
        "\n",
        "クラスの中身は、インデントブロック内に記述します。\n",
        "\n",
        "作成したクラスは `<ClassName>` というクラス名として定義されます。\n",
        "\n",
        "関数名や変数名と区別しやすくするため、クラスの名前は camel case という方式で命名することが推奨されています。\n",
        "\n",
        "- [Python のコーディングガイド](https://pep8-ja.readthedocs.io/ja/latest/)\n",
        "\n",
        "camel case とは、ラクダ (camel) のように、単語の頭文字を大文字にして、そのままつなげる方法です。\n",
        "\n",
        "camel case に適用すると、CamelCase になります。\n",
        "\n",
        "ただし、全てのクラスがこの形式で命名されているわけではありません (例: `datetime`)。"
      ]
    },
    {
      "cell_type": "markdown",
      "metadata": {
        "id": "hSCUafaBosqY"
      },
      "source": [
        "# インスタンス\n",
        "\n",
        "`class` 構文によって作成したクラスは、いうなれば設計図のようなものです。\n",
        "\n",
        "この設計図から作成したオブジェクトを、**インスタンス** (instance) と言います。\n",
        "\n",
        "設計図自体もオブジェクトです。\n",
        "\n",
        "カテゴリーとしてのクラスと、オブジェクトとしてのクラスを分けるため、後者はクラス・オブジェクトと呼称します。\n",
        "\n",
        "家の設計図をクラス、出来上がった家をインスタンスとして見なすことができるでしょう。\n",
        "\n",
        "今まで扱ってきた `1`、`\"japan\"`、`3.14`、`[1, 2, 3]`、`date(2024, 1, 1)` などのオブジェクトも、それぞれ整数 (int)、文字列 (str)、小数点 (float)、リスト (list)、日時 (date) クラスのインスタンスとして考えられます。\n",
        "\n",
        "整数型などの基本的なクラスならば、`1`, `3` などでインスタンスが作成できますが、`int` クラス・オブジェクトを使っても作成できます。\n",
        "\n",
        "すでに `datetime` や `date` クラス・オブジェクトを使ってインスタンスを作成しました。\n",
        "\n",
        "いつの日付の `date` インスタンスなのか、何の整数の `int` インスタンスなのか、インスタンスの作成にも引数を指定できます。\n",
        "\n",
        "`int` クラス・オブジェクトは、`int(3)` とやれば `3` の値を持つ整数型のインスタンスが作成されます。\n",
        "\n",
        "また、文字列の `\"3\"` を入れても上手く変換してくれます。"
      ]
    },
    {
      "cell_type": "code",
      "execution_count": 2,
      "metadata": {
        "id": "6DStO0udosqY",
        "outputId": "6423d5ee-131a-44bb-8980-3ad1844c6245",
        "colab": {
          "base_uri": "https://localhost:8080/"
        }
      },
      "outputs": [
        {
          "output_type": "execute_result",
          "data": {
            "text/plain": [
              "int"
            ]
          },
          "metadata": {},
          "execution_count": 2
        }
      ],
      "source": [
        "int"
      ]
    },
    {
      "cell_type": "code",
      "execution_count": 3,
      "metadata": {
        "id": "nPT7IbINosqY",
        "outputId": "49512167-5021-4b0b-db5d-87ff3c134c8e",
        "colab": {
          "base_uri": "https://localhost:8080/"
        }
      },
      "outputs": [
        {
          "output_type": "execute_result",
          "data": {
            "text/plain": [
              "3"
            ]
          },
          "metadata": {},
          "execution_count": 3
        }
      ],
      "source": [
        "int(3)"
      ]
    },
    {
      "cell_type": "code",
      "execution_count": 4,
      "metadata": {
        "id": "r1VAjuHmosqZ",
        "outputId": "2fb807b4-01a3-4c0c-8ea2-38013fe6a1b9",
        "colab": {
          "base_uri": "https://localhost:8080/"
        }
      },
      "outputs": [
        {
          "output_type": "execute_result",
          "data": {
            "text/plain": [
              "3"
            ]
          },
          "metadata": {},
          "execution_count": 4
        }
      ],
      "source": [
        "int(\"3\")"
      ]
    },
    {
      "cell_type": "markdown",
      "metadata": {
        "id": "691d6Iz1osqZ"
      },
      "source": [
        "`str`、`float`、`list`、`tuple`、`dict` クラス・オブジェクトも存在します。\n",
        "\n",
        "なお、これらは予約語ではないですが、別の値で上書きしないようにしてください。\n",
        "\n",
        "先ほど作った `MyClass` クラス・オブジェクトから、インスタンスを作成します。\n",
        "\n",
        "とはいえ、このクラスはまっさらな設計図のようなものなので、引数にはまだ何も入れられません。"
      ]
    },
    {
      "cell_type": "code",
      "execution_count": 5,
      "metadata": {
        "id": "mfwIw18wosqZ",
        "outputId": "2b20c3c3-2423-4636-ccfe-d965ef704b17",
        "colab": {
          "base_uri": "https://localhost:8080/"
        }
      },
      "outputs": [
        {
          "output_type": "execute_result",
          "data": {
            "text/plain": [
              "<__main__.MyClass at 0x7847348e5930>"
            ]
          },
          "metadata": {},
          "execution_count": 5
        }
      ],
      "source": [
        "MyClass()"
      ]
    },
    {
      "cell_type": "markdown",
      "metadata": {
        "id": "jg0-Tm62osqZ"
      },
      "source": [
        "何か入れようとするとエラーになります。"
      ]
    },
    {
      "cell_type": "code",
      "execution_count": 6,
      "metadata": {
        "id": "cQKpT4rNosqZ"
      },
      "outputs": [],
      "source": [
        "# MyClass(10) # エラー"
      ]
    },
    {
      "cell_type": "markdown",
      "metadata": {
        "id": "R7oFI-qQosqZ"
      },
      "source": [
        "### クラス属性\n",
        "\n",
        "クラスにおける属性は、**クラス属性** (class attribute) と **インスタンス属性** (instance attribute) の 2 つがあります。\n",
        "\n",
        "まずは、クラス属性の定義の仕方を見ていきます。\n",
        "\n",
        "インスタンス属性については、後ほど説明します。\n",
        "\n",
        "クラス属性の定義は、非常にシンプルで、インデントブロック内で変数を定義するだけです。\n",
        "\n",
        "以下のコードは、`MyCalender` クラスに `year` というクラス属性を付与し、その値として `2024` を割り当てています。"
      ]
    },
    {
      "cell_type": "code",
      "execution_count": 7,
      "metadata": {
        "id": "J1nN_iIJosqZ"
      },
      "outputs": [],
      "source": [
        "class MyCalender:\n",
        "\n",
        "    year = 2024 # クラス属性の定義"
      ]
    },
    {
      "cell_type": "markdown",
      "metadata": {
        "id": "7YCJPBEBosqa"
      },
      "source": [
        "クラス属性はインスタンス化してもしなくても参照可能です。"
      ]
    },
    {
      "cell_type": "code",
      "execution_count": 8,
      "metadata": {
        "id": "hfQQbLttosqa",
        "outputId": "1480b880-0769-45fe-902b-9cc255f99274",
        "colab": {
          "base_uri": "https://localhost:8080/"
        }
      },
      "outputs": [
        {
          "output_type": "execute_result",
          "data": {
            "text/plain": [
              "2024"
            ]
          },
          "metadata": {},
          "execution_count": 8
        }
      ],
      "source": [
        "MyCalender.year # クラス・オブジェクトからの参照"
      ]
    },
    {
      "cell_type": "code",
      "execution_count": 9,
      "metadata": {
        "id": "tlZlwIb8osqa",
        "outputId": "0b5bfc0d-7b8e-41a0-eefc-5d5cc89a1845",
        "colab": {
          "base_uri": "https://localhost:8080/"
        }
      },
      "outputs": [
        {
          "output_type": "execute_result",
          "data": {
            "text/plain": [
              "2024"
            ]
          },
          "metadata": {},
          "execution_count": 9
        }
      ],
      "source": [
        "MyCalender().year # インスタンスからの参照"
      ]
    },
    {
      "cell_type": "markdown",
      "metadata": {
        "id": "6PUQ71Qxosqa"
      },
      "source": [
        "#### やってみよう\n",
        "\n",
        "`Today` クラスを作成して、`year`, `month`, `day` というクラス属性を定義してみましょう。\n",
        "\n",
        "また、各クラス属性を参照してみましょう。"
      ]
    },
    {
      "cell_type": "markdown",
      "metadata": {
        "id": "ZTFoH9hVosqa"
      },
      "source": [
        "### メソッド\n",
        "\n",
        "クラスは、単にデータや関数をまとめた箱としての役割だけでなく、関数 (メソッド) の中で、そのオブジェクトが持つ属性などを参照することができます。\n",
        "\n",
        "例えば、`\"japan\"` という文字列型のインスタンスには `upper` という、大文字にするメソッドがあります。"
      ]
    },
    {
      "cell_type": "code",
      "execution_count": 10,
      "metadata": {
        "id": "EAtLux-vosqa",
        "outputId": "6e64adec-40c4-46b8-c592-4a429c47df38",
        "colab": {
          "base_uri": "https://localhost:8080/",
          "height": 36
        }
      },
      "outputs": [
        {
          "output_type": "execute_result",
          "data": {
            "text/plain": [
              "'JAPAN'"
            ],
            "application/vnd.google.colaboratory.intrinsic+json": {
              "type": "string"
            }
          },
          "metadata": {},
          "execution_count": 10
        }
      ],
      "source": [
        "\"japan\".upper()"
      ]
    },
    {
      "cell_type": "markdown",
      "metadata": {
        "id": "cbsKOBfNosqa"
      },
      "source": [
        "よく見ると、この `upper` メソッドという関数には何も入れていません。\n",
        "\n",
        "しかし、このオブジェクトが持つ値 `japan` という文字列を参照し、大文字にしています。\n",
        "\n",
        "これは関数との大きな違いです。\n",
        "\n",
        "メソッド内でオブジェクトが持つ属性や他のメソッドを呼び出したい場合、まずオブジェクト自身が参照できないといけません。\n",
        "\n",
        "では、メソッド内でオブジェクト自身にどのような名前が割り当てられているのでしょうか。\n",
        "\n",
        "Python では伝統的にオブジェクト自身は `self` という変数名を割り当てるようにしています。\n",
        "\n",
        "JavaScript などでは `this` という名前を使用します。\n",
        "\n",
        "実際には、この名前は何でもよいですが、他の人も分かりやすいように合わせた方が無難です。\n",
        "\n",
        "また、メソッドと関数の大きな違いは、メソッドでは最初の引数はオブジェクト自身でなければいけません。\n",
        "\n",
        "そして、メソッドを呼ぶ際には、第 1 引数は自動的に入れられます。\n",
        "\n",
        "つまり、`\"japan\".upper()` というメソッドを呼んだ時、自動的に `\"japan\"` という文字列型のインスタンスが `upper` メソッドの第 1 引数に入れられています。\n",
        "\n",
        "以下は、`MyCalender` クラス・オブジェクトのクラス属性 `year` の値を出力するメソッドを追加しています。\n",
        "\n",
        "`self.year` とすることで、インスタンスの属性を参照できることを確認してください。"
      ]
    },
    {
      "cell_type": "code",
      "execution_count": 11,
      "metadata": {
        "id": "DURKM02Oosqa",
        "outputId": "b3213eae-5b3b-4506-9c28-f9e67b8f1297",
        "colab": {
          "base_uri": "https://localhost:8080/"
        }
      },
      "outputs": [
        {
          "output_type": "stream",
          "name": "stdout",
          "text": [
            "2024\n"
          ]
        }
      ],
      "source": [
        "class MyCalender:\n",
        "\n",
        "    year = 2024\n",
        "\n",
        "    def print_year(self):\n",
        "        print(self.year) # `year` 属性を呼び出している\n",
        "\n",
        "MyCalender().print_year()"
      ]
    },
    {
      "cell_type": "markdown",
      "metadata": {
        "id": "HSoSc1oHosqb"
      },
      "source": [
        "インスタンス化しないと、メソッドの呼び出し時に第 1 引数にインスタンス自身が入りません。\n",
        "\n",
        "なので、クラス・オブジェクトからメソッドを呼び出そうとするとエラーになります。"
      ]
    },
    {
      "cell_type": "code",
      "execution_count": 12,
      "metadata": {
        "id": "vvMTaVEtosqb"
      },
      "outputs": [],
      "source": [
        "# MyCalender.print_year()"
      ]
    },
    {
      "cell_type": "markdown",
      "metadata": {
        "id": "9QyjgD_eosqb"
      },
      "source": [
        "引数によって処理の内容を変えたい場合は、2 番目以降に追加の引数を定義します。\n",
        "\n",
        "メソッドは関数なので、何か値を返したい場合は `return` を使います。"
      ]
    },
    {
      "cell_type": "code",
      "execution_count": 13,
      "metadata": {
        "id": "soxR-E5Aosqb",
        "outputId": "fc835f33-674f-4c51-dfd1-46fae11ac68c",
        "colab": {
          "base_uri": "https://localhost:8080/"
        }
      },
      "outputs": [
        {
          "output_type": "stream",
          "name": "stdout",
          "text": [
            "2034\n"
          ]
        },
        {
          "output_type": "execute_result",
          "data": {
            "text/plain": [
              "2044"
            ]
          },
          "metadata": {},
          "execution_count": 13
        }
      ],
      "source": [
        "class MyCalender:\n",
        "\n",
        "    year = 2024\n",
        "\n",
        "    def print_year(self):\n",
        "        print(self.year)\n",
        "\n",
        "    def print_futuer_year(self, year_length):\n",
        "        print(self.year + year_length)\n",
        "\n",
        "    def get_future_year(self, year_length):\n",
        "        return self.year + year_length\n",
        "\n",
        "MyCalender().print_futuer_year(10)\n",
        "MyCalender().get_future_year(20)"
      ]
    },
    {
      "cell_type": "markdown",
      "metadata": {
        "id": "EZNuDTIyosqb"
      },
      "source": [
        "メソッドには、クラスメソッドや静的メソッドもありますが、ここでは割愛します。"
      ]
    },
    {
      "cell_type": "markdown",
      "metadata": {
        "id": "kpzJg_mBosqb"
      },
      "source": [
        "#### やってみよう\n",
        "\n",
        "上の `MyCalender` クラスに `get_past_year` メソッドを追加してください。\n",
        "\n",
        "`get_past_year` メソッドは、`year_length` を引数にとり、`year` クラス属性から `year_length` を引いた値 (`int` 型) を返します。"
      ]
    },
    {
      "cell_type": "markdown",
      "metadata": {
        "id": "jo7xKhDvosqb"
      },
      "source": [
        "### インスタンス属性\n",
        "\n",
        "先ほどの `MyCalender` クラス・オブジェクトは、`year` というクラス属性が定義されています。\n",
        "\n",
        "インスタンス毎に属性を変えるには、初期化メソッドを使います。\n",
        "\n",
        "初期化メソッドは、特殊なメソッド名 `__init__` で定義します。\n",
        "\n",
        "`init` の左右にアンダーバー `_` が 2 つ続いていることに注意してください。\n",
        "\n",
        "両端の 2 つのアンダーバー `_` (ダブルアンダーバー、略してダンダーと呼ぶ人もいます) に挟まれたメソッドを特殊メソッドと呼びます。\n",
        "\n",
        "他には、`__add__` や `__del__` など様々なものがあります。\n",
        "\n",
        "先ほどのカレンダークラス `MyCalender` の `year` 属性を変更可能にします。\n",
        "\n",
        "`__init__` メソッドも他のメソッドと同様、最初の引数にはオブジェクト自身 (`self`) が入ります。\n",
        "\n",
        "その後に、追加の引数を加えます。\n",
        "\n",
        "インスタンスに属性を紐づけるには、`self.<attr_name> = <value>` とします。"
      ]
    },
    {
      "cell_type": "code",
      "execution_count": 14,
      "metadata": {
        "id": "vwCqWMs9osqb"
      },
      "outputs": [],
      "source": [
        "class MyCalender:\n",
        "\n",
        "     def __init__(self, year):\n",
        "         self.year = year\n",
        "\n",
        "     def print_current_year(self):\n",
        "         print(self.year)"
      ]
    },
    {
      "cell_type": "code",
      "execution_count": 15,
      "metadata": {
        "id": "EbR_VJRNosqc",
        "outputId": "908a62a1-3800-42d6-b5b8-7da4c98fa976",
        "colab": {
          "base_uri": "https://localhost:8080/"
        }
      },
      "outputs": [
        {
          "output_type": "stream",
          "name": "stdout",
          "text": [
            "2015\n",
            "2025\n"
          ]
        }
      ],
      "source": [
        "MyCalender(2015).print_current_year()\n",
        "MyCalender(2025).print_current_year()"
      ]
    },
    {
      "cell_type": "markdown",
      "metadata": {
        "id": "Dd5_s2-Oosqc"
      },
      "source": [
        "以下のクラスで `year` 属性を呼ぶと、エラーになります。\n",
        "\n",
        "初期化メソッド内で `2015` という整数型オブジェクトを `year` という変数名で引き受けたにも関わらず、インスタンス属性に `year` の値を追加していないからです。"
      ]
    },
    {
      "cell_type": "code",
      "execution_count": 16,
      "metadata": {
        "id": "o37XprQ-osqc"
      },
      "outputs": [],
      "source": [
        "class NullCalender:\n",
        "\n",
        "     def __init__(self, year):\n",
        "         year = year # これはインスタンス属性に値を割り当てる式ではない\n",
        "\n",
        "# NullCalender(2015).year # これはエラー"
      ]
    },
    {
      "cell_type": "markdown",
      "metadata": {
        "id": "B7WI38cNosqc"
      },
      "source": [
        "また、インスタンス属性はインスタンス化しないと参照することができません。"
      ]
    },
    {
      "cell_type": "code",
      "execution_count": 17,
      "metadata": {
        "id": "kg2EKcuSosqc",
        "outputId": "f0a97eb2-18fa-45c4-c767-0759f8912e7c",
        "colab": {
          "base_uri": "https://localhost:8080/"
        }
      },
      "outputs": [
        {
          "output_type": "execute_result",
          "data": {
            "text/plain": [
              "2024"
            ]
          },
          "metadata": {},
          "execution_count": 17
        }
      ],
      "source": [
        "class FixedCalender:\n",
        "\n",
        "    def __init__(self):\n",
        "        self.year = 2024\n",
        "\n",
        "FixedCalender().year\n",
        "# FixedCalender.year # これはエラー"
      ]
    },
    {
      "cell_type": "markdown",
      "metadata": {
        "id": "TXKWLaH-osqc"
      },
      "source": [
        "初期化メソッドには `return` は入れません。\n",
        "\n",
        "`return` を入れるとエラーが返ってきます。"
      ]
    },
    {
      "cell_type": "code",
      "execution_count": 18,
      "metadata": {
        "id": "mxslx6guosqc"
      },
      "outputs": [],
      "source": [
        "class InvalidCalender:\n",
        "\n",
        "    def __init__(self, year):\n",
        "        return year\n",
        "\n",
        "# ErrorCalender(2020) # インスタンス作成 (エラー)"
      ]
    },
    {
      "cell_type": "markdown",
      "metadata": {
        "id": "FmFLZWUFosqc"
      },
      "source": [
        "特定の値の整数型、特定の日付の日付型のインスタンスを作成するときに、`int(8)` や `date(2024, 1, 1)` としたときも、この初期化メソッドが実行されています。"
      ]
    },
    {
      "cell_type": "markdown",
      "metadata": {
        "id": "VXmhrPnBosqd"
      },
      "source": [
        "#### やってみよう\n",
        "\n",
        "以下の機能を持つ、`Name` クラスを作成してください。\n",
        "\n",
        "- インスタンス化には、`first` と `last` が必要\n",
        "- `first`, `last`, `full` というインスタンス属性を持つ\n",
        "\n",
        "これらは次のような値を返す。\n",
        "\n",
        "`name = Name(\"太郎\", \"和歌山\")` とした場合。\n",
        "\n",
        "- `name.first` は `\"太郎\"` を返す\n",
        "- `name.last` は `\"和歌山\"` を返す\n",
        "- `name.full` は `\"和歌山 太郎\"` を返す"
      ]
    },
    {
      "cell_type": "markdown",
      "metadata": {
        "id": "D5EP02Drosqd"
      },
      "source": [
        "属性の追加・上書きは、初期化メソッド以外でも可能です。"
      ]
    },
    {
      "cell_type": "code",
      "execution_count": 19,
      "metadata": {
        "id": "KjQoZ7Pnosqd",
        "outputId": "8ff898b8-0e76-4678-d543-7bbecdb1478b",
        "colab": {
          "base_uri": "https://localhost:8080/"
        }
      },
      "outputs": [
        {
          "output_type": "stream",
          "name": "stdout",
          "text": [
            "2025\n",
            "2020\n",
            "10\n"
          ]
        }
      ],
      "source": [
        "my_calender = MyCalender(2025)\n",
        "print(my_calender.year)\n",
        "\n",
        "my_calender.year = 2020 # インスタンス属性の上書き\n",
        "print(my_calender.year)\n",
        "\n",
        "my_calender.month = 10 # インスタンス属性の付与\n",
        "print(my_calender.month)"
      ]
    },
    {
      "cell_type": "code",
      "execution_count": 20,
      "metadata": {
        "id": "d7OdKTVxosqd",
        "outputId": "4fe02733-cec1-445b-f9ea-34ef93f79e1b",
        "colab": {
          "base_uri": "https://localhost:8080/"
        }
      },
      "outputs": [
        {
          "output_type": "stream",
          "name": "stdout",
          "text": [
            "2025\n",
            "2025\n",
            "10\n"
          ]
        }
      ],
      "source": [
        "class FlexibleCalender:\n",
        "\n",
        "    def __init__(self, year):\n",
        "         self.year = year\n",
        "\n",
        "    def change_year(self, year):\n",
        "         self.yewr = year\n",
        "\n",
        "    def add_month(self, month):\n",
        "        self.month = month\n",
        "\n",
        "flex_calender = FlexibleCalender(2025)\n",
        "print(flex_calender.year)\n",
        "\n",
        "flex_calender.change_year(2020) # メソッド内でインスタンス属性を書き換え\n",
        "print(flex_calender.year)\n",
        "\n",
        "flex_calender.add_month(10) # インスタンス属性の付与\n",
        "print(flex_calender.month)"
      ]
    },
    {
      "cell_type": "markdown",
      "metadata": {
        "id": "7g9Jz48Yosqe"
      },
      "source": [
        "例えば、`pandas` というライブラリの `DataFrame` はラベル付きの表データ形式のデータ構造です。\n",
        "\n",
        "これに対して、新しい列や行を追加、値を書き換えたりして、データの前処理や分析を行います。"
      ]
    },
    {
      "cell_type": "markdown",
      "metadata": {
        "id": "trFEyq9fosqe"
      },
      "source": [
        "## 継承\n",
        "\n",
        "継承をすることで、継承元の機能を使いまわすことができます。\n",
        "\n",
        "継承元のクラスを **親クラス** 、継承先のクラスを **子クラス** といいます。\n",
        "\n",
        "複雑な計算ロジックは親クラスで定義しておき、計算に使うモデルを子クラスで定義するといった使い方などがあります。\n",
        "\n",
        "例えば、深層学習 (deep learning) 用のライブラリ、[PyTorch](https://pytorch.org/) では、学習に使うニューラルネットワークがどのようなものかをクラスを継承して定義します。\n",
        "\n",
        "継承も `class` 構文を用います。\n",
        "\n",
        "継承元の親クラスを <ParentClass>、子クラスを <ChildClass> とします。\n",
        "\n",
        "次のように書きます。\n",
        "\n",
        "```py\n",
        "class <ChildClass>(<ParentClass>):\n",
        "\n",
        "    <関数や属性の定義>\n",
        "\n",
        "```"
      ]
    },
    {
      "cell_type": "markdown",
      "metadata": {
        "id": "CjXvYPPposqe"
      },
      "source": [
        "以下のコードは、`MyCalender` が `BaseCalender` を継承しています。\n",
        "\n",
        "継承すると、親クラスのメソッドが使えます。\n",
        "\n",
        "子クラスでメソッドや属性を追加することもできます。\n",
        "\n",
        "子クラスの変更は親クラスには影響しません。"
      ]
    },
    {
      "cell_type": "code",
      "execution_count": 21,
      "metadata": {
        "id": "FH1lkKihosqe",
        "outputId": "231f225f-587d-44f8-9042-c897c5548faf",
        "colab": {
          "base_uri": "https://localhost:8080/"
        }
      },
      "outputs": [
        {
          "output_type": "stream",
          "name": "stdout",
          "text": [
            "2025\n",
            "2035\n",
            "1900\n",
            "1910\n",
            "2501\n"
          ]
        }
      ],
      "source": [
        "class BaseCalender:\n",
        "\n",
        "    def __init__(self, year):\n",
        "        self.year = year\n",
        "\n",
        "    def get_future_year(self, year_length):\n",
        "        return self.year + year_length\n",
        "\n",
        "class MyCalender(BaseCalender):\n",
        "\n",
        "    def get_next_year(self):\n",
        "        return self.year + 1\n",
        "\n",
        "print(BaseCalender(2025).year)\n",
        "print(BaseCalender(2025).get_future_year(10))\n",
        "\n",
        "print(MyCalender(1900).year) # 親クラスで定義したインスタンス属性\n",
        "print(MyCalender(1900).get_future_year(10)) # 親クラスで定義したメソッド\n",
        "\n",
        "print(MyCalender(2500).get_next_year()) # 子クラスで定義したメソッド\n",
        "# print(BaseCalender(2025).get_next_year()) # エラーになる"
      ]
    },
    {
      "cell_type": "markdown",
      "metadata": {
        "id": "-fWHEMMbosqe"
      },
      "source": [
        "子クラスで親クラスと同じメソッドや属性を定義すると上書きされます。"
      ]
    },
    {
      "cell_type": "code",
      "execution_count": 22,
      "metadata": {
        "id": "04Pm-p4Cosqe",
        "outputId": "023eb0d5-26ad-470c-e166-1a2ae1bedbe9",
        "colab": {
          "base_uri": "https://localhost:8080/"
        }
      },
      "outputs": [
        {
          "output_type": "stream",
          "name": "stdout",
          "text": [
            "私は親です\n",
            "私は子です\n"
          ]
        }
      ],
      "source": [
        "class MyParent:\n",
        "\n",
        "    def print_me(self):\n",
        "        print(\"私は親です\")\n",
        "\n",
        "class MyChild(MyParent):\n",
        "\n",
        "    def print_me(self):\n",
        "        print(\"私は子です\")\n",
        "\n",
        "MyParent().print_me()\n",
        "MyChild().print_me()"
      ]
    },
    {
      "cell_type": "markdown",
      "metadata": {
        "id": "4GouyzTUosqe"
      },
      "source": [
        "クラスを継承した場合、`super` 関数を使うことで、親のメソッドを呼び出すことができます。\n",
        "\n",
        "以下のように子クラスの初期化メソッド内で、親クラスの初期化メソッドを呼ぶことで親クラスのインスタンス属性を付与し、さらに子クラス独自のインスタンスを属性を追加することができます。"
      ]
    },
    {
      "cell_type": "code",
      "execution_count": 23,
      "metadata": {
        "id": "zkd8SB1tosqe",
        "outputId": "2dc59d6d-686c-4eaa-fabc-4b82cd0a2ea6",
        "colab": {
          "base_uri": "https://localhost:8080/"
        }
      },
      "outputs": [
        {
          "output_type": "stream",
          "name": "stdout",
          "text": [
            "Title: 1984, Author: George Orwell\n",
            "Title: 1984, Author: George Orwell, File Format: PDF\n"
          ]
        }
      ],
      "source": [
        "class Book:\n",
        "    def __init__(self, title, author):\n",
        "        self.title = title\n",
        "        self.author = author\n",
        "\n",
        "    def display_info(self):\n",
        "        return f\"Title: {self.title}, Author: {self.author}\"\n",
        "\n",
        "class EBook(Book):\n",
        "    def __init__(self, title, author, file_format):\n",
        "        super().__init__(title, author)  # 親クラスの初期化メソッドの呼び出し\n",
        "        self.file_format = file_format  # 追加のインスタンス属性の付与\n",
        "\n",
        "    def display_info(self):\n",
        "        base_info = super().display_info()  # 親クラスのメソッドの呼び出し\n",
        "        return f\"{base_info}, File Format: {self.file_format}\"\n",
        "\n",
        "book = Book(\"1984\", \"George Orwell\")\n",
        "ebook = EBook(\"1984\", \"George Orwell\", \"PDF\")\n",
        "\n",
        "print(book.display_info())  # Title: 1984, Author: George Orwell\n",
        "print(ebook.display_info())  # Title: 1984, Author: George Orwell, File Format: PDF"
      ]
    },
    {
      "cell_type": "markdown",
      "metadata": {
        "id": "s3N_1IAcosqf"
      },
      "source": [
        "文字列の前に `f` を付けたものを f-string 記法と呼びます。\n",
        "\n",
        "文字列内に `{<name>}` のように、変数名を波括弧で囲むと、指定した変数名の値が参照されます。\n",
        "\n",
        "より複雑なフォーマットの書き方は Python ドキュメントの [入力と出力](https://docs.python.org/ja/3.12/tutorial/inputoutput.html) を参照してください。"
      ]
    },
    {
      "cell_type": "code",
      "execution_count": 24,
      "metadata": {
        "id": "c6hNz3Hnosqf",
        "outputId": "dd1123de-a522-40b1-a497-6e5d897aac71",
        "colab": {
          "base_uri": "https://localhost:8080/",
          "height": 36
        }
      },
      "outputs": [
        {
          "output_type": "execute_result",
          "data": {
            "text/plain": [
              "'this year is 2025'"
            ],
            "application/vnd.google.colaboratory.intrinsic+json": {
              "type": "string"
            }
          },
          "metadata": {},
          "execution_count": 24
        }
      ],
      "source": [
        "this_year = 2025\n",
        "f\"this year is {this_year}\""
      ]
    }
  ],
  "metadata": {
    "kernelspec": {
      "display_name": ".venv",
      "language": "python",
      "name": "python3"
    },
    "language_info": {
      "codemirror_mode": {
        "name": "ipython",
        "version": 3
      },
      "file_extension": ".py",
      "mimetype": "text/x-python",
      "name": "python",
      "nbconvert_exporter": "python",
      "pygments_lexer": "ipython3",
      "version": "3.11.7"
    },
    "colab": {
      "provenance": [],
      "include_colab_link": true
    }
  },
  "nbformat": 4,
  "nbformat_minor": 0
}