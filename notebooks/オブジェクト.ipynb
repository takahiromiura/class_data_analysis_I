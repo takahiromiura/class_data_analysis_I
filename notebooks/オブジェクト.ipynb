{
  "cells": [
    {
      "cell_type": "markdown",
      "metadata": {
        "id": "view-in-github",
        "colab_type": "text"
      },
      "source": [
        "<a href=\"https://colab.research.google.com/github/takahiromiura/class_data_analysis_I/blob/main/notebooks/%E3%82%AA%E3%83%96%E3%82%B8%E3%82%A7%E3%82%AF%E3%83%88.ipynb\" target=\"_parent\"><img src=\"https://colab.research.google.com/assets/colab-badge.svg\" alt=\"Open In Colab\"/></a>"
      ]
    },
    {
      "cell_type": "markdown",
      "metadata": {
        "id": "nJCiziqMeDN_"
      },
      "source": [
        " # オブジェクト\n",
        "\n",
        "\n",
        "\n",
        " ここでは、プログラミングにおいて頻発するオブジェクトという概念について学びます。\n",
        "\n",
        " 少し難しい概念ですが、様々なドキュメントでこの用語が使われるので、その雰囲気だけでもつかんでください。"
      ]
    },
    {
      "cell_type": "markdown",
      "metadata": {
        "id": "dX1KPk1FeDOA"
      },
      "source": [
        " ## オブジェクトとは\n",
        "\n",
        "\n",
        "\n",
        " Python において、数値や、文字列、辞書、関数、その他にリストやクラスなどをまとめて **オブジェクト** として扱います。\n",
        "\n",
        "\n",
        "\n",
        " すべてのオブジェクトは同一性、型、値をもっています。\n",
        "\n",
        "\n",
        "\n",
        " ### 同一性\n",
        "\n",
        "\n",
        "\n",
        " 同一性とは、そのオブジェクトが他のオブジェクトと区別可能であるということを表しています。\n",
        "\n",
        "\n",
        "\n",
        " Python では `id` 関数を用いてそのオブジェクトのアイデンティティ (整数) を取得することが可能です。"
      ]
    },
    {
      "cell_type": "code",
      "execution_count": 1,
      "metadata": {
        "id": "JOC2nvI-eDOA",
        "outputId": "a150baf1-f10a-4552-e1d7-177bb4363b89",
        "colab": {
          "base_uri": "https://localhost:8080/"
        }
      },
      "outputs": [
        {
          "output_type": "execute_result",
          "data": {
            "text/plain": [
              "140428859883824"
            ]
          },
          "metadata": {},
          "execution_count": 1
        }
      ],
      "source": [
        "id(3)"
      ]
    },
    {
      "cell_type": "code",
      "execution_count": 2,
      "metadata": {
        "id": "o0PrXfgjeDOA",
        "outputId": "81f3266e-6e17-438f-d08f-bc5b5a4f6446",
        "colab": {
          "base_uri": "https://localhost:8080/"
        }
      },
      "outputs": [
        {
          "output_type": "execute_result",
          "data": {
            "text/plain": [
              "140428853143344"
            ]
          },
          "metadata": {},
          "execution_count": 2
        }
      ],
      "source": [
        "id(\"japan\")"
      ]
    },
    {
      "cell_type": "markdown",
      "metadata": {
        "id": "8plv31C2eDOB"
      },
      "source": [
        " ### 型 (クラス)\n",
        "\n",
        "\n",
        "\n",
        " 型 (またはクラス) とは、オブジェクトの種類を指します。\n",
        "\n",
        "\n",
        "\n",
        " 例えば、今まで用いてきた `3`、`4` などの整数は整数 (`int`) 型に分類されます。\n",
        "\n",
        "\n",
        "\n",
        " `3.14` などの小数点は小数点 (`float`) 型です。\n",
        "\n",
        "\n",
        "\n",
        " 整数型、小数点型などをまとめて数値型とも呼びます。\n",
        "\n",
        "\n",
        "\n",
        " `\"japan\"` などの文字列は文字列 (`str`) 型です。\n",
        "\n",
        "\n",
        "\n",
        " 辞書は辞書 (`dict`) 型に属します。\n",
        "\n",
        "\n",
        "\n",
        " オブジェクトの型は `type` 関数によって調べることができます。\n",
        "\n"
      ]
    },
    {
      "cell_type": "code",
      "execution_count": 3,
      "metadata": {
        "id": "G4cs-AjyeDOB",
        "outputId": "ef8b468e-7ccf-4bc3-9401-de121ddd0580",
        "colab": {
          "base_uri": "https://localhost:8080/"
        }
      },
      "outputs": [
        {
          "output_type": "execute_result",
          "data": {
            "text/plain": [
              "int"
            ]
          },
          "metadata": {},
          "execution_count": 3
        }
      ],
      "source": [
        "type(3)"
      ]
    },
    {
      "cell_type": "code",
      "execution_count": 4,
      "metadata": {
        "id": "ZbsZOWiKeDOB",
        "outputId": "b589cf10-30dd-4cdf-d30f-575d75b9bc2b",
        "colab": {
          "base_uri": "https://localhost:8080/"
        }
      },
      "outputs": [
        {
          "output_type": "execute_result",
          "data": {
            "text/plain": [
              "float"
            ]
          },
          "metadata": {},
          "execution_count": 4
        }
      ],
      "source": [
        "type(3.14)"
      ]
    },
    {
      "cell_type": "code",
      "execution_count": 5,
      "metadata": {
        "id": "Ob9F8r1SeDOB",
        "outputId": "a9bf4c54-2271-4a30-afae-9a6c8e10620e",
        "colab": {
          "base_uri": "https://localhost:8080/"
        }
      },
      "outputs": [
        {
          "output_type": "execute_result",
          "data": {
            "text/plain": [
              "str"
            ]
          },
          "metadata": {},
          "execution_count": 5
        }
      ],
      "source": [
        "type(\"japan\")"
      ]
    },
    {
      "cell_type": "markdown",
      "metadata": {
        "id": "9e1Afdv3eDOB"
      },
      "source": [
        " ### 値\n",
        "\n",
        "\n",
        "\n",
        " 値は、そのオブジェクトが持つ情報で、整数オブジェクトならその値です。\n",
        "\n",
        "\n",
        "\n",
        " 例えば、`3` の値は 3、`japan` の値は japan です。\n",
        "\n",
        "\n",
        "\n",
        " 辞書型では、キーと値のペアの集まりが、その辞書型オブジェクトの持つ値です。"
      ]
    },
    {
      "cell_type": "markdown",
      "metadata": {
        "id": "u6dY1lZ5eDOB"
      },
      "source": [
        " ## 属性・メソッド\n",
        "\n",
        "\n",
        "\n",
        " オブジェクトの型によって、保持している状態を表す変数や用いることができる関数などがあります。\n",
        "\n",
        "\n",
        "\n",
        " 変数のことを **属性** (attribute) 、関数のことを **メソッド** (method) といいます。\n",
        "\n",
        "\n",
        "\n",
        " これらを参照するには、オブジェクトの後に `.` をつけて、その後に属性名、メソッドを続けます。\n",
        "\n",
        "\n",
        "\n",
        " 例えば、文字列 (`str`) 型には、文字を大文字にする `upper` や逆に小文字にする `lower` メソッドなどがあります。\n",
        "\n",
        "\n",
        "\n",
        " 単語の先頭の文字のみを大文字にする `title` メソッドというのもあります。\n",
        "\n",
        "\n",
        "\n",
        " なお、日本語では大文字・小文字の対応はありません。\n",
        "\n",
        "\n",
        "\n",
        " 「や」と「ゃ」は別の文字として扱われています。"
      ]
    },
    {
      "cell_type": "code",
      "execution_count": 6,
      "metadata": {
        "id": "TjRAPACveDOB",
        "outputId": "cfb4d823-9d38-407e-b351-fa6bb3a99b26",
        "colab": {
          "base_uri": "https://localhost:8080/",
          "height": 36
        }
      },
      "outputs": [
        {
          "output_type": "execute_result",
          "data": {
            "text/plain": [
              "'JAPAN'"
            ],
            "application/vnd.google.colaboratory.intrinsic+json": {
              "type": "string"
            }
          },
          "metadata": {},
          "execution_count": 6
        }
      ],
      "source": [
        "\"japan\".upper()"
      ]
    },
    {
      "cell_type": "code",
      "execution_count": 7,
      "metadata": {
        "id": "c3RLkvKPeDOC",
        "outputId": "e3a423bc-7210-4dae-eb06-2c280284decb",
        "colab": {
          "base_uri": "https://localhost:8080/",
          "height": 36
        }
      },
      "outputs": [
        {
          "output_type": "execute_result",
          "data": {
            "text/plain": [
              "'hello!'"
            ],
            "application/vnd.google.colaboratory.intrinsic+json": {
              "type": "string"
            }
          },
          "metadata": {},
          "execution_count": 7
        }
      ],
      "source": [
        "\"Hello!\".lower()"
      ]
    },
    {
      "cell_type": "code",
      "execution_count": 8,
      "metadata": {
        "id": "-kfzhtaOeDOC",
        "outputId": "56bd55db-897c-4ce4-e60f-154b7c04f785",
        "colab": {
          "base_uri": "https://localhost:8080/",
          "height": 36
        }
      },
      "outputs": [
        {
          "output_type": "execute_result",
          "data": {
            "text/plain": [
              "'This Is A Pen'"
            ],
            "application/vnd.google.colaboratory.intrinsic+json": {
              "type": "string"
            }
          },
          "metadata": {},
          "execution_count": 8
        }
      ],
      "source": [
        "\"this is a pen\".title()"
      ]
    },
    {
      "cell_type": "markdown",
      "metadata": {
        "id": "E25OKNdGeDOC"
      },
      "source": [
        " オブジェクトにどのような属性・メソッドが備わっているかは、`dir` 関数によって調べることができます。\n",
        "\n",
        "\n",
        "\n",
        " 各メソッドや属性の内容を覚える必要はありませんが、どういったことができるかを知っておくと、困ったときに役立ちます。\n",
        "\n",
        "\n",
        "\n",
        " 多くの場合、属性やメソッドに関するドキュメントが用意されており、google 検索などで調べることが可能です\n",
        "\n",
        "\n",
        "\n",
        " (例: [`str` 型に関する説明ページ](https://docs.python.org/ja/3.11/library/stdtypes.html#string-methods))。\n",
        "\n"
      ]
    },
    {
      "cell_type": "code",
      "execution_count": 9,
      "metadata": {
        "id": "hslwBOMIeDOC",
        "outputId": "8b20c381-35db-4b2c-c9b4-d0712ac46cd1",
        "colab": {
          "base_uri": "https://localhost:8080/"
        }
      },
      "outputs": [
        {
          "output_type": "execute_result",
          "data": {
            "text/plain": [
              "['__add__',\n",
              " '__class__',\n",
              " '__contains__',\n",
              " '__delattr__',\n",
              " '__dir__',\n",
              " '__doc__',\n",
              " '__eq__',\n",
              " '__format__',\n",
              " '__ge__',\n",
              " '__getattribute__',\n",
              " '__getitem__',\n",
              " '__getnewargs__',\n",
              " '__gt__',\n",
              " '__hash__',\n",
              " '__init__',\n",
              " '__init_subclass__',\n",
              " '__iter__',\n",
              " '__le__',\n",
              " '__len__',\n",
              " '__lt__',\n",
              " '__mod__',\n",
              " '__mul__',\n",
              " '__ne__',\n",
              " '__new__',\n",
              " '__reduce__',\n",
              " '__reduce_ex__',\n",
              " '__repr__',\n",
              " '__rmod__',\n",
              " '__rmul__',\n",
              " '__setattr__',\n",
              " '__sizeof__',\n",
              " '__str__',\n",
              " '__subclasshook__',\n",
              " 'capitalize',\n",
              " 'casefold',\n",
              " 'center',\n",
              " 'count',\n",
              " 'encode',\n",
              " 'endswith',\n",
              " 'expandtabs',\n",
              " 'find',\n",
              " 'format',\n",
              " 'format_map',\n",
              " 'index',\n",
              " 'isalnum',\n",
              " 'isalpha',\n",
              " 'isascii',\n",
              " 'isdecimal',\n",
              " 'isdigit',\n",
              " 'isidentifier',\n",
              " 'islower',\n",
              " 'isnumeric',\n",
              " 'isprintable',\n",
              " 'isspace',\n",
              " 'istitle',\n",
              " 'isupper',\n",
              " 'join',\n",
              " 'ljust',\n",
              " 'lower',\n",
              " 'lstrip',\n",
              " 'maketrans',\n",
              " 'partition',\n",
              " 'removeprefix',\n",
              " 'removesuffix',\n",
              " 'replace',\n",
              " 'rfind',\n",
              " 'rindex',\n",
              " 'rjust',\n",
              " 'rpartition',\n",
              " 'rsplit',\n",
              " 'rstrip',\n",
              " 'split',\n",
              " 'splitlines',\n",
              " 'startswith',\n",
              " 'strip',\n",
              " 'swapcase',\n",
              " 'title',\n",
              " 'translate',\n",
              " 'upper',\n",
              " 'zfill']"
            ]
          },
          "metadata": {},
          "execution_count": 9
        }
      ],
      "source": [
        "dir(\"japan\")"
      ]
    }
  ],
  "metadata": {
    "language_info": {
      "name": "python"
    },
    "colab": {
      "provenance": [],
      "include_colab_link": true
    },
    "kernelspec": {
      "name": "python3",
      "display_name": "Python 3"
    }
  },
  "nbformat": 4,
  "nbformat_minor": 0
}