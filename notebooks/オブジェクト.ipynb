{
 "cells": [
  {
   "cell_type": "markdown",
   "metadata": {},
   "source": [
    " # オブジェクト\n",
    "\n",
    "\n",
    "\n",
    " ここでは、プログラミングにおいて頻発するオブジェクトという概念について学びます。\n",
    "\n",
    " 少し難しい概念ですが、様々なドキュメントでこの用語が使われるので、その雰囲気だけでもつかんでください。"
   ]
  },
  {
   "cell_type": "markdown",
   "metadata": {},
   "source": [
    " ## オブジェクトとは\n",
    "\n",
    "\n",
    "\n",
    " Python において、数値や、文字列、辞書、関数、その他にリストやクラスなどをまとめて **オブジェクト** として扱います。\n",
    "\n",
    "\n",
    "\n",
    " すべてのオブジェクトは同一性、型、値をもっています。\n",
    "\n",
    "\n",
    "\n",
    " ### 同一性\n",
    "\n",
    "\n",
    "\n",
    " 同一性とは、そのオブジェクトが他のオブジェクトと区別可能であるということを表しています。\n",
    "\n",
    "\n",
    "\n",
    " Python では `id` 関数を用いてそのオブジェクトのアイデンティティ (整数) を取得することが可能です。"
   ]
  },
  {
   "cell_type": "code",
   "execution_count": null,
   "metadata": {},
   "outputs": [],
   "source": [
    "id(3)"
   ]
  },
  {
   "cell_type": "code",
   "execution_count": null,
   "metadata": {},
   "outputs": [],
   "source": [
    "id(\"japan\")"
   ]
  },
  {
   "cell_type": "markdown",
   "metadata": {},
   "source": [
    " ### 型 (クラス)\n",
    "\n",
    "\n",
    "\n",
    " 型 (またはクラス) とは、オブジェクトの種類を指します。\n",
    "\n",
    "\n",
    "\n",
    " 例えば、今まで用いてきた `3`、`4` などの整数は整数 (`int`) 型に分類されます。\n",
    "\n",
    "\n",
    "\n",
    " `3.14` などの小数点は小数点 (`float`) 型です。\n",
    "\n",
    "\n",
    "\n",
    " 整数型、小数点型などをまとめて数値型とも呼びます。\n",
    "\n",
    "\n",
    "\n",
    " `\"japan\"` などの文字列は文字列 (`str`) 型です。\n",
    "\n",
    "\n",
    "\n",
    " 辞書は辞書 (`dict`) 型に属します。\n",
    "\n",
    "\n",
    "\n",
    " オブジェクトの型は `type` 関数によって調べることができます。\n",
    "\n"
   ]
  },
  {
   "cell_type": "code",
   "execution_count": null,
   "metadata": {},
   "outputs": [],
   "source": [
    "type(3)"
   ]
  },
  {
   "cell_type": "code",
   "execution_count": null,
   "metadata": {},
   "outputs": [],
   "source": [
    "type(3.14)"
   ]
  },
  {
   "cell_type": "code",
   "execution_count": null,
   "metadata": {},
   "outputs": [],
   "source": [
    "type(\"japan\")"
   ]
  },
  {
   "cell_type": "markdown",
   "metadata": {},
   "source": [
    " ### 値\n",
    "\n",
    "\n",
    "\n",
    " 値は、そのオブジェクトが持つ情報で、整数オブジェクトならその値です。\n",
    "\n",
    "\n",
    "\n",
    " 例えば、`3` の値は 3、`japan` の値は japan です。\n",
    "\n",
    "\n",
    "\n",
    " 辞書型では、キーと値のペアの集まりが、その辞書型オブジェクトの持つ値です。"
   ]
  },
  {
   "cell_type": "markdown",
   "metadata": {},
   "source": [
    " ## 属性・メソッド\n",
    "\n",
    "\n",
    "\n",
    " オブジェクトの型によって、保持している状態を表す変数や用いることができる関数などがあります。\n",
    "\n",
    "\n",
    "\n",
    " 変数のことを **属性** (attribute) 、関数のことを **メソッド** (method) といいます。\n",
    "\n",
    "\n",
    "\n",
    " これらを参照するには、オブジェクトの後に `.` をつけて、その後に属性名、メソッドを続けます。\n",
    "\n",
    "\n",
    "\n",
    " 例えば、文字列 (`str`) 型には、文字を大文字にする `upper` や逆に小文字にする `lower` メソッドなどがあります。\n",
    "\n",
    "\n",
    "\n",
    " 単語の先頭の文字のみを大文字にする `title` メソッドというのもあります。\n",
    "\n",
    "\n",
    "\n",
    " なお、日本語では大文字・小文字の対応はありません。\n",
    "\n",
    "\n",
    "\n",
    " 「や」と「ゃ」は別の文字として扱われています。"
   ]
  },
  {
   "cell_type": "code",
   "execution_count": null,
   "metadata": {},
   "outputs": [],
   "source": [
    "\"japan\".upper()"
   ]
  },
  {
   "cell_type": "code",
   "execution_count": null,
   "metadata": {},
   "outputs": [],
   "source": [
    "\"Hello!\".lower()"
   ]
  },
  {
   "cell_type": "code",
   "execution_count": null,
   "metadata": {},
   "outputs": [],
   "source": [
    "\"this is a pen\".title()"
   ]
  },
  {
   "cell_type": "markdown",
   "metadata": {},
   "source": [
    " オブジェクトにどのような属性・メソッドが備わっているかは、`dir` 関数によって調べることができます。\n",
    "\n",
    "\n",
    "\n",
    " 各メソッドや属性の内容を覚える必要はありませんが、どういったことができるかを知っておくと、困ったときに役立ちます。\n",
    "\n",
    "\n",
    "\n",
    " 多くの場合、属性やメソッドに関するドキュメントが用意されており、google 検索などで調べることが可能です\n",
    "\n",
    "\n",
    "\n",
    " (例: [`str` 型に関する説明ページ](https://docs.python.org/ja/3.11/library/stdtypes.html#string-methods))。\n",
    "\n"
   ]
  },
  {
   "cell_type": "code",
   "execution_count": null,
   "metadata": {},
   "outputs": [],
   "source": [
    "dir(\"japan\")"
   ]
  }
 ],
 "metadata": {
  "language_info": {
   "codemirror_mode": {
    "name": "ipython",
    "version": 3
   },
   "file_extension": ".py",
   "mimetype": "text/x-python",
   "name": "python",
   "nbconvert_exporter": "python",
   "pygments_lexer": "ipython3",
   "version": 3
  }
 },
 "nbformat": 4,
 "nbformat_minor": 2
}
