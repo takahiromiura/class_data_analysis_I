{
 "cells": [
  {
   "cell_type": "markdown",
   "metadata": {},
   "source": [
    "# コメントアウト\n",
    "\n",
    "コードセル内でコメントを追加するためには、文の前に `#` を付けます。\n",
    "`#` 以降の行の文字はコメントアウトされます。\n",
    "\n",
    "コメントは実行時に無視され、コードの説明やメモを残すために使用されます。\n",
    "コメントアウトをなくすには、`#` を消去してください。"
   ]
  },
  {
   "cell_type": "code",
   "execution_count": 13,
   "metadata": {},
   "outputs": [
    {
     "name": "stdout",
     "output_type": "stream",
     "text": [
      "Hello, world!\n"
     ]
    }
   ],
   "source": [
    "# これはコメントです\n",
    "print(\"Hello, world!\")  # これもコメントです"
   ]
  },
  {
   "cell_type": "markdown",
   "metadata": {},
   "source": [
    "## やってみよう\n",
    "\n",
    "下のコードセルのコメントを外してから実行してください。"
   ]
  },
  {
   "cell_type": "code",
   "execution_count": null,
   "metadata": {},
   "outputs": [],
   "source": [
    "# print(\"これはコメントではありません。\")"
   ]
  },
  {
   "cell_type": "markdown",
   "metadata": {},
   "source": [
    "このドキュメントでは、実行するとエラーになるものはコメントアウトしています (上のコードセルを除く)。"
   ]
  },
  {
   "cell_type": "markdown",
   "metadata": {},
   "source": [
    "# 計算機能\n",
    "\n",
    "まずは、Python を簡単な電卓のように使ってみましょう。\n",
    "\n",
    "Python では、演算とそのための記号 (演算子)は次のように対応します。\n",
    "小数点はピリオド `.` で示します。\n"
   ]
  },
  {
   "cell_type": "markdown",
   "metadata": {},
   "source": [
    "加算: `+`"
   ]
  },
  {
   "cell_type": "code",
   "execution_count": 2,
   "metadata": {},
   "outputs": [
    {
     "data": {
      "text/plain": [
       "5"
      ]
     },
     "execution_count": 2,
     "metadata": {},
     "output_type": "execute_result"
    }
   ],
   "source": [
    "3 + 2"
   ]
  },
  {
   "cell_type": "markdown",
   "metadata": {},
   "source": [
    "減算: `-`"
   ]
  },
  {
   "cell_type": "code",
   "execution_count": 3,
   "metadata": {},
   "outputs": [
    {
     "data": {
      "text/plain": [
       "7"
      ]
     },
     "execution_count": 3,
     "metadata": {},
     "output_type": "execute_result"
    }
   ],
   "source": [
    "10 - 3"
   ]
  },
  {
   "cell_type": "markdown",
   "metadata": {},
   "source": [
    "乗算: `*`\n"
   ]
  },
  {
   "cell_type": "code",
   "execution_count": 4,
   "metadata": {},
   "outputs": [
    {
     "data": {
      "text/plain": [
       "24"
      ]
     },
     "execution_count": 4,
     "metadata": {},
     "output_type": "execute_result"
    }
   ],
   "source": [
    "8 * 3"
   ]
  },
  {
   "cell_type": "markdown",
   "metadata": {},
   "source": [
    "\n",
    "除算: `/`\n"
   ]
  },
  {
   "cell_type": "code",
   "execution_count": 5,
   "metadata": {},
   "outputs": [
    {
     "data": {
      "text/plain": [
       "1.5"
      ]
     },
     "execution_count": 5,
     "metadata": {},
     "output_type": "execute_result"
    }
   ],
   "source": [
    "3 / 2"
   ]
  },
  {
   "cell_type": "markdown",
   "metadata": {},
   "source": [
    "\n",
    "除算 (小数点切り捨て): `//`\n"
   ]
  },
  {
   "cell_type": "code",
   "execution_count": 6,
   "metadata": {},
   "outputs": [
    {
     "data": {
      "text/plain": [
       "1.5"
      ]
     },
     "execution_count": 6,
     "metadata": {},
     "output_type": "execute_result"
    }
   ],
   "source": [
    "3 / 2"
   ]
  },
  {
   "cell_type": "markdown",
   "metadata": {},
   "source": [
    "累乗: `**`\n"
   ]
  },
  {
   "cell_type": "code",
   "execution_count": 7,
   "metadata": {},
   "outputs": [
    {
     "data": {
      "text/plain": [
       "4"
      ]
     },
     "execution_count": 7,
     "metadata": {},
     "output_type": "execute_result"
    }
   ],
   "source": [
    "2 ** 2"
   ]
  },
  {
   "cell_type": "markdown",
   "metadata": {},
   "source": [
    "剰余: `%`"
   ]
  },
  {
   "cell_type": "code",
   "execution_count": 8,
   "metadata": {},
   "outputs": [
    {
     "data": {
      "text/plain": [
       "1"
      ]
     },
     "execution_count": 8,
     "metadata": {},
     "output_type": "execute_result"
    }
   ],
   "source": [
    "5 % 2"
   ]
  },
  {
   "cell_type": "markdown",
   "metadata": {},
   "source": [
    "演算子と数字の間のスペースはあってもなくてもよいです。\n",
    "\n",
    "四則演算の順番は数学のルールに則ります。\n",
    "先に計算したい部分は、括弧 `()` でくくります。\n",
    "括弧はきちんと閉じることを忘れずに。"
   ]
  },
  {
   "cell_type": "code",
   "execution_count": 12,
   "metadata": {},
   "outputs": [
    {
     "data": {
      "text/plain": [
       "4.0"
      ]
     },
     "execution_count": 12,
     "metadata": {},
     "output_type": "execute_result"
    }
   ],
   "source": [
    "6 - 4 / 2"
   ]
  },
  {
   "cell_type": "code",
   "execution_count": 10,
   "metadata": {},
   "outputs": [
    {
     "data": {
      "text/plain": [
       "1.0"
      ]
     },
     "execution_count": 10,
     "metadata": {},
     "output_type": "execute_result"
    }
   ],
   "source": [
    "(6 - 4) / 2"
   ]
  },
  {
   "cell_type": "markdown",
   "metadata": {},
   "source": [
    "## やってみよう\n",
    "\n",
    "次の計算をしてみてください。\n",
    "- $5 + 2 - 9$\n",
    "- $3 + 2 \\times 8$\n",
    "- $(3 + 2) \\times 5$\n",
    "- $3 - 2 / 2$\n",
    "- $4$ の $(3 / 3)$ 乗"
   ]
  },
  {
   "cell_type": "markdown",
   "metadata": {},
   "source": [
    "## 文字列を使う\n",
    "\n",
    "1 などの数値や `japan` などの文字列をリテラル (literal) といいます。\n",
    "\n",
    "文字列リテラルをそのまま入力すると (例えば `japan`)、後ほど説明するように変数名として認識されます。\n",
    "\n",
    "文字列(リテラル)自体を扱うには、ダブルクォーテーションか `\"` シングルクォーテーション `'` で文字列を囲みます。"
   ]
  },
  {
   "cell_type": "code",
   "execution_count": null,
   "metadata": {},
   "outputs": [],
   "source": [
    "\"JAPAN\""
   ]
  },
  {
   "cell_type": "code",
   "execution_count": null,
   "metadata": {},
   "outputs": [],
   "source": [
    "'japan'"
   ]
  },
  {
   "cell_type": "markdown",
   "metadata": {},
   "source": [
    "数値も `\"` や `'` で囲うと文字列として評価されます。"
   ]
  },
  {
   "cell_type": "code",
   "execution_count": null,
   "metadata": {},
   "outputs": [],
   "source": [
    "\"100\""
   ]
  },
  {
   "cell_type": "markdown",
   "metadata": {},
   "source": [
    "同じ行で複数の文字列を定義すると結合されて 1 つの文字列として認識されます。"
   ]
  },
  {
   "cell_type": "code",
   "execution_count": null,
   "metadata": {},
   "outputs": [],
   "source": [
    "\"wakayama \" \"prefecture\""
   ]
  },
  {
   "cell_type": "markdown",
   "metadata": {},
   "source": [
    "文字列同士は `+` で結合することができます。"
   ]
  },
  {
   "cell_type": "code",
   "execution_count": null,
   "metadata": {},
   "outputs": [],
   "source": [
    "\"wakayama \" + \"prefecture\""
   ]
  },
  {
   "cell_type": "markdown",
   "metadata": {},
   "source": [
    "文字列と数字は足すことはできません。"
   ]
  },
  {
   "cell_type": "code",
   "execution_count": null,
   "metadata": {},
   "outputs": [],
   "source": [
    "# \"Plus\" + 1"
   ]
  },
  {
   "cell_type": "markdown",
   "metadata": {},
   "source": [
    "文字列 `*` 整数 (n) とすると、文字列が n 回繰り返されます。"
   ]
  },
  {
   "cell_type": "code",
   "execution_count": null,
   "metadata": {},
   "outputs": [],
   "source": [
    "\"Hello!\" * 3"
   ]
  },
  {
   "cell_type": "markdown",
   "metadata": {},
   "source": [
    "文字列同士の引き算や割り算などはできません。"
   ]
  },
  {
   "cell_type": "code",
   "execution_count": null,
   "metadata": {},
   "outputs": [],
   "source": [
    "# \"two\" - \"one\""
   ]
  },
  {
   "cell_type": "markdown",
   "metadata": {},
   "source": [
    "## やってみよう\n",
    "Python を使って次の文字を出力してみましょう\n",
    "- programming\n",
    "- py と thon の結合文字\n",
    "- YES を 5 回繰り返した文字"
   ]
  },
  {
   "cell_type": "markdown",
   "metadata": {},
   "source": [
    "## 真偽値\n",
    "\n",
    "Python では真偽値を `True`, `False` で表します。"
   ]
  },
  {
   "cell_type": "code",
   "execution_count": null,
   "metadata": {},
   "outputs": [],
   "source": [
    "True"
   ]
  },
  {
   "cell_type": "code",
   "execution_count": null,
   "metadata": {},
   "outputs": [],
   "source": [
    "False"
   ]
  },
  {
   "cell_type": "markdown",
   "metadata": {},
   "source": [
    "比較演算子はこの真偽値を返します。基本的な比較演算子は以下のものがあります。\n",
    "\n",
    "- `x == y`: `x` は `y` と等しい\n",
    "- `x != y`: `x` は `y` と等しくない\n",
    "- `x > y`: `x` は `y` より大きい\n",
    "- `x >= y`: `x` は `y` より大きいか等しい\n",
    "- `x < y`: `x` は `y` より小さい\n",
    "- `x <= y`: `x` は `y` より小さいか等しい\n",
    "\n",
    "特に `==` は変数定義に使う `=` と誤用しやすいので、注意してください。"
   ]
  },
  {
   "cell_type": "code",
   "execution_count": null,
   "metadata": {},
   "outputs": [],
   "source": [
    "3 == 4"
   ]
  },
  {
   "cell_type": "code",
   "execution_count": null,
   "metadata": {},
   "outputs": [],
   "source": [
    "5 > 2"
   ]
  },
  {
   "cell_type": "markdown",
   "metadata": {},
   "source": [
    "比較演算子の評価は最後に行われます。\n",
    "下のコードは、2 + 4 が計算された後に、5 と 6 の比較が行われます。"
   ]
  },
  {
   "cell_type": "code",
   "execution_count": 14,
   "metadata": {},
   "outputs": [
    {
     "data": {
      "text/plain": [
       "False"
      ]
     },
     "execution_count": 14,
     "metadata": {},
     "output_type": "execute_result"
    }
   ],
   "source": [
    "5 > 2 + 4"
   ]
  },
  {
   "cell_type": "markdown",
   "metadata": {},
   "source": [
    "文字列では大文字・小文字は区別されます。"
   ]
  },
  {
   "cell_type": "code",
   "execution_count": null,
   "metadata": {},
   "outputs": [],
   "source": [
    "'abc' == 'abc'"
   ]
  },
  {
   "cell_type": "code",
   "execution_count": null,
   "metadata": {},
   "outputs": [],
   "source": [
    "'abc' == 'ABC'"
   ]
  },
  {
   "cell_type": "markdown",
   "metadata": {},
   "source": [
    "`>` などの大小関係は順番によって決まります (a が最小で、z が最大)。"
   ]
  },
  {
   "cell_type": "code",
   "execution_count": null,
   "metadata": {},
   "outputs": [],
   "source": [
    "'a' < 'b'"
   ]
  },
  {
   "cell_type": "markdown",
   "metadata": {},
   "source": [
    "また、大文字のほうが小文字より小さいです。"
   ]
  },
  {
   "cell_type": "code",
   "execution_count": 24,
   "metadata": {},
   "outputs": [
    {
     "data": {
      "text/plain": [
       "True"
      ]
     },
     "execution_count": 24,
     "metadata": {},
     "output_type": "execute_result"
    }
   ],
   "source": [
    "\"a\" > \"B\""
   ]
  },
  {
   "cell_type": "markdown",
   "metadata": {},
   "source": [
    "文字列の大小関係の比較は、勘違いしやすいのでおすすめしません。\n",
    "\n",
    "\n",
    "数値と文字列など、異なるものの大小は比較できません。"
   ]
  },
  {
   "cell_type": "code",
   "execution_count": null,
   "metadata": {},
   "outputs": [],
   "source": [
    "# 3 == 'abc'"
   ]
  },
  {
   "cell_type": "code",
   "execution_count": null,
   "metadata": {},
   "outputs": [],
   "source": [
    "# 3 > 'abc'"
   ]
  },
  {
   "cell_type": "markdown",
   "metadata": {},
   "source": [
    "## やってみよう\n",
    "\n",
    "次の文が正しいかどうか、Python を用いて判定してください。\n",
    "\n",
    "- $3$ は $10$ より大きい\n",
    "- $8$ は $2$ で割り切れる\n",
    "- $4 \\times 2$ は $9$ より大きい"
   ]
  },
  {
   "cell_type": "markdown",
   "metadata": {},
   "source": [
    "# 変数\n",
    "\n",
    "長い計算や、途中式の結果などを保存できると使いまわせて便利です。\n",
    "\n",
    "任意の文字列 (シンボル) に数字や文字列などのデータを割り当てたものを **変数** (variable) と呼びます。\n",
    "\n",
    "変数に値を割り当てる (定義する) には、`変数名 = 値` と入力します。\n",
    "\n",
    "例えば、`apple = 100` とすると、`apple` というシンボルに `100` という数値が割り当てられます。"
   ]
  },
  {
   "cell_type": "code",
   "execution_count": null,
   "metadata": {},
   "outputs": [],
   "source": [
    "apple = 100"
   ]
  },
  {
   "cell_type": "code",
   "execution_count": null,
   "metadata": {},
   "outputs": [],
   "source": [
    "apple"
   ]
  },
  {
   "cell_type": "markdown",
   "metadata": {},
   "source": [
    "変数の値を書き換えるには、変数を再定義します。"
   ]
  },
  {
   "cell_type": "code",
   "execution_count": null,
   "metadata": {},
   "outputs": [],
   "source": [
    "apple = 150\n",
    "apple"
   ]
  },
  {
   "cell_type": "markdown",
   "metadata": {},
   "source": [
    "変数名は大文字・小文字が区別されることに注意してください。定義していない変数名を入力するとエラーになります。"
   ]
  },
  {
   "cell_type": "code",
   "execution_count": null,
   "metadata": {},
   "outputs": [],
   "source": [
    "# APPLE"
   ]
  },
  {
   "cell_type": "markdown",
   "metadata": {},
   "source": [
    "変数には文字列を割り当てることもできます。変数の定義には `\"` や `'` が必要ないことに注意してください。"
   ]
  },
  {
   "cell_type": "code",
   "execution_count": null,
   "metadata": {},
   "outputs": [],
   "source": [
    "here = \"wakayama\"\n",
    "here"
   ]
  },
  {
   "cell_type": "markdown",
   "metadata": {},
   "source": [
    "変数の値の参照は、演算などでも行われます。"
   ]
  },
  {
   "cell_type": "code",
   "execution_count": null,
   "metadata": {},
   "outputs": [],
   "source": [
    "apple * 5"
   ]
  },
  {
   "cell_type": "code",
   "execution_count": null,
   "metadata": {},
   "outputs": [],
   "source": [
    "budget = 1000\n",
    "budget - (apple * 3)"
   ]
  },
  {
   "cell_type": "markdown",
   "metadata": {},
   "source": [
    "ただし、文字列リテラルのときのように、同じ行で文字列が割り当てられた変数を並べても結合されずエラーになります。"
   ]
  },
  {
   "cell_type": "code",
   "execution_count": null,
   "metadata": {},
   "outputs": [],
   "source": [
    "price = \"100\"\n",
    "# price \"円\""
   ]
  },
  {
   "cell_type": "markdown",
   "metadata": {},
   "source": [
    "## 代入？割り当て？\n",
    "日本語のテキストだと、`x = 1` を 1 を `x` に代入すると書かれることがほとんどです。\n",
    "\n",
    "数学でもこの操作は代入として呼ばれるので、数学的な意味で解釈できると誤解しがちです。\n",
    "\n",
    "しかし、英語ではプログラミングにおける `x = 1` は assignment (割り当て) で、数学における代入 (substitution) とは異なる概念です。\n",
    "\n",
    "例えば、 Python のチュートリアルの[日本語版](https://docs.python.org/ja/3/tutorial/introduction.html#using-python-as-a-calculator)と[英語版](https://docs.python.org/3/tutorial/introduction.html#using-python-as-a-calculator)の説明を比べてみてください。\n",
    "\n",
    "プログラミング言語は、現実の模倣や抽象化したものが多く存在するので、身近なものに置き換えると理解しやすいことが多いです。\n",
    "\n",
    "一方で、慣れ親しんでいることで逆に理解しづらくなるものもあります。\n",
    "変数の割り当て式はその一つです。\n",
    "\n",
    "`=` は数式で等号の意味で使われますが、この意味をそのままプログラミング言語でも持っていこうとすると変なことが起こります。\n",
    "\n",
    "例えば、`x = 1` や `y = x + 1` は、数式として考えても意味が通ります。\n",
    "\n",
    "では、`x = x + 1` はどうでしょうか。数式として考えると、この式が成り立つ `x` は特別な場合を除いて存在しませんが、Python ではこれはエラーなく通ります (事前に `x` に数値が割り当てられているならば)。\n",
    "\n",
    "`x` に 1 が事前に割り当てられているなら、`x = x + 1` は `x` に新たに 2 が割り当てられます。実際に見てみます。"
   ]
  },
  {
   "cell_type": "code",
   "execution_count": 25,
   "metadata": {},
   "outputs": [
    {
     "data": {
      "text/plain": [
       "1"
      ]
     },
     "execution_count": 25,
     "metadata": {},
     "output_type": "execute_result"
    }
   ],
   "source": [
    "x = 1\n",
    "x"
   ]
  },
  {
   "cell_type": "code",
   "execution_count": 26,
   "metadata": {},
   "outputs": [
    {
     "data": {
      "text/plain": [
       "2"
      ]
     },
     "execution_count": 26,
     "metadata": {},
     "output_type": "execute_result"
    }
   ],
   "source": [
    "x = x + 1\n",
    "x"
   ]
  },
  {
   "cell_type": "markdown",
   "metadata": {},
   "source": [
    "先ほど説明した通り、左辺は右辺の値を割り当てる名前を表します。右辺は値なので、`x` でなく、`x` に割り当てられている値が参照され (つまり 1)、それが 1 と足されます。したがって、`x = x + 1` は `x = 2` になります。"
   ]
  },
  {
   "cell_type": "markdown",
   "metadata": {},
   "source": [
    "## やってみよう\n",
    "\n",
    "\n",
    "> 次の変数を定義しましょう\n",
    "> - A さんの身長 (170 cm)\n",
    "> - A さんの体重 (65 kg)\n",
    "> - A さんの BMI (体重 / 身長 (m) の 2 乗)"
   ]
  },
  {
   "cell_type": "markdown",
   "metadata": {},
   "source": [
    "# 予約語\n",
    "\n",
    "Python を起動すると、いくつかの名前が定義されます。これを予約語 (reserved words) あるいはキーワードといいます。先ほどのような、`True` や `False` は予約語の 1 つです。予約語は上書きができません。"
   ]
  },
  {
   "cell_type": "code",
   "execution_count": null,
   "metadata": {},
   "outputs": [],
   "source": [
    "# True = 3"
   ]
  },
  {
   "cell_type": "markdown",
   "metadata": {},
   "source": [
    "Python の予約語は次を参照してください。\n",
    "プログラミングをやっていくうちに、都度覚えておけば十分です。\n",
    "\n",
    "- [Python の予約語](https://docs.python.org/ja/3.11/reference/lexical_analysis.html)\n",
    "\n",
    "`None` は値が存在しないことを示す予約語で、関数などで良く用います。関数については後ほど説明します。`None` の判別には `==` ではなく、`is` を用いることが提唱されています。`None` ではないことを判別するには、`is not` を用います。"
   ]
  },
  {
   "cell_type": "code",
   "execution_count": null,
   "metadata": {},
   "outputs": [],
   "source": [
    "A = 3\n",
    "A is None"
   ]
  },
  {
   "cell_type": "code",
   "execution_count": null,
   "metadata": {},
   "outputs": [],
   "source": [
    "A is not None"
   ]
  },
  {
   "cell_type": "markdown",
   "metadata": {},
   "source": [
    "## エラーに対処する\n",
    "\n",
    "プログラミングをしていく中で、エラーは必ず起こります。\n",
    "\n",
    "ですが、エラーが出たからといって、気落ちしないでください。エラーが起きたら、その内容をよく読んでみましょう。\n",
    "\n",
    "例えば、`LEMON` という変数は定義していないので参照しようとするとエラーになります。"
   ]
  },
  {
   "cell_type": "code",
   "execution_count": 27,
   "metadata": {},
   "outputs": [
    {
     "ename": "NameError",
     "evalue": "name 'LEMON' is not defined",
     "output_type": "error",
     "traceback": [
      "\u001b[0;31m---------------------------------------------------------------------------\u001b[0m",
      "\u001b[0;31mNameError\u001b[0m                                 Traceback (most recent call last)",
      "Cell \u001b[0;32mIn[27], line 1\u001b[0m\n\u001b[0;32m----> 1\u001b[0m \u001b[43mLEMON\u001b[49m\n",
      "\u001b[0;31mNameError\u001b[0m: name 'LEMON' is not defined"
     ]
    }
   ],
   "source": [
    "# LEMON"
   ]
  },
  {
   "cell_type": "markdown",
   "metadata": {},
   "source": [
    "最後の行は、エラーの種類と、その説明が書いてあります。`NameError` は定義されていない変数を参照しようとすると起きるエラーです。\n",
    "\n",
    "そのあとに続く文を読めば、`LEMON` という変数名が定義されていないためエラーになっていることが分かります。\n",
    "\n",
    "Python で基本的に用意されているエラーは次を参照してください。\n",
    "\n",
    "- [基本的なエラーの種類](https://docs.python.org/ja/3/library/exceptions.html#bltin-exceptions)\n",
    "\n",
    "では、このエラーを修正します。"
   ]
  },
  {
   "cell_type": "code",
   "execution_count": null,
   "metadata": {},
   "outputs": [],
   "source": [
    "LEMON = 1000\n",
    "LEMON"
   ]
  },
  {
   "cell_type": "markdown",
   "metadata": {},
   "source": [
    "このように、プログラミングはトライ & エラーの連続です。\n",
    "\n",
    "教育心理学では、生産的失敗という用語があります。\n",
    "\n",
    "失敗を糧にすることで学びを促進するのです。たくさん失敗してください!\n",
    "\n",
    "エラーの内容を読んでもよくわからなかった場合、エラーの内容をコピーして、検索しましょう。\n",
    "\n",
    "プログラミングに関する Q & A ウェブサイトとして、[stack overflow](https://stackoverflow.com/) が有名です。\n",
    "\n",
    "ほとんどの場合、こちらを参照すれば同じような問題を抱えた人がいて、それに対する答えも提供されていると思います(一応、日本語版もありますが、英語版よりコンテンツが少ないです)。\n",
    "\n",
    "また、 [teratail](https://teratail.com/) という日本のサイトもあります。調べても答えが得られなかった場合は、上記の 2 つで質問してみるのもよいでしょう。\n",
    "\n",
    "他にも、モジュールの使い方がいまいちわからない場合、 [Qiita](https://qiita.com/) で検索してみましょう。そのモジュールを使用した記事があるかもしれません。"
   ]
  }
 ],
 "metadata": {
  "kernelspec": {
   "display_name": "Python 3",
   "language": "python",
   "name": "python3"
  },
  "language_info": {
   "codemirror_mode": {
    "name": "ipython",
    "version": 3
   },
   "file_extension": ".py",
   "mimetype": "text/x-python",
   "name": "python",
   "nbconvert_exporter": "python",
   "pygments_lexer": "ipython3",
   "version": "3.11.9"
  }
 },
 "nbformat": 4,
 "nbformat_minor": 2
}
