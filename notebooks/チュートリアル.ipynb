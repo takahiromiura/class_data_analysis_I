{
  "cells": [
    {
      "cell_type": "markdown",
      "metadata": {
        "colab_type": "text",
        "id": "view-in-github"
      },
      "source": [
        "<a href=\"https://colab.research.google.com/github/takahiromiura/class_data_analysis_I/blob/main/notebooks/%E3%83%81%E3%83%A5%E3%83%BC%E3%83%88%E3%83%AA%E3%82%A2%E3%83%AB.ipynb\" target=\"_parent\"><img src=\"https://colab.research.google.com/assets/colab-badge.svg\" alt=\"Open In Colab\"/></a>"
      ]
    },
    {
      "cell_type": "markdown",
      "metadata": {
        "id": "iL3db8T1SHEz"
      },
      "source": [
        "# コメントアウト\n",
        "\n",
        "コードセル内でコメントを追加するためには、文の前に `#` を付けます。\n",
        "`#` 以降の行の文字はコメントアウトされます。\n",
        "\n",
        "コメントは実行時に無視され、コードの説明やメモを残すために使用されます。\n",
        "コメントアウトをなくすには、`#` を消去してください。\n",
        "\n",
        "`Ctrl + /` (Windows) か `Cmd + /` (Mac) で行頭のコメントの記号 `#` を付け外しできます。"
      ]
    },
    {
      "cell_type": "code",
      "execution_count": null,
      "metadata": {
        "id": "7TJI4EDUSHE0",
        "outputId": "4a14ce11-f696-472d-9f76-b26f40d5e2b6"
      },
      "outputs": [
        {
          "name": "stdout",
          "output_type": "stream",
          "text": [
            "Hello, world!\n"
          ]
        }
      ],
      "source": [
        "# これはコメントです\n",
        "print(\"Hello, world!\")  # これもコメントです"
      ]
    },
    {
      "cell_type": "markdown",
      "metadata": {
        "id": "nP9VBs_USHE1"
      },
      "source": [
        "## やってみよう\n",
        "\n",
        "下のコードセルのコメントを外してから実行してください。"
      ]
    },
    {
      "cell_type": "code",
      "execution_count": null,
      "metadata": {
        "id": "AP19RStESHE1"
      },
      "outputs": [],
      "source": [
        "# print(\"これはコメントではありません。\")"
      ]
    },
    {
      "cell_type": "markdown",
      "metadata": {
        "id": "NlJUPa3eSHE1"
      },
      "source": [
        "このドキュメントでは、実行するとエラーになるものはコメントアウトしています (上のコードセルを除く)。"
      ]
    },
    {
      "cell_type": "markdown",
      "metadata": {
        "id": "dxMggK_eSHE1"
      },
      "source": [
        "# 計算機能\n",
        "\n",
        "まずは、Python を簡単な電卓のように使ってみましょう。\n",
        "\n",
        "Python では、演算とそのための記号 (演算子)は次のように対応します。\n",
        "小数点はピリオド `.` で示します。\n"
      ]
    },
    {
      "cell_type": "markdown",
      "metadata": {
        "id": "j3rdtxaoSHE1"
      },
      "source": [
        "加算: `+`"
      ]
    },
    {
      "cell_type": "code",
      "execution_count": null,
      "metadata": {
        "id": "VUf5DVEaSHE2",
        "outputId": "40560ad1-3d51-4182-9222-8e573169bee2"
      },
      "outputs": [
        {
          "data": {
            "text/plain": [
              "5"
            ]
          },
          "execution_count": 3,
          "metadata": {},
          "output_type": "execute_result"
        }
      ],
      "source": [
        "3 + 2"
      ]
    },
    {
      "cell_type": "markdown",
      "metadata": {
        "id": "bKWKK3cDSHE2"
      },
      "source": [
        "減算: `-`"
      ]
    },
    {
      "cell_type": "code",
      "execution_count": null,
      "metadata": {
        "id": "mPEiSZsySHE2",
        "outputId": "0546bad5-e3fd-480d-871b-a7677d009c6f"
      },
      "outputs": [
        {
          "data": {
            "text/plain": [
              "7"
            ]
          },
          "execution_count": 4,
          "metadata": {},
          "output_type": "execute_result"
        }
      ],
      "source": [
        "10 - 3"
      ]
    },
    {
      "cell_type": "markdown",
      "metadata": {
        "id": "MvZ_PqoZSHE2"
      },
      "source": [
        "乗算: `*`\n"
      ]
    },
    {
      "cell_type": "code",
      "execution_count": null,
      "metadata": {
        "id": "miR55z98SHE2",
        "outputId": "e51356e1-d6f2-4701-afb2-a1447d26f480"
      },
      "outputs": [
        {
          "data": {
            "text/plain": [
              "24"
            ]
          },
          "execution_count": 5,
          "metadata": {},
          "output_type": "execute_result"
        }
      ],
      "source": [
        "8 * 3"
      ]
    },
    {
      "cell_type": "markdown",
      "metadata": {
        "id": "e0J5xDY5SHE2"
      },
      "source": [
        "\n",
        "除算: `/`\n"
      ]
    },
    {
      "cell_type": "code",
      "execution_count": null,
      "metadata": {
        "id": "DBKmTvJBSHE2",
        "outputId": "9eb710a5-1a02-4cac-f5c2-8ceded9dd846"
      },
      "outputs": [
        {
          "data": {
            "text/plain": [
              "1.5"
            ]
          },
          "execution_count": 6,
          "metadata": {},
          "output_type": "execute_result"
        }
      ],
      "source": [
        "3 / 2"
      ]
    },
    {
      "cell_type": "markdown",
      "metadata": {
        "id": "07wN7-NFSHE3"
      },
      "source": [
        "\n",
        "除算 (小数点切り捨て): `//`\n"
      ]
    },
    {
      "cell_type": "code",
      "execution_count": 1,
      "metadata": {
        "id": "XQp7DIfnSHE3",
        "outputId": "bf22cb2f-c071-4db7-87da-5c356bc726b9"
      },
      "outputs": [
        {
          "data": {
            "text/plain": [
              "1"
            ]
          },
          "execution_count": 1,
          "metadata": {},
          "output_type": "execute_result"
        }
      ],
      "source": [
        "3 // 2"
      ]
    },
    {
      "cell_type": "markdown",
      "metadata": {
        "id": "vdM6pvAkSHE3"
      },
      "source": [
        "累乗: `**`\n"
      ]
    },
    {
      "cell_type": "code",
      "execution_count": null,
      "metadata": {
        "id": "NwoRKTW2SHE3",
        "outputId": "c02f621b-32a5-4eeb-9ab0-7225298e51bc"
      },
      "outputs": [
        {
          "data": {
            "text/plain": [
              "4"
            ]
          },
          "execution_count": 8,
          "metadata": {},
          "output_type": "execute_result"
        }
      ],
      "source": [
        "2 ** 2"
      ]
    },
    {
      "cell_type": "markdown",
      "metadata": {
        "id": "4qSNgoHQSHE3"
      },
      "source": [
        "剰余: `%`"
      ]
    },
    {
      "cell_type": "code",
      "execution_count": null,
      "metadata": {
        "id": "9Bj23079SHE3",
        "outputId": "6ba69d26-6929-4a42-ac2e-e1708fc81430"
      },
      "outputs": [
        {
          "data": {
            "text/plain": [
              "1"
            ]
          },
          "execution_count": 9,
          "metadata": {},
          "output_type": "execute_result"
        }
      ],
      "source": [
        "5 % 2"
      ]
    },
    {
      "cell_type": "markdown",
      "metadata": {
        "id": "CIlaSCSPSHE3"
      },
      "source": [
        "演算子と数字の間のスペースはあってもなくてもよいです。\n",
        "\n",
        "四則演算の順番は数学のルールに則ります。\n",
        "先に計算したい部分は、括弧 `()` でくくります。\n",
        "括弧はきちんと閉じることを忘れずに。"
      ]
    },
    {
      "cell_type": "code",
      "execution_count": null,
      "metadata": {
        "id": "qAWTWxHPSHE3",
        "outputId": "ab61e3f8-1bb9-4fbe-9c0f-a86ae77d67d5"
      },
      "outputs": [
        {
          "data": {
            "text/plain": [
              "4.0"
            ]
          },
          "execution_count": 10,
          "metadata": {},
          "output_type": "execute_result"
        }
      ],
      "source": [
        "6 - 4 / 2"
      ]
    },
    {
      "cell_type": "code",
      "execution_count": null,
      "metadata": {
        "id": "UcDBaForSHE4",
        "outputId": "049d9cca-b681-470e-8469-ee00abedbd60"
      },
      "outputs": [
        {
          "data": {
            "text/plain": [
              "1.0"
            ]
          },
          "execution_count": 11,
          "metadata": {},
          "output_type": "execute_result"
        }
      ],
      "source": [
        "(6 - 4) / 2"
      ]
    },
    {
      "cell_type": "markdown",
      "metadata": {
        "id": "XnnnQpfmSHE4"
      },
      "source": [
        "## やってみよう\n",
        "\n",
        "次の計算をしてみてください。\n",
        "- $5 + 2 - 9$\n",
        "- $3 + 2 \\times 8$\n",
        "- $(3 + 2) \\times 5$\n",
        "- $3 - 2 / 2$\n",
        "- $4$ の $3 / 3$ 乗"
      ]
    },
    {
      "cell_type": "markdown",
      "metadata": {
        "id": "SD_QHqqeSHE4"
      },
      "source": [
        "# 文字列を使う\n",
        "\n",
        "1 などの数値や `japan` などの文字列をリテラル (literal) といいます。\n",
        "\n",
        "文字列リテラルをそのまま入力すると (例えば `japan`)、後ほど説明するように変数名として認識されます。\n",
        "\n",
        "文字列(リテラル)自体を扱うには、ダブルクォーテーションか `\"` シングルクォーテーション `'` で文字列を囲みます。"
      ]
    },
    {
      "cell_type": "code",
      "execution_count": null,
      "metadata": {
        "id": "La0_2PUYSHE4",
        "outputId": "c42219fc-2cba-4dd1-f289-985a2e4c91d1"
      },
      "outputs": [
        {
          "data": {
            "text/plain": [
              "'JAPAN'"
            ]
          },
          "execution_count": 12,
          "metadata": {},
          "output_type": "execute_result"
        }
      ],
      "source": [
        "\"JAPAN\""
      ]
    },
    {
      "cell_type": "code",
      "execution_count": null,
      "metadata": {
        "id": "Vv_uEqKSSHE4",
        "outputId": "77602ffc-5aab-4644-d4fa-78259f37f837"
      },
      "outputs": [
        {
          "data": {
            "text/plain": [
              "'japan'"
            ]
          },
          "execution_count": 13,
          "metadata": {},
          "output_type": "execute_result"
        }
      ],
      "source": [
        "'japan'"
      ]
    },
    {
      "cell_type": "markdown",
      "metadata": {
        "id": "w-OIPe4PSHE4"
      },
      "source": [
        "数値も `\"` や `'` で囲うと文字列として評価されます。"
      ]
    },
    {
      "cell_type": "code",
      "execution_count": null,
      "metadata": {
        "id": "7nEQZbCGSHE4",
        "outputId": "15207fcd-61bc-4782-a06c-3a4bafcf6dbe"
      },
      "outputs": [
        {
          "data": {
            "text/plain": [
              "'100'"
            ]
          },
          "execution_count": 14,
          "metadata": {},
          "output_type": "execute_result"
        }
      ],
      "source": [
        "\"100\""
      ]
    },
    {
      "cell_type": "markdown",
      "metadata": {
        "id": "-i_N229zSHE4"
      },
      "source": [
        "同じ行で複数の文字列を定義すると結合されて 1 つの文字列として認識されます。"
      ]
    },
    {
      "cell_type": "code",
      "execution_count": null,
      "metadata": {
        "id": "b0lmWxQbSHE4",
        "outputId": "670656e1-6c26-42ef-9c8a-23e74826457b"
      },
      "outputs": [
        {
          "data": {
            "text/plain": [
              "'wakayama prefecture'"
            ]
          },
          "execution_count": 15,
          "metadata": {},
          "output_type": "execute_result"
        }
      ],
      "source": [
        "\"wakayama \" \"prefecture\""
      ]
    },
    {
      "cell_type": "markdown",
      "metadata": {
        "id": "ZjYdwDw7SHE4"
      },
      "source": [
        "文字列同士は `+` で結合することができます。"
      ]
    },
    {
      "cell_type": "code",
      "execution_count": null,
      "metadata": {
        "id": "cA39XhAJSHE5",
        "outputId": "7d1f202a-c37b-437c-ae93-d9e66e395964"
      },
      "outputs": [
        {
          "data": {
            "text/plain": [
              "'wakayama prefecture'"
            ]
          },
          "execution_count": 16,
          "metadata": {},
          "output_type": "execute_result"
        }
      ],
      "source": [
        "\"wakayama \" + \"prefecture\""
      ]
    },
    {
      "cell_type": "markdown",
      "metadata": {
        "id": "YUOFEOOKSHE5"
      },
      "source": [
        "文字列同士の引き算や割り算などはできません。"
      ]
    },
    {
      "cell_type": "code",
      "execution_count": null,
      "metadata": {
        "id": "ISIyuPtPSHE5"
      },
      "outputs": [],
      "source": [
        "# \"two\" - \"one\""
      ]
    },
    {
      "cell_type": "markdown",
      "metadata": {
        "id": "4rAZAf57SHE5"
      },
      "source": [
        "文字列 `*` 整数 (n) とすると、文字列が n 回繰り返されます。"
      ]
    },
    {
      "cell_type": "code",
      "execution_count": null,
      "metadata": {
        "id": "28UuIMEKSHE5",
        "outputId": "5f042c48-7602-4fc5-e4d2-d3e10b2968b5"
      },
      "outputs": [
        {
          "data": {
            "text/plain": [
              "'Hello!Hello!Hello!'"
            ]
          },
          "execution_count": 18,
          "metadata": {},
          "output_type": "execute_result"
        }
      ],
      "source": [
        "\"Hello!\" * 3"
      ]
    },
    {
      "cell_type": "markdown",
      "metadata": {
        "id": "Xhe1Dla2SHE5"
      },
      "source": [
        "文字列と数字は足すことはできません。"
      ]
    },
    {
      "cell_type": "code",
      "execution_count": null,
      "metadata": {
        "id": "Y7VjBYH3SHE5"
      },
      "outputs": [],
      "source": [
        "# \"Plus\" + 1"
      ]
    },
    {
      "cell_type": "markdown",
      "metadata": {
        "id": "vMa6mM-fSHE9"
      },
      "source": [
        "## やってみよう\n",
        "Python を使って次の文字列を作成してみましょう\n",
        "- programming\n",
        "- py と thon の結合文字\n",
        "- YES を 5 回繰り返した文字"
      ]
    },
    {
      "cell_type": "markdown",
      "metadata": {
        "id": "HLhGfjlVSHE9"
      },
      "source": [
        "# 真偽値\n",
        "\n",
        "Python では真偽値を `True`, `False` で表します。"
      ]
    },
    {
      "cell_type": "code",
      "execution_count": null,
      "metadata": {
        "id": "D5USj6J0SHE9",
        "outputId": "3e89239f-0076-47f6-f88a-5ffdba511483"
      },
      "outputs": [
        {
          "data": {
            "text/plain": [
              "True"
            ]
          },
          "execution_count": 20,
          "metadata": {},
          "output_type": "execute_result"
        }
      ],
      "source": [
        "True"
      ]
    },
    {
      "cell_type": "code",
      "execution_count": null,
      "metadata": {
        "id": "tQRTB1BWSHE9",
        "outputId": "84b3c06c-16a8-4175-d3ec-c22d9a9c815e"
      },
      "outputs": [
        {
          "data": {
            "text/plain": [
              "False"
            ]
          },
          "execution_count": 21,
          "metadata": {},
          "output_type": "execute_result"
        }
      ],
      "source": [
        "False"
      ]
    },
    {
      "cell_type": "markdown",
      "metadata": {
        "id": "ni-2xPQVSHE9"
      },
      "source": [
        "比較演算子はこの真偽値を返します。基本的な比較演算子は以下のものがあります。\n",
        "\n",
        "- `x == y`: `x` は `y` と等しい\n",
        "- `x != y`: `x` は `y` と等しくない\n",
        "- `x > y`: `x` は `y` より大きい\n",
        "- `x >= y`: `x` は `y` より大きいか等しい\n",
        "- `x < y`: `x` は `y` より小さい\n",
        "- `x <= y`: `x` は `y` より小さいか等しい\n",
        "\n",
        "特に `==` は変数定義に使う `=` と誤用しやすいので、注意してください。"
      ]
    },
    {
      "cell_type": "code",
      "execution_count": null,
      "metadata": {
        "id": "xhC50fAfSHE9",
        "outputId": "207a8941-85ae-4bb2-ec99-7f29983185d5"
      },
      "outputs": [
        {
          "data": {
            "text/plain": [
              "False"
            ]
          },
          "execution_count": 22,
          "metadata": {},
          "output_type": "execute_result"
        }
      ],
      "source": [
        "3 == 4"
      ]
    },
    {
      "cell_type": "code",
      "execution_count": null,
      "metadata": {
        "id": "aCQ7-hF0SHE9",
        "outputId": "1b41786f-9cca-45a0-8d14-f84048ea6b8a"
      },
      "outputs": [
        {
          "data": {
            "text/plain": [
              "True"
            ]
          },
          "execution_count": 23,
          "metadata": {},
          "output_type": "execute_result"
        }
      ],
      "source": [
        "5 > 2"
      ]
    },
    {
      "cell_type": "markdown",
      "metadata": {
        "id": "QlETw2_mSHE-"
      },
      "source": [
        "比較演算子の評価は最後に行われます。\n",
        "下のコードは、2 + 4 が計算された後に、5 と 6 の比較が行われます。"
      ]
    },
    {
      "cell_type": "code",
      "execution_count": null,
      "metadata": {
        "id": "4m8hLrxcSHE-",
        "outputId": "e84d4ef9-06be-4a40-bad8-499560793fc6"
      },
      "outputs": [
        {
          "data": {
            "text/plain": [
              "False"
            ]
          },
          "execution_count": 24,
          "metadata": {},
          "output_type": "execute_result"
        }
      ],
      "source": [
        "5 > 2 + 4"
      ]
    },
    {
      "cell_type": "markdown",
      "metadata": {
        "id": "G4MF0zTySHE-"
      },
      "source": [
        "文字列では大文字・小文字は区別されます。"
      ]
    },
    {
      "cell_type": "code",
      "execution_count": null,
      "metadata": {
        "id": "HitOq-1LSHE-",
        "outputId": "ce32d409-70a6-4baa-b534-0310e0702043"
      },
      "outputs": [
        {
          "data": {
            "text/plain": [
              "True"
            ]
          },
          "execution_count": 25,
          "metadata": {},
          "output_type": "execute_result"
        }
      ],
      "source": [
        "'abc' == 'abc'"
      ]
    },
    {
      "cell_type": "code",
      "execution_count": null,
      "metadata": {
        "id": "Fiej8XuKSHE-",
        "outputId": "b128e724-f528-450a-da3b-5253320e2308"
      },
      "outputs": [
        {
          "data": {
            "text/plain": [
              "False"
            ]
          },
          "execution_count": 26,
          "metadata": {},
          "output_type": "execute_result"
        }
      ],
      "source": [
        "'abc' == 'ABC'"
      ]
    },
    {
      "cell_type": "markdown",
      "metadata": {
        "id": "emstqW68SHE-"
      },
      "source": [
        "`>` などの大小関係は順番によって決まります (a が最小で、z が最大)。"
      ]
    },
    {
      "cell_type": "code",
      "execution_count": null,
      "metadata": {
        "id": "pVXJzAzrSHE-",
        "outputId": "8588c0cc-4ead-43c5-f8d2-cedef3002da2"
      },
      "outputs": [
        {
          "data": {
            "text/plain": [
              "True"
            ]
          },
          "execution_count": 27,
          "metadata": {},
          "output_type": "execute_result"
        }
      ],
      "source": [
        "'a' < 'b'"
      ]
    },
    {
      "cell_type": "markdown",
      "metadata": {
        "id": "SAIJg7RpSHE-"
      },
      "source": [
        "また、大文字のほうが小文字より小さいです。"
      ]
    },
    {
      "cell_type": "code",
      "execution_count": null,
      "metadata": {
        "id": "ezYxnqnTSHE_",
        "outputId": "156e6986-d69e-4c34-e61e-f5323e3b887b"
      },
      "outputs": [
        {
          "data": {
            "text/plain": [
              "True"
            ]
          },
          "execution_count": 28,
          "metadata": {},
          "output_type": "execute_result"
        }
      ],
      "source": [
        "\"a\" > \"B\""
      ]
    },
    {
      "cell_type": "markdown",
      "metadata": {
        "id": "OAl2N_RDSHE_"
      },
      "source": [
        "文字列の大小関係の比較は、勘違いしやすいのでおすすめしません。\n",
        "\n",
        "\n",
        "数値と文字列など、異なるものの大小は比較できません。"
      ]
    },
    {
      "cell_type": "code",
      "execution_count": null,
      "metadata": {
        "id": "iAwuuhyzSHE_"
      },
      "outputs": [],
      "source": [
        "# 3 > 'abc'"
      ]
    },
    {
      "cell_type": "markdown",
      "metadata": {},
      "source": [
        "等号かどうかの判別は可能です。"
      ]
    },
    {
      "cell_type": "code",
      "execution_count": 3,
      "metadata": {
        "id": "vgoyGSF_SHE_"
      },
      "outputs": [
        {
          "data": {
            "text/plain": [
              "False"
            ]
          },
          "execution_count": 3,
          "metadata": {},
          "output_type": "execute_result"
        }
      ],
      "source": [
        "3 == 'abc'"
      ]
    },
    {
      "cell_type": "markdown",
      "metadata": {
        "id": "iyNU04m3SHE_"
      },
      "source": [
        "## やってみよう\n",
        "\n",
        "次の文が正しいかどうか、Python を用いて判定してください。\n",
        "\n",
        "- $3$ は $10$ より大きい\n",
        "- $8$ は $2$ で割り切れる\n",
        "- $4 \\times 2$ は $9$ より大きい"
      ]
    },
    {
      "cell_type": "markdown",
      "metadata": {
        "id": "B4CgbYoOSHE_"
      },
      "source": [
        "# 変数\n",
        "\n",
        "長い計算や、途中式の結果などを保存できると使いまわせて便利です。\n",
        "\n",
        "任意の文字列 (シンボル) に数字や文字列などのデータを割り当てたものを **変数** (variable) と呼びます。\n",
        "\n",
        "変数に値を割り当てる (定義する) には、`変数名 = 値` と入力します。\n",
        "\n",
        "例えば、`apple = 100` とすると、`apple` というシンボルに `100` という数値が割り当てられます。"
      ]
    },
    {
      "cell_type": "code",
      "execution_count": 4,
      "metadata": {
        "id": "JfiR-hTlSHE_"
      },
      "outputs": [
        {
          "data": {
            "text/plain": [
              "100"
            ]
          },
          "execution_count": 4,
          "metadata": {},
          "output_type": "execute_result"
        }
      ],
      "source": [
        "apple = 100\n",
        "apple"
      ]
    },
    {
      "cell_type": "markdown",
      "metadata": {
        "id": "SNCLI7BUSHFA"
      },
      "source": [
        "変数の値を書き換えるには、変数を再定義します。"
      ]
    },
    {
      "cell_type": "code",
      "execution_count": null,
      "metadata": {
        "id": "roiHh_8eSHFA",
        "outputId": "312202f0-9b1f-40f5-a492-eb4ba9ea7270"
      },
      "outputs": [
        {
          "data": {
            "text/plain": [
              "150"
            ]
          },
          "execution_count": 33,
          "metadata": {},
          "output_type": "execute_result"
        }
      ],
      "source": [
        "apple = 150\n",
        "apple"
      ]
    },
    {
      "cell_type": "markdown",
      "metadata": {
        "id": "eav9TjNYSHFA"
      },
      "source": [
        "変数名は大文字・小文字が区別されることに注意してください。定義していない変数名を入力するとエラーになります。"
      ]
    },
    {
      "cell_type": "code",
      "execution_count": null,
      "metadata": {
        "id": "bf4-VFwqSHFA"
      },
      "outputs": [],
      "source": [
        "# APPLE"
      ]
    },
    {
      "cell_type": "markdown",
      "metadata": {
        "id": "RYNKvtBESHFA"
      },
      "source": [
        "変数には文字列を割り当てることもできます。変数の定義には `\"` や `'` が必要ないことに注意してください。"
      ]
    },
    {
      "cell_type": "code",
      "execution_count": null,
      "metadata": {
        "id": "DfBhZnh-SHFA",
        "outputId": "5e732128-e786-4b9e-ed2c-68d270230935"
      },
      "outputs": [
        {
          "data": {
            "text/plain": [
              "'wakayama'"
            ]
          },
          "execution_count": 35,
          "metadata": {},
          "output_type": "execute_result"
        }
      ],
      "source": [
        "here = \"wakayama\"\n",
        "here"
      ]
    },
    {
      "cell_type": "markdown",
      "metadata": {
        "id": "QIK5unIcSHFA"
      },
      "source": [
        "変数の値の参照は、演算などでも行われます。"
      ]
    },
    {
      "cell_type": "code",
      "execution_count": null,
      "metadata": {
        "id": "3a3DU5IGSHFB",
        "outputId": "9023c9b3-140e-4909-f46c-762f6c92cce6"
      },
      "outputs": [
        {
          "data": {
            "text/plain": [
              "750"
            ]
          },
          "execution_count": 36,
          "metadata": {},
          "output_type": "execute_result"
        }
      ],
      "source": [
        "apple * 5"
      ]
    },
    {
      "cell_type": "code",
      "execution_count": null,
      "metadata": {
        "id": "g5OhOkVfSHFB",
        "outputId": "4596b031-6f11-4e64-90a9-30e8a204150d"
      },
      "outputs": [
        {
          "data": {
            "text/plain": [
              "550"
            ]
          },
          "execution_count": 37,
          "metadata": {},
          "output_type": "execute_result"
        }
      ],
      "source": [
        "budget = 1000\n",
        "budget - (apple * 3)"
      ]
    },
    {
      "cell_type": "markdown",
      "metadata": {
        "id": "jBVlBEJzSHFB"
      },
      "source": [
        "ただし、文字列リテラルのときのように、同じ行で文字列が割り当てられた変数を並べても結合されずエラーになります。"
      ]
    },
    {
      "cell_type": "code",
      "execution_count": null,
      "metadata": {
        "id": "0gRJPpd-SHFB"
      },
      "outputs": [],
      "source": [
        "price = \"100\"\n",
        "# price \"円\""
      ]
    },
    {
      "cell_type": "markdown",
      "metadata": {
        "id": "BFeRn7-SSHFB"
      },
      "source": [
        "## やってみよう\n",
        "\n",
        "次の変数を定義しましょう\n",
        "- A さんの身長 (170 cm)\n",
        "- A さんの体重 (65 kg)\n",
        "- A さんの BMI (体重 / 身長 (m) の 2 乗)"
      ]
    },
    {
      "cell_type": "markdown",
      "metadata": {
        "id": "xt8sWniSSHFB"
      },
      "source": [
        "## 名前の規則\n",
        "\n",
        "変数や後ほど学ぶ関数・クラスなどの名前 (識別子ともいう) は以下のルールを満たす必要があります。\n",
        "\n",
        "1. アルファベット (a-z, A-Z)、数字 (0-9)、漢字などの Unicode 文字や アンダーバー `_` のみを使っている\n",
        "2. 先頭が数字ではない\n",
        "3. 予約語ではない (`and` や `None` など)\n",
        "\n",
        "漢字が使えるので、以下はエラーになりません。"
      ]
    },
    {
      "cell_type": "code",
      "execution_count": null,
      "metadata": {
        "id": "lOormcNXSHFB",
        "outputId": "7d5ed1bb-89e1-44ca-acbf-2096ee5eeed5"
      },
      "outputs": [
        {
          "data": {
            "text/plain": [
              "50"
            ]
          },
          "execution_count": 39,
          "metadata": {},
          "output_type": "execute_result"
        }
      ],
      "source": [
        "体重 = 50\n",
        "体重"
      ]
    },
    {
      "cell_type": "markdown",
      "metadata": {
        "id": "7hcrqWMBSHFC"
      },
      "source": [
        "識別子の間にスペースは空けられません。\n",
        "以下はエラーになります。"
      ]
    },
    {
      "cell_type": "code",
      "execution_count": null,
      "metadata": {
        "id": "pLepDBqbSHFC"
      },
      "outputs": [],
      "source": [
        "# normal weight = 50"
      ]
    },
    {
      "cell_type": "markdown",
      "metadata": {
        "id": "_RiT-B6tSHFC"
      },
      "source": [
        "単語をつなげたいときは、アンダーバー `_` を使いましょう。"
      ]
    },
    {
      "cell_type": "code",
      "execution_count": null,
      "metadata": {
        "id": "KCNE-W1KSHFC"
      },
      "outputs": [],
      "source": [
        "normal_weight = 50"
      ]
    },
    {
      "cell_type": "markdown",
      "metadata": {
        "id": "6EOPWoHJSHFC"
      },
      "source": [
        "## 分かりやすい変数名を作ろう\n",
        "\n",
        "`a` などの意味のないものではなく、変数名はできるだけ分かりやすくしましょう。\n",
        "例えば、以下のコードはどうでしょう。"
      ]
    },
    {
      "cell_type": "code",
      "execution_count": null,
      "metadata": {
        "id": "PJSqjsyRSHFC",
        "outputId": "8368a0ea-1482-480f-a643-aebd1c82b42b"
      },
      "outputs": [
        {
          "data": {
            "text/plain": [
              "200"
            ]
          },
          "execution_count": 42,
          "metadata": {},
          "output_type": "execute_result"
        }
      ],
      "source": [
        "a = 10\n",
        "b = 20\n",
        "c = a * b\n",
        "c"
      ]
    },
    {
      "cell_type": "markdown",
      "metadata": {
        "id": "C08cAkcBSHFC"
      },
      "source": [
        "上のコードは何のためにこの計算をしたのでしょうか？\n",
        "\n",
        "実は面積の計算をしています。\n",
        "\n",
        "次のように、コメントで補足説明をつけるのはコードの読みやすさを上げるための一つの手です。"
      ]
    },
    {
      "cell_type": "code",
      "execution_count": null,
      "metadata": {
        "id": "DWLLr_WPSHFD",
        "outputId": "0574eb0e-bcc9-42e7-dc4c-396b65d63669"
      },
      "outputs": [
        {
          "data": {
            "text/plain": [
              "200"
            ]
          },
          "execution_count": 43,
          "metadata": {},
          "output_type": "execute_result"
        }
      ],
      "source": [
        "# 面積を計算する\n",
        "a = 10\n",
        "b = 20\n",
        "c = a * b\n",
        "c"
      ]
    },
    {
      "cell_type": "markdown",
      "metadata": {
        "id": "a34LFGpoSHFD"
      },
      "source": [
        "コメントがついたので、何の計算かはわかりました。\n",
        "\n",
        "しかし、以下のように適切な変数名を付けた方がより分かりやすいのではないでしょうか。"
      ]
    },
    {
      "cell_type": "code",
      "execution_count": null,
      "metadata": {
        "id": "mvve4S81SHFD",
        "outputId": "5ba507c8-db47-4b12-c627-23c144ee68aa"
      },
      "outputs": [
        {
          "data": {
            "text/plain": [
              "200"
            ]
          },
          "execution_count": 44,
          "metadata": {},
          "output_type": "execute_result"
        }
      ],
      "source": [
        "# 面積を計算する\n",
        "length = 10\n",
        "width = 20\n",
        "area = length * width\n",
        "area"
      ]
    },
    {
      "cell_type": "markdown",
      "metadata": {
        "id": "jPS-VknzSHFD"
      },
      "source": [
        "このように、適切な変数名があればコメントがなくても読みやすいコードを作れます。\n",
        "\n",
        "読みやすいコードを作ることのメリットは、最初はわかりにくいものです。\n",
        "\n",
        "しかし、1 週間後にコードを見返すとき、読みやすいコードがあると修正が容易になります。\n",
        "\n",
        "また、他の人と共有するときにも重要です。\n",
        "\n",
        "より詳しく知りたい人には、[リーディングコード](https://www.amazon.co.jp/dp/4873115655) という本がおすすめです。"
      ]
    },
    {
      "cell_type": "markdown",
      "metadata": {
        "id": "uKExaOjDSHFD"
      },
      "source": [
        "## `=` は代入？割り当て？\n",
        "\n",
        "`=` は数式で等号の意味で使われますが、プログラミング言語でその解釈まで適用しようとすると、変なことになります。\n",
        "\n",
        "例えば、`x = 1` や `y = x + 1` は、数式として考えても意味が通ります。\n",
        "\n",
        "では、`x = x + 1` はどうでしょうか。\n",
        "\n",
        "数式として考えると、この式が成り立つ `x` は特別な場合を除いて存在しませんが、Python ではこれはエラーなく通ります (事前に `x` に数値が割り当てられているならば)。\n",
        "\n",
        "`x` に 1 が事前に割り当てられているなら、`x = x + 1` は `x` に新たに 2 が割り当てられます。実際に見てみます。"
      ]
    },
    {
      "cell_type": "code",
      "execution_count": null,
      "metadata": {
        "id": "xZ90pyC2SHFE",
        "outputId": "2bed408e-21e8-4e7b-858b-6b1fccfa2f66"
      },
      "outputs": [
        {
          "data": {
            "text/plain": [
              "1"
            ]
          },
          "execution_count": 45,
          "metadata": {},
          "output_type": "execute_result"
        }
      ],
      "source": [
        "x = 1\n",
        "x"
      ]
    },
    {
      "cell_type": "code",
      "execution_count": null,
      "metadata": {
        "id": "7bsJuO4cSHFE",
        "outputId": "dc609f48-b0f3-45b2-9f9f-801bb1c22699"
      },
      "outputs": [
        {
          "data": {
            "text/plain": [
              "2"
            ]
          },
          "execution_count": 46,
          "metadata": {},
          "output_type": "execute_result"
        }
      ],
      "source": [
        "x = x + 1\n",
        "x"
      ]
    },
    {
      "cell_type": "markdown",
      "metadata": {
        "id": "Zt-KsZ76SHFE"
      },
      "source": [
        "先ほど説明した通り、左辺は右辺の値を割り当てる名前を表します。\n",
        "\n",
        "右辺は値なので、`x` でなく、`x` に割り当てられている値が参照され (つまり 1)、それが 1 と足されます。\n",
        "\n",
        "したがって、`x = x + 1` は `x = 2` になります。\n",
        "\n",
        "プログラミング言語は、現実の模倣や抽象化したものが多く存在するので、身近なものに置き換えると理解しやすいことが多いです。\n",
        "\n",
        "一方で、慣れ親しんでいることで逆に理解しづらくなるものもあります。\n",
        "\n",
        "変数の割り当て式はその一つです。\n",
        "\n",
        "日本語のテキストだと、`x = 1` を 1 を `x` に代入すると書かれることがほとんどです。\n",
        "\n",
        "数学でもこの操作は代入として呼ばれるので、数学的な意味で解釈できると誤解しがちです。\n",
        "\n",
        "しかし、英語ではプログラミングにおける `x = 1` は assignment (割り当て) で、数学における代入 (substitution) とは異なる概念です。\n",
        "\n",
        "例えば、 Python のチュートリアルの[日本語版](https://docs.python.org/ja/3/tutorial/introduction.html#using-python-as-a-calculator)と[英語版](https://docs.python.org/3/tutorial/introduction.html#using-python-as-a-calculator)の説明を比べてみてください。"
      ]
    },
    {
      "cell_type": "markdown",
      "metadata": {
        "id": "COmr7qRpSHFE"
      },
      "source": [
        "## 予約語\n",
        "\n",
        "Python を起動すると、いくつかの名前が定義されます。\n",
        "\n",
        "これを予約語 (reserved words) あるいはキーワードといいます。\n",
        "\n",
        "先ほどのような、`True` や `False` は予約語の 1 つです。予約語は上書きができません。"
      ]
    },
    {
      "cell_type": "code",
      "execution_count": null,
      "metadata": {
        "id": "NwjSGKdzSHFE"
      },
      "outputs": [],
      "source": [
        "# True = 3"
      ]
    },
    {
      "cell_type": "markdown",
      "metadata": {
        "id": "UopK_Ny8SHFE"
      },
      "source": [
        "Python の予約語は次を参照してください。\n",
        "\n",
        "- [Python の予約語](https://docs.python.org/ja/3.11/reference/lexical_analysis.html)\n",
        "\n",
        "プログラミングをやっていくうちに、都度覚えておけば十分です。\n",
        "\n",
        "\n",
        "`None` は値が存在しないことを示す予約語で、関数などで良く用います。\n",
        "\n",
        "関数については後ほど説明します。\n",
        "\n",
        "`None` の判別には `==` ではなく、`is` を用いることが提唱されています。\n",
        "\n",
        "`None` ではないことを判別するには、`is not` を用います。"
      ]
    },
    {
      "cell_type": "code",
      "execution_count": null,
      "metadata": {
        "id": "_UWIAxLDSHFE",
        "outputId": "b2146121-6240-40cc-d77c-fef82f00e9fc"
      },
      "outputs": [
        {
          "data": {
            "text/plain": [
              "False"
            ]
          },
          "execution_count": 48,
          "metadata": {},
          "output_type": "execute_result"
        }
      ],
      "source": [
        "A = 3\n",
        "A is None"
      ]
    },
    {
      "cell_type": "code",
      "execution_count": null,
      "metadata": {
        "id": "bV3VTRp4SHFE",
        "outputId": "4707278e-cf7a-4728-ff7c-b10f9b8a01c3"
      },
      "outputs": [
        {
          "data": {
            "text/plain": [
              "True"
            ]
          },
          "execution_count": 49,
          "metadata": {},
          "output_type": "execute_result"
        }
      ],
      "source": [
        "A is not None"
      ]
    },
    {
      "cell_type": "markdown",
      "metadata": {
        "id": "Fm22BkPQSHFF"
      },
      "source": [
        "# エラー\n",
        "\n",
        "プログラミングをしていく中で、エラーは必ず起こります。\n",
        "\n",
        "ですが、エラーが出たからといって、気落ちしないでください。エラーが起きたら、その内容をよく読んでみましょう。\n",
        "\n",
        "例えば、`LEMON` という変数は定義していないので参照しようとするとエラーになります。"
      ]
    },
    {
      "cell_type": "code",
      "execution_count": null,
      "metadata": {
        "id": "DuhsO6-DSHFF"
      },
      "outputs": [],
      "source": [
        "# LEMON"
      ]
    },
    {
      "cell_type": "markdown",
      "metadata": {
        "id": "kyOrwNiISHFF"
      },
      "source": [
        "最後の行は、エラーの種類と、その説明が書いてあります。`NameError` は定義されていない変数を参照しようとすると起きるエラーです。\n",
        "\n",
        "そのあとに続く文を読めば、`LEMON` という変数名が定義されていないためエラーになっていることが分かります。\n",
        "\n",
        "Python で基本的に用意されているエラーは次を参照してください。\n",
        "\n",
        "- [基本的なエラーの種類](https://docs.python.org/ja/3/library/exceptions.html#bltin-exceptions)\n",
        "\n",
        "では、このエラーを修正します。"
      ]
    },
    {
      "cell_type": "code",
      "execution_count": null,
      "metadata": {
        "id": "tiNCC9XFSHFF",
        "outputId": "fae91398-64c2-4a80-f5b5-4912b6606ec2"
      },
      "outputs": [
        {
          "data": {
            "text/plain": [
              "1000"
            ]
          },
          "execution_count": 51,
          "metadata": {},
          "output_type": "execute_result"
        }
      ],
      "source": [
        "LEMON = 1000\n",
        "LEMON"
      ]
    },
    {
      "cell_type": "markdown",
      "metadata": {
        "id": "53k6R5RGSHFF"
      },
      "source": [
        "このように、プログラミングはトライ & エラーの連続です。\n",
        "\n",
        "教育心理学では、生産的失敗という用語があります。\n",
        "\n",
        "失敗を糧にすることで学びを促進するのです。たくさん失敗してください!\n",
        "\n",
        "エラーの内容を読んでもよくわからなかった場合、エラーの内容をコピーして、検索しましょう。\n",
        "\n",
        "プログラミングに関する Q & A ウェブサイトとして、[stack overflow](https://stackoverflow.com/) が有名です。\n",
        "\n",
        "ほとんどの場合、こちらを参照すれば同じような問題を抱えた人がいて、それに対する答えも提供されていると思います(一応、日本語版もありますが、英語版よりコンテンツが少ないです)。\n",
        "\n",
        "また、 [teratail](https://teratail.com/) という日本のサイトもあります。調べても答えが得られなかった場合は、上記の 2 つで質問してみるのもよいでしょう。\n",
        "\n",
        "他にも、モジュールの使い方がいまいちわからない場合、 [Qiita](https://qiita.com/) で検索してみましょう。そのモジュールを使用した記事があるかもしれません。"
      ]
    }
  ],
  "metadata": {
    "colab": {
      "include_colab_link": true,
      "provenance": [],
      "toc_visible": true
    },
    "kernelspec": {
      "display_name": "Python 3",
      "language": "python",
      "name": "python3"
    },
    "language_info": {
      "codemirror_mode": {
        "name": "ipython",
        "version": 3
      },
      "file_extension": ".py",
      "mimetype": "text/x-python",
      "name": "python",
      "nbconvert_exporter": "python",
      "pygments_lexer": "ipython3",
      "version": "3.11.7"
    }
  },
  "nbformat": 4,
  "nbformat_minor": 0
}
