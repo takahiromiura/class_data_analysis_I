{
 "cells": [
  {
   "cell_type": "markdown",
   "metadata": {},
   "source": [
    "# 条件分岐\n",
    "\n",
    "ある条件を満たしていたら処理 A、そうでないなら処理 B を行うことを条件分岐といいます。\n",
    "\n",
    "Python は他のプログラミング言語と異なり、インデントに意味があり、使える場面が限られます。\n",
    "\n",
    "- インデントは、行の初めに空白を入れて文字を右にシフトさせることです。\n",
    "\n",
    "  - これはインデントの例です\n",
    "\n",
    "段落の初めを 1 文字空けるのもインデントの例です。\n",
    "\n",
    "例えば、Python では `3` はエラーになりませんが、その前に空白があるとエラーになります (Colab だと 1 行目に空白があってもエラーにならない)。\n"
   ]
  },
  {
   "cell_type": "code",
   "execution_count": null,
   "metadata": {},
   "outputs": [],
   "source": [
    "# 3\n",
    "#     3"
   ]
  },
  {
   "cell_type": "markdown",
   "metadata": {},
   "source": [
    "## if 構文\n",
    "\n",
    "条件分岐をするには if 構文を用います。\n",
    "\n",
    "if 構文ではインデントを用います。\n",
    "\n",
    "例えば、次のコードは、`<condition>` が真ならば `operation 1` が実行されます。\n",
    "\n",
    "偽の場合は `operation 2` が実行されます。\n",
    "\n",
    "`if <condition>`, `else` の後に `:` を使うことに注意してください。\n",
    "\n",
    "```py\n",
    "if <condition>:\n",
    "    operation 1\n",
    "else:\n",
    "    operation 2\n",
    "\n",
    "```"
   ]
  },
  {
   "cell_type": "markdown",
   "metadata": {},
   "source": [
    "下のコードの場合、変数 `A` は 2 より大きいので `1` が出力されます。\n",
    "    "
   ]
  },
  {
   "cell_type": "code",
   "execution_count": 21,
   "metadata": {},
   "outputs": [
    {
     "name": "stdout",
     "output_type": "stream",
     "text": [
      "1\n"
     ]
    }
   ],
   "source": [
    "A = 3\n",
    "if A > 2:\n",
    "    print(1)\n",
    "    \n",
    "else:\n",
    "    print(2)\n",
    "    "
   ]
  },
  {
   "cell_type": "markdown",
   "metadata": {},
   "source": [
    "文法上は 1 つ以上のスペースでインデントが可能ですが、Python では 4 つのスペースでインデントするのが推奨されています。\n",
    "\n",
    "https://pep8-ja.readthedocs.io/ja/latest/#section-4\n",
    "\n",
    "`operation 1` や `operation 2` は 1 行で書かれている必要はなく、複数の行のコードをまとめたブロックが実行されます。\n",
    "\n",
    "このブロックはインデントで表現します。\n",
    "\n",
    "つまり、`operation 1` や `operation 2` が終わりであることを示したい場合には、インデントをやめればよいです。    "
   ]
  },
  {
   "cell_type": "code",
   "execution_count": null,
   "metadata": {},
   "outputs": [],
   "source": [
    "B = 10\n",
    "if B < 2:\n",
    "    print(1)\n",
    "    \n",
    "else:\n",
    "    print(2)\n",
    "    print(3)"
   ]
  },
  {
   "cell_type": "markdown",
   "metadata": {},
   "source": [
    "`else` は省略可能です。\n",
    "\n",
    "その場合、条件式が真でない場合は無視されます。"
   ]
  },
  {
   "cell_type": "code",
   "execution_count": null,
   "metadata": {},
   "outputs": [],
   "source": [
    "if 3 < 2:\n",
    "    print(1)"
   ]
  },
  {
   "cell_type": "markdown",
   "metadata": {},
   "source": [
    "条件分岐を増やす場合は、`elif` を使います。\n",
    "\n",
    "例えば、`C > 10` かどうかを判定した後、`C < 0` なら別のコードを実行したい場合は次のようになります。\n",
    "    "
   ]
  },
  {
   "cell_type": "code",
   "execution_count": null,
   "metadata": {},
   "outputs": [],
   "source": [
    "C = -5\n",
    "if C > 10:\n",
    "    print(\"C > 10\")\n",
    "    \n",
    "elif C < 0:\n",
    "    print(\"C < 0\")\n",
    "\n",
    "else:\n",
    "    print(\"0 <= C <= 10\")\n",
    "    "
   ]
  },
  {
   "cell_type": "markdown",
   "metadata": {},
   "source": [
    "注意点として、条件分岐は上から評価され、条件が初めに真になったところで条件分岐は終了します。\n",
    "\n",
    "細かい条件を最初に書かないと、意図しない挙動になります。\n"
   ]
  },
  {
   "cell_type": "code",
   "execution_count": 22,
   "metadata": {},
   "outputs": [
    {
     "name": "stdout",
     "output_type": "stream",
     "text": [
      "D > 5\n"
     ]
    }
   ],
   "source": [
    "D = 15\n",
    "if D > 5:\n",
    "    print(\"D > 5\") # ここが実行される\n",
    "    \n",
    "elif D > 10:\n",
    "    print(\"D > 10\")\n",
    "\n",
    "else:\n",
    "    print(\"D <= 5\")\n",
    "    "
   ]
  },
  {
   "cell_type": "code",
   "execution_count": 23,
   "metadata": {},
   "outputs": [
    {
     "name": "stdout",
     "output_type": "stream",
     "text": [
      "D > 10\n"
     ]
    }
   ],
   "source": [
    "D = 15\n",
    "if D > 10:\n",
    "    print(\"D > 10\") # ここが実行される\n",
    "\n",
    "elif D > 5:\n",
    "    print(\"D > 5\")\n",
    "\n",
    "else:\n",
    "    print(\"D <= 5\")\n",
    "    "
   ]
  },
  {
   "cell_type": "markdown",
   "metadata": {},
   "source": [
    "## やってみよう\n",
    "\n",
    "ある数字が変数 `A` に割り当てられているとして、次の条件式を作成してみましょう。\n",
    "\n",
    "- `A` が 10 より大きければ、`large` と出力する\n",
    "- `A` が 5 より小さいならば、 `small` と出力する\n",
    "- `A` が 11 と同じならば、`eleven` と出力する\n",
    "- それ以外の場合、`other` と出力する\n",
    "\n",
    "A の値を -5, 0, 10, 20 として、正しく実行されるかチェックしてください。"
   ]
  },
  {
   "cell_type": "markdown",
   "metadata": {},
   "source": [
    "# 複数条件\n",
    "\n",
    "A かつ B や、A または B のように複数条件を評価することができます。\n",
    "\n",
    "- `and`: A かつ B\n",
    "- `or`: A または B\n",
    "\n",
    "これらは比較演算子の評価の後に行われます。"
   ]
  },
  {
   "cell_type": "code",
   "execution_count": 4,
   "metadata": {},
   "outputs": [
    {
     "data": {
      "text/plain": [
       "True"
      ]
     },
     "execution_count": 4,
     "metadata": {},
     "output_type": "execute_result"
    }
   ],
   "source": [
    "age = 40\n",
    "age > 20 and age < 50 # age が 20 より大きい、かつ 50 より小さいかどうか"
   ]
  },
  {
   "cell_type": "code",
   "execution_count": 5,
   "metadata": {},
   "outputs": [
    {
     "data": {
      "text/plain": [
       "False"
      ]
     },
     "execution_count": 5,
     "metadata": {},
     "output_type": "execute_result"
    }
   ],
   "source": [
    "income = 400\n",
    "age < 30 or income > 500 # age が 30 より小さい、または income が 500 より大きい"
   ]
  },
  {
   "cell_type": "markdown",
   "metadata": {},
   "source": [
    "## やってみよう\n",
    "\n",
    "ある商品の価格 `price` と在庫数 `stock` に基づいて、割引が適用されるかどうかを判断するプログラムを書いてください。\n",
    "\n",
    "具体的には、価格が 1000 円以上、かつ在庫が 50 以上の場合には 「割引適用」と出力し、それ以外の場合は「割引適用外」と出力します。\n",
    "\n",
    "以下の価格と在庫数の組で、正しく実行されるかどうか確かめてください。\n",
    "\n",
    "- 価格: 1500 円、在庫: 100 個\n",
    "- 価格: 500 円、在庫: 100 個\n",
    "- 価格: 200 円、在庫: 40 個"
   ]
  }
 ],
 "metadata": {
  "kernelspec": {
   "display_name": ".venv",
   "language": "python",
   "name": "python3"
  },
  "language_info": {
   "codemirror_mode": {
    "name": "ipython",
    "version": 3
   },
   "file_extension": ".py",
   "mimetype": "text/x-python",
   "name": "python",
   "nbconvert_exporter": "python",
   "pygments_lexer": "ipython3",
   "version": "3.11.7"
  }
 },
 "nbformat": 4,
 "nbformat_minor": 2
}
