{
 "cells": [
  {
   "cell_type": "markdown",
   "metadata": {},
   "source": [
    "# 最終課題に関する注意\n",
    "\n",
    "- 元のコードセルは削除しないでください。\n",
    "- 提出用のファイルは、`ファイル -> ダウンロード -> .ipynb をダウンロード` でダウンロードします (.py ファイルではありません)。\n",
    "- ファイル提出前に `ランタイム -> セッションを再起動して全て実行する` を行ってください。\n",
    "- 最後まで実行できないファイルは評価対象外です (全て溶けなかったとしても、最後まで実行できるように修正してください)。\n",
    "- あまりにも長いコードや難解なものは減点対象です。ループ処理や関数・クラスなどを用いて簡略化するようにしてください。\n",
    "\n",
    "- `import` やライブラリのインストールをする場合は、下記のコードセル内に記述してください。"
   ]
  },
  {
   "cell_type": "code",
   "execution_count": null,
   "metadata": {},
   "outputs": [],
   "source": [
    "# import やライブラリのインストールはこの中に記述"
   ]
  },
  {
   "cell_type": "markdown",
   "metadata": {},
   "source": [
    "# 最終課題\n",
    "\n",
    "以下の `data` はソフトウェア開発のプラットフォーム、[GitHub](https://github.com/) で人気のレポジトリ (プロジェクト) をランダムに抽出したものです。\n",
    "\n",
    "このデータセットを分析して、以下の問題に答えてください。\n",
    "\n",
    "なお、各レポジトリにおけるキーとその値の説明は以下の通りです。\n",
    "\n",
    "- id: レポジトリ ID\n",
    "- repo_name: レポジトリの名前\n",
    "- created_at: レポジトリが作成された年月日\n",
    "- stars: お気に入り数\n",
    "- open_issues: 進行中の問題 (イシュー) 数\n",
    "- forks: レポジトリのコピー数\n",
    "- language: 主に使われているプログラミング言語"
   ]
  },
  {
   "cell_type": "code",
   "execution_count": 5,
   "metadata": {},
   "outputs": [],
   "source": [
    "data = [{'id': 11730342, 'repo_name': 'vue', 'created_at': '2013-07-29', 'stars': 207470, 'forks': 33643, 'open_issues': 602, 'language': 'TypeScript'}, {'id': 60493101, 'repo_name': 'coding-interview-university', 'created_at': '2016-06-06', 'stars': 299604, 'forks': 75333, 'open_issues': 45, 'language': None}, {'id': 14440270, 'repo_name': 'You-Dont-Know-JS', 'created_at': '2013-11-16', 'stars': 178161, 'forks': 33418, 'open_issues': 126, 'language': None}, {'id': 74791366, 'repo_name': 'clean-code-javascript', 'created_at': '2016-11-25', 'stars': 90780, 'forks': 12178, 'open_issues': 104, 'language': 'JavaScript'}, {'id': 101296881, 'repo_name': 'every-programmer-should-know', 'created_at': '2017-08-24', 'stars': 77913, 'forks': 7415, 'open_issues': 50, 'language': None}, {'id': 561730219, 'repo_name': 'hello-algo', 'created_at': '2022-11-04', 'stars': 89339, 'forks': 11262, 'open_issues': 32, 'language': 'Java'}, {'id': 27193779, 'repo_name': 'node', 'created_at': '2014-11-26', 'stars': 105559, 'forks': 28632, 'open_issues': 2071, 'language': 'JavaScript'}, {'id': 2126244, 'repo_name': 'bootstrap', 'created_at': '2011-07-29', 'stars': 168189, 'forks': 78544, 'open_issues': 574, 'language': 'JavaScript'}, {'id': 100060912, 'repo_name': 'terminal', 'created_at': '2017-08-11', 'stars': 94419, 'forks': 8167, 'open_issues': 1547, 'language': 'C++'}, {'id': 54173593, 'repo_name': 'storybook', 'created_at': '2016-03-18', 'stars': 83556, 'forks': 9148, 'open_issues': 1961, 'language': 'TypeScript'}, {'id': 614765452, 'repo_name': 'AutoGPT', 'created_at': '2023-03-16', 'stars': 165032, 'forks': 43744, 'open_issues': 125, 'language': 'Python'}, {'id': 121395510, 'repo_name': 'CS-Notes', 'created_at': '2018-02-13', 'stars': 173883, 'forks': 50790, 'open_issues': 194, 'language': None}, {'id': 58028038, 'repo_name': 'HelloGitHub', 'created_at': '2016-05-04', 'stars': 88299, 'forks': 9493, 'open_issues': 132, 'language': 'Python'}, {'id': 63537249, 'repo_name': 'create-react-app', 'created_at': '2016-07-17', 'stars': 102285, 'forks': 26708, 'open_issues': 2227, 'language': 'JavaScript'}, {'id': 90796663, 'repo_name': 'puppeteer', 'created_at': '2017-05-09', 'stars': 87738, 'forks': 9025, 'open_issues': 297, 'language': 'TypeScript'}, {'id': 14098069, 'repo_name': 'free-programming-books-zh_CN', 'created_at': '2013-11-04', 'stars': 110547, 'forks': 28148, 'open_issues': 34, 'language': None}, {'id': 20904437, 'repo_name': 'gin', 'created_at': '2014-06-16', 'stars': 77060, 'forks': 7921, 'open_issues': 778, 'language': 'Go'}, {'id': 724712, 'repo_name': 'rust', 'created_at': '2010-06-16', 'stars': 95301, 'forks': 12277, 'open_issues': 10093, 'language': 'Rust'}, {'id': 24195339, 'repo_name': 'angular', 'created_at': '2014-09-18', 'stars': 95325, 'forks': 25048, 'open_issues': 1576, 'language': 'TypeScript'}, {'id': 70107786, 'repo_name': 'next.js', 'created_at': '2016-10-05', 'stars': 123410, 'forks': 26323, 'open_issues': 3360, 'language': 'JavaScript'}, {'id': 23096959, 'repo_name': 'go', 'created_at': '2014-08-19', 'stars': 121515, 'forks': 17404, 'open_issues': 9580, 'language': 'Go'}, {'id': 10270250, 'repo_name': 'react', 'created_at': '2013-05-24', 'stars': 225577, 'forks': 45999, 'open_issues': 819, 'language': 'JavaScript'}, {'id': 112507086, 'repo_name': '30-seconds-of-code', 'created_at': '2017-11-29', 'stars': 120524, 'forks': 11950, 'open_issues': 0, 'language': 'JavaScript'}, {'id': 21289110, 'repo_name': 'awesome-python', 'created_at': '2014-06-27', 'stars': 213458, 'forks': 24675, 'open_issues': 416, 'language': 'Python'}, {'id': 233472199, 'repo_name': 'Microsoft-Activation-Scripts', 'created_at': '2020-01-12', 'stars': 87757, 'forks': 8572, 'open_issues': 3, 'language': 'Batchfile'}, {'id': 103633984, 'repo_name': 'nodebestpractices', 'created_at': '2017-09-15', 'stars': 97461, 'forks': 9892, 'open_issues': 73, 'language': 'Dockerfile'}, {'id': 20580498, 'repo_name': 'kubernetes', 'created_at': '2014-06-06', 'stars': 108703, 'forks': 38979, 'open_issues': 2497, 'language': 'Go'}, {'id': 106017343, 'repo_name': 'tailwindcss', 'created_at': '2017-10-06', 'stars': 80721, 'forks': 4060, 'open_issues': 53, 'language': 'TypeScript'}, {'id': 9384267, 'repo_name': 'electron', 'created_at': '2013-04-12', 'stars': 112992, 'forks': 15157, 'open_issues': 931, 'language': 'C++'}, {'id': 2325298, 'repo_name': 'linux', 'created_at': '2011-09-04', 'stars': 175210, 'forks': 52669, 'open_issues': 371, 'language': 'C'}, {'id': 26500787, 'repo_name': 'FiraCode', 'created_at': '2014-11-11', 'stars': 76245, 'forks': 3075, 'open_issues': 394, 'language': 'Clojure'}, {'id': 132464395, 'repo_name': 'JavaGuide', 'created_at': '2018-05-07', 'stars': 145068, 'forks': 45421, 'open_issues': 60, 'language': 'Java'}, {'id': 28457823, 'repo_name': 'freeCodeCamp', 'created_at': '2014-12-24', 'stars': 394664, 'forks': 36284, 'open_issues': 269, 'language': 'TypeScript'}, {'id': 132750724, 'repo_name': 'build-your-own-x', 'created_at': '2018-05-09', 'stars': 289808, 'forks': 27225, 'open_issues': 332, 'language': None}, {'id': 133442384, 'repo_name': 'deno', 'created_at': '2018-05-15', 'stars': 93500, 'forks': 5185, 'open_issues': 2034, 'language': 'Rust'}, {'id': 1062897, 'repo_name': 'gitignore', 'created_at': '2010-11-08', 'stars': 159918, 'forks': 83221, 'open_issues': 471, 'language': None}, {'id': 52631841, 'repo_name': 'realworld', 'created_at': '2016-02-26', 'stars': 79950, 'forks': 7276, 'open_issues': 78, 'language': 'TypeScript'}, {'id': 83222441, 'repo_name': 'system-design-primer', 'created_at': '2017-02-26', 'stars': 265156, 'forks': 44904, 'open_issues': 441, 'language': 'Python'}, {'id': 62607227, 'repo_name': 'tech-interview-handbook', 'created_at': '2016-07-05', 'stars': 114498, 'forks': 14356, 'open_issues': 41, 'language': 'TypeScript'}, {'id': 943149, 'repo_name': 'd3', 'created_at': '2010-09-27', 'stars': 108173, 'forks': 22875, 'open_issues': 13, 'language': 'Shell'}, {'id': 16408992, 'repo_name': 'neovim', 'created_at': '2014-01-31', 'stars': 80295, 'forks': 5504, 'open_issues': 1770, 'language': 'Vim Script'}, {'id': 20929025, 'repo_name': 'TypeScript', 'created_at': '2014-06-17', 'stars': 99349, 'forks': 12310, 'open_issues': 5901, 'language': 'TypeScript'}, {'id': 6498492, 'repo_name': 'javascript', 'created_at': '2012-11-01', 'stars': 143714, 'forks': 26375, 'open_issues': 166, 'language': 'JavaScript'}, {'id': 184456251, 'repo_name': 'PowerToys', 'created_at': '2019-05-01', 'stars': 107473, 'forks': 6338, 'open_issues': 5962, 'language': 'C#'}, {'id': 2561582, 'repo_name': 'animate.css', 'created_at': '2011-10-12', 'stars': 80250, 'forks': 16235, 'open_issues': 39, 'language': 'CSS'}, {'id': 231283452, 'repo_name': 'excalidraw', 'created_at': '2020-01-02', 'stars': 77801, 'forks': 7098, 'open_issues': 1743, 'language': 'TypeScript'}, {'id': 15204860, 'repo_name': 'papers-we-love', 'created_at': '2013-12-15', 'stars': 85522, 'forks': 5681, 'open_issues': 21, 'language': 'Shell'}, {'id': 35955666, 'repo_name': 'the-art-of-command-line', 'created_at': '2015-05-20', 'stars': 151157, 'forks': 14441, 'open_issues': 243, 'language': None}, {'id': 32484381, 'repo_name': 'free-for-dev', 'created_at': '2015-03-18', 'stars': 85883, 'forks': 9339, 'open_issues': 13, 'language': 'HTML'}, {'id': 88464704, 'repo_name': 'vue-element-admin', 'created_at': '2017-04-17', 'stars': 87186, 'forks': 30405, 'open_issues': 1343, 'language': 'Vue'}, {'id': 88011908, 'repo_name': 'project-based-learning', 'created_at': '2017-04-12', 'stars': 184784, 'forks': 24242, 'open_issues': 150, 'language': None}, {'id': 127988011, 'repo_name': 'mall', 'created_at': '2018-04-04', 'stars': 76701, 'forks': 28571, 'open_issues': 30, 'language': 'Java'}, {'id': 51117837, 'repo_name': 'models', 'created_at': '2016-02-05', 'stars': 76807, 'forks': 45824, 'open_issues': 1233, 'language': 'Python'}, {'id': 527591471, 'repo_name': 'stable-diffusion-webui', 'created_at': '2022-08-22', 'stars': 136560, 'forks': 26014, 'open_issues': 2188, 'language': 'Python'}, {'id': 31792824, 'repo_name': 'flutter', 'created_at': '2015-03-06', 'stars': 163685, 'forks': 26920, 'open_issues': 12772, 'language': 'Dart'}, {'id': 22790488, 'repo_name': 'java-design-patterns', 'created_at': '2014-08-09', 'stars': 88489, 'forks': 26241, 'open_issues': 142, 'language': 'Java'}, {'id': 576201, 'repo_name': 'three.js', 'created_at': '2010-03-23', 'stars': 100749, 'forks': 35217, 'open_issues': 507, 'language': 'JavaScript'}, {'id': 241576270, 'repo_name': 'fucking-algorithm', 'created_at': '2020-02-19', 'stars': 124411, 'forks': 23135, 'open_issues': 416, 'language': 'Markdown'}, {'id': 206462776, 'repo_name': 'GitHub-Chinese-Top-Charts', 'created_at': '2019-09-05', 'stars': 95795, 'forks': 12752, 'open_issues': 182, 'language': 'Java'}, {'id': 138393139, 'repo_name': 'the-book-of-secret-knowledge', 'created_at': '2018-06-23', 'stars': 138116, 'forks': 9229, 'open_issues': 72, 'language': None}, {'id': 1181927, 'repo_name': 'bitcoin', 'created_at': '2010-12-19', 'stars': 77317, 'forks': 35655, 'open_issues': 671, 'language': 'C++'}, {'id': 155220641, 'repo_name': 'transformers', 'created_at': '2018-10-29', 'stars': 129694, 'forks': 25763, 'open_issues': 1205, 'language': 'Python'}, {'id': 45717250, 'repo_name': 'tensorflow', 'created_at': '2015-11-07', 'stars': 184258, 'forks': 74088, 'open_issues': 3901, 'language': 'C++'}, {'id': 21540759, 'repo_name': 'awesome-go', 'created_at': '2014-07-06', 'stars': 125750, 'forks': 11717, 'open_issues': 180, 'language': 'Go'}, {'id': 34526884, 'repo_name': 'ant-design', 'created_at': '2015-04-24', 'stars': 91311, 'forks': 47881, 'open_issues': 1206, 'language': 'TypeScript'}, {'id': 55076063, 'repo_name': 'Awesome-Hacking', 'created_at': '2016-03-30', 'stars': 80596, 'forks': 8795, 'open_issues': 23, 'language': None}, {'id': 574523116, 'repo_name': 'awesome-chatgpt-prompts', 'created_at': '2022-12-05', 'stars': 107456, 'forks': 14708, 'open_issues': 288, 'language': 'HTML'}, {'id': 13491895, 'repo_name': 'free-programming-books', 'created_at': '2013-10-11', 'stars': 329584, 'forks': 60783, 'open_issues': 35, 'language': None}, {'id': 157616880, 'repo_name': 'iptv', 'created_at': '2018-11-14', 'stars': 82269, 'forks': 2203, 'open_issues': 26, 'language': 'JavaScript'}, {'id': 126577260, 'repo_name': 'javascript-algorithms', 'created_at': '2018-03-24', 'stars': 185569, 'forks': 29932, 'open_issues': 343, 'language': 'JavaScript'}, {'id': 552661142, 'repo_name': 'langchain', 'created_at': '2022-10-17', 'stars': 89641, 'forks': 14170, 'open_issues': 1006, 'language': 'Jupyter Notebook'}, {'id': 41881900, 'repo_name': 'vscode', 'created_at': '2015-09-03', 'stars': 160921, 'forks': 28229, 'open_issues': 9306, 'language': 'TypeScript'}, {'id': 111583593, 'repo_name': 'scrcpy', 'created_at': '2017-11-21', 'stars': 106236, 'forks': 10289, 'open_issues': 1937, 'language': 'C'}, {'id': 307260205, 'repo_name': 'yt-dlp', 'created_at': '2020-10-26', 'stars': 77563, 'forks': 6084, 'open_issues': 1565, 'language': 'Python'}, {'id': 85077558, 'repo_name': 'developer-roadmap', 'created_at': '2017-03-15', 'stars': 283752, 'forks': 37742, 'open_issues': 29, 'language': 'TypeScript'}, {'id': 658928958, 'repo_name': 'ollama', 'created_at': '2023-06-26', 'stars': 79943, 'forks': 6104, 'open_issues': 1236, 'language': 'Go'}, {'id': 5108051, 'repo_name': 'opencv', 'created_at': '2012-07-19', 'stars': 77135, 'forks': 55673, 'open_issues': 2592, 'language': 'C++'}, {'id': 172562475, 'repo_name': 'app-ideas', 'created_at': '2019-02-25', 'stars': 76674, 'forks': 9259, 'open_issues': 439, 'language': None}, {'id': 48378947, 'repo_name': 'frp', 'created_at': '2015-12-21', 'stars': 82643, 'forks': 12960, 'open_issues': 69, 'language': 'Go'}, {'id': 612230, 'repo_name': 'nvm', 'created_at': '2010-04-15', 'stars': 77868, 'forks': 7801, 'open_issues': 383, 'language': 'Shell'}]"
   ]
  },
  {
   "cell_type": "markdown",
   "metadata": {},
   "source": [
    "## 問 1\n",
    "\n",
    "`data` 内のどれか一つのレポジトリのデータから、お気に入り数 (`stars` の値) を出力してください。"
   ]
  },
  {
   "cell_type": "code",
   "execution_count": null,
   "metadata": {},
   "outputs": [],
   "source": [
    "# 問 1 のコード"
   ]
  },
  {
   "cell_type": "markdown",
   "metadata": {},
   "source": [
    "## 問 2\n",
    "\n",
    "レポジトリの名前 (`repo_name`) が `flutter` のお気に入り数 (`stars` の値) を出力してください。"
   ]
  },
  {
   "cell_type": "code",
   "execution_count": null,
   "metadata": {},
   "outputs": [],
   "source": [
    "# 問 2 のコード"
   ]
  },
  {
   "cell_type": "markdown",
   "metadata": {},
   "source": [
    "## 問 3\n",
    "\n",
    "`data` にはいくつのレポジトリのデータが含まれていますか。\n",
    "\n",
    "以下のコードセルで数を出力してください。"
   ]
  },
  {
   "cell_type": "code",
   "execution_count": null,
   "metadata": {},
   "outputs": [],
   "source": [
    "# 問 3 の コード"
   ]
  },
  {
   "cell_type": "markdown",
   "metadata": {},
   "source": [
    "## 問 4\n",
    "\n",
    "主に使用しているプログラミング言語 (`language`) が `Python` であるレポジトリは何個ありますか。"
   ]
  },
  {
   "cell_type": "code",
   "execution_count": null,
   "metadata": {},
   "outputs": [],
   "source": [
    "# 問 4 のコード"
   ]
  },
  {
   "cell_type": "markdown",
   "metadata": {},
   "source": [
    "## 問 5\n",
    "\n",
    "主に使われているプログラミング言語 (`language`) で一番多いものは何ですか。\n",
    "\n",
    "以下のコードセルを使って数を計算し、答えを出力してください。\n",
    "\n",
    "なお、`None` はカウントしません。\n",
    "\n",
    "また、複数ある場合は、複数出力してください。"
   ]
  },
  {
   "cell_type": "code",
   "execution_count": null,
   "metadata": {},
   "outputs": [],
   "source": [
    "# 問 5 の コード"
   ]
  },
  {
   "cell_type": "markdown",
   "metadata": {},
   "source": [
    "## 問 6\n",
    "\n",
    "このデータセット内の `stars`, `open_issues`, `forks` の平均を計算したいとします。\n",
    "\n",
    "データセットと平均を計算したい項目名を指定すると、平均値を返す関数 `calc_mean` を作成してください。\n",
    "\n",
    "例えば、`calc_mean(data, \"stars\")` とすると `stars` の平均値を返します。"
   ]
  },
  {
   "cell_type": "code",
   "execution_count": null,
   "metadata": {},
   "outputs": [],
   "source": [
    "# 問 6 のコード"
   ]
  },
  {
   "cell_type": "markdown",
   "metadata": {},
   "source": [
    "## 問 7\n",
    "\n",
    "問 6 で作成した関数を用いて、`stars`, `open_issues`, `forks` の平均値を出力してください。\n",
    "\n",
    "出力の際は、どの項目の平均値を示しているのかが分かるようにしてください。"
   ]
  },
  {
   "cell_type": "code",
   "execution_count": null,
   "metadata": {},
   "outputs": [],
   "source": [
    "# 問 7 のコード"
   ]
  },
  {
   "cell_type": "markdown",
   "metadata": {},
   "source": [
    "# 問 8\n",
    "\n",
    "このデータセット内で、作成された日時が最も古いレポジトリと最も新しいレポジトリのお気に入り数 (`stars` の値) をそれぞれ出力してください。\n",
    "\n",
    "出力の際は、古い方と新しい方のどちらなのか分かるようにしてください。"
   ]
  },
  {
   "cell_type": "code",
   "execution_count": null,
   "metadata": {},
   "outputs": [],
   "source": [
    "# 問 8 のコード"
   ]
  },
  {
   "cell_type": "markdown",
   "metadata": {},
   "source": [
    "## 問 9\n",
    "\n",
    "このデータセット内で、レポジトリが作成されたのが一番多い年はいつですか。"
   ]
  },
  {
   "cell_type": "code",
   "execution_count": null,
   "metadata": {},
   "outputs": [],
   "source": [
    "# 問 9 のコード"
   ]
  },
  {
   "cell_type": "markdown",
   "metadata": {},
   "source": [
    "## 問 10\n",
    "\n",
    "主に使用しているプログラミング言語が `JavaScript` であるレポジトリのお気に入り数 (`stars` の値) の平均値を計算してください。"
   ]
  },
  {
   "cell_type": "code",
   "execution_count": null,
   "metadata": {},
   "outputs": [],
   "source": [
    "# 問 10 のコード"
   ]
  }
 ],
 "metadata": {
  "kernelspec": {
   "display_name": ".venv",
   "language": "python",
   "name": "python3"
  },
  "language_info": {
   "codemirror_mode": {
    "name": "ipython",
    "version": 3
   },
   "file_extension": ".py",
   "mimetype": "text/x-python",
   "name": "python",
   "nbconvert_exporter": "python",
   "pygments_lexer": "ipython3",
   "version": "3.11.7"
  }
 },
 "nbformat": 4,
 "nbformat_minor": 2
}
