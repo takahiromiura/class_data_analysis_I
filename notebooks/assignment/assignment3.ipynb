{
 "cells": [
  {
   "cell_type": "markdown",
   "metadata": {},
   "source": [
    "# 課題に関する注意\n",
    "\n",
    "- 元のコードセルは削除しないでください\n",
    "- 提出用のファイルは、`ファイル -> ダウンロード -> .ipynb をダウンロード` でダウンロードします (.py ファイルではありません）。\n",
    "- ファイル提出前に `ランタイム -> セッションを再起動して全て実行する` を行ってください。\n",
    "- 最後まで実行できないファイルは評価対象外です"
   ]
  },
  {
   "cell_type": "markdown",
   "metadata": {},
   "source": [
    "# 課題 3\n",
    "\n",
    "インターネットや教科書などを用いて、以下の問題を解いてください。"
   ]
  },
  {
   "cell_type": "markdown",
   "metadata": {},
   "source": [
    "## 問 1\n",
    "\n",
    "文字列型のメソッドを用いて、`\"   和歌山 太郎   \"` という文字列から不要なスペースを除去し、`\"和歌山太郎\"` に変換してください。\n",
    "\n",
    "以下のコードセル内の変数にメソッドを適用してください。"
   ]
  },
  {
   "cell_type": "code",
   "execution_count": 9,
   "metadata": {},
   "outputs": [],
   "source": [
    "TARGET_STR = \"  和歌山 太郎  \""
   ]
  },
  {
   "cell_type": "markdown",
   "metadata": {},
   "source": [
    "## 問 2\n",
    "\n",
    "2025 年 1 月 1 日は何曜日ですか？\n",
    "\n",
    "`datetime` モジュールを用いて、以下のコードセル内に曜日を出力してください。\n",
    "\n",
    "例えば、0 が月曜日を表すなら、月曜日もしくは月と出力すること。"
   ]
  },
  {
   "cell_type": "code",
   "execution_count": null,
   "metadata": {},
   "outputs": [],
   "source": []
  },
  {
   "cell_type": "markdown",
   "metadata": {},
   "source": [
    "## 問 3\n",
    "\n",
    "主観的な健康度とインターネットの長時間利用との関連を調査するためにアンケートを取ったとします。\n",
    "\n",
    "主観的な健康度は、1 (とても悪い) から、5 (とても良い) までの 5 段階評価で答えてもらったとします。\n",
    "\n",
    "回答データは、1 と回答していた場合、`1.とても悪い` という文字列データになっていたとします。\n",
    "\n",
    "回答の文字列データを、整数型に変換する関数を作成してください。\n",
    "\n",
    "例えば、`1.とても悪い` は `1` という整数型に、`5.とても良い` は `5` という整数型に変換します。\n"
   ]
  },
  {
   "cell_type": "code",
   "execution_count": null,
   "metadata": {},
   "outputs": [],
   "source": []
  },
  {
   "cell_type": "markdown",
   "metadata": {},
   "source": [
    "## 問 4\n",
    "\n",
    "問 3 で作成した関数が正しく動作することを、以下のコードセル内で確かめてください。\n",
    "\n",
    "以下の、リスト内の各文字列データを数値に変換し、出力してください。\n",
    "\n",
    "- `\"1.とても悪い\"`\n",
    "- `\"2.悪い\"`\n",
    "- `\"3.普通\"`\n",
    "- `\"4.良い\"`\n",
    "- `\"5.とても良い\"`"
   ]
  },
  {
   "cell_type": "code",
   "execution_count": null,
   "metadata": {},
   "outputs": [],
   "source": []
  },
  {
   "cell_type": "markdown",
   "metadata": {},
   "source": [
    "## 問 5\n",
    "\n",
    "問 3 で作成した関数を用いて、以下の回答データのリストを、主観的な健康度を表す整数型のリストに変換してください。"
   ]
  },
  {
   "cell_type": "code",
   "execution_count": 13,
   "metadata": {},
   "outputs": [],
   "source": [
    "TARGET_LIST = [\n",
    "    '3.普通',\n",
    "    '1.とても悪い',\n",
    "    '2.悪い',\n",
    "    '3.普通',\n",
    "    '5.とても良い',\n",
    "    '5.とても良い',\n",
    "    '2.悪い',\n",
    "    '3.普通',\n",
    "    '1.とても悪い',\n",
    "    '3.普通'\n",
    "]"
   ]
  }
 ],
 "metadata": {
  "kernelspec": {
   "display_name": ".venv",
   "language": "python",
   "name": "python3"
  },
  "language_info": {
   "codemirror_mode": {
    "name": "ipython",
    "version": 3
   },
   "file_extension": ".py",
   "mimetype": "text/x-python",
   "name": "python",
   "nbconvert_exporter": "python",
   "pygments_lexer": "ipython3",
   "version": "3.11.7"
  }
 },
 "nbformat": 4,
 "nbformat_minor": 2
}
