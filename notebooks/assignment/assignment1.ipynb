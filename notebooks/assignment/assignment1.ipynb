{
  "nbformat": 4,
  "nbformat_minor": 0,
  "metadata": {
    "colab": {
      "provenance": [],
      "authorship_tag": "ABX9TyM9PJ+s5TzfKi0ksRmVV2s9",
      "include_colab_link": true
    },
    "kernelspec": {
      "name": "python3",
      "display_name": "Python 3"
    },
    "language_info": {
      "name": "python"
    }
  },
  "cells": [
    {
      "cell_type": "markdown",
      "metadata": {
        "id": "view-in-github",
        "colab_type": "text"
      },
      "source": [
        "<a href=\"https://colab.research.google.com/github/takahiromiura/class_data_analysis_I/blob/main/notebooks/assignment/assignment1.ipynb\" target=\"_parent\"><img src=\"https://colab.research.google.com/assets/colab-badge.svg\" alt=\"Open In Colab\"/></a>"
      ]
    },
    {
      "cell_type": "markdown",
      "source": [
        "# 課題に関する注意\n",
        "\n",
        "- 元のコードセルは削除しないでください\n",
        "- 左上に `ファイル 編集` などの文字が表示されていない場合は、画面右上の下向きのアイコンをクリックします。\n",
        "- 提出用のファイルは、`ファイル -> ダウンロード -> .ipynb をダウンロード` でダウンロードします (.py ファイルではありません）。\n",
        "- ファイル提出前に `ランタイム -> セッションを再起動して全て実行する` を行ってください。\n",
        "- 最後まで実行できないファイルは評価対象外です"
      ],
      "metadata": {
        "id": "YSBbZQLahU26"
      }
    },
    {
      "cell_type": "markdown",
      "source": [
        "# 課題 1\n",
        "\n",
        "あなたは小学校の先生で、生徒の試験点数を管理するためのデータベースを作成したいとします。\n",
        "各生徒の点数は以下とします。\n",
        "\n",
        "- 有田\n",
        "    - 算数 = 65\n",
        "    - 英語 = 50\n",
        "    - 国語 = 40\n",
        "- 湯浅\n",
        "    - 算数 = 35\n",
        "    - 英語 = 90\n",
        "    - 国語 = 40\n",
        "- 串本\n",
        "    - 算数 = 40\n",
        "    - 英語 = 30\n",
        "    - 国語 = 40\n",
        "\n",
        "試験の点数のデータは `data` という変数に保存するとします。"
      ],
      "metadata": {
        "id": "Fq64OeEHdn1c"
      }
    },
    {
      "cell_type": "markdown",
      "source": [
        "## 問 1\n",
        "下のコードセルに `data` を定義してください。\n",
        "\n",
        "`data` は生徒毎に科目別の点数をまとめた辞書型です。"
      ],
      "metadata": {
        "id": "PHBjnZc9jpmy"
      }
    },
    {
      "cell_type": "code",
      "source": [
        "# ここで data を定義"
      ],
      "metadata": {
        "id": "H8ozWg3Jfn-X"
      },
      "execution_count": null,
      "outputs": []
    },
    {
      "cell_type": "markdown",
      "source": [
        "## 問 2\n",
        "上で `data` を定義した後に、、以下のコードセルを実行してください (エラーがなく、コメント部分と出力があっていれば正しい)。"
      ],
      "metadata": {
        "id": "8uAJT5lLjxXR"
      }
    },
    {
      "cell_type": "code",
      "source": [
        "data[\"有田\"][\"national_language\"] # 40"
      ],
      "metadata": {
        "id": "XXKrAEPQf0-d"
      },
      "execution_count": null,
      "outputs": []
    },
    {
      "cell_type": "code",
      "source": [
        "data[\"湯浅\"][\"english\"] # 90"
      ],
      "metadata": {
        "id": "_PhAT5Rqf7H8"
      },
      "execution_count": null,
      "outputs": []
    },
    {
      "cell_type": "code",
      "source": [
        "data[\"串本\"][\"math\"] # 40"
      ],
      "metadata": {
        "id": "jn5jb3Mmf_C0"
      },
      "execution_count": null,
      "outputs": []
    },
    {
      "cell_type": "markdown",
      "source": [
        "## 問 3\n",
        "\n",
        "国語、英語、算数のうち、平均点数が最も低いのは何ですか。\n",
        "\n",
        "以下のコードセルを修正し、`data` を用いて各科目の平均点数を出力してください。"
      ],
      "metadata": {
        "id": "g7q5c_x-jc0k"
      }
    },
    {
      "cell_type": "code",
      "source": [
        "# 国語"
      ],
      "metadata": {
        "id": "Or4szFsmoJUp"
      },
      "execution_count": null,
      "outputs": []
    },
    {
      "cell_type": "code",
      "source": [
        "# 英語"
      ],
      "metadata": {
        "id": "0oPgxVU_oK9s"
      },
      "execution_count": null,
      "outputs": []
    },
    {
      "cell_type": "code",
      "source": [
        "# 算数"
      ],
      "metadata": {
        "id": "b5Lr5k5foMLM"
      },
      "execution_count": null,
      "outputs": []
    },
    {
      "cell_type": "markdown",
      "source": [
        "問 3 の答え:"
      ],
      "metadata": {
        "id": "HIb9QSDpkzGy"
      }
    },
    {
      "cell_type": "markdown",
      "source": [
        "## 問 4\n",
        "\n",
        "3 人の生徒で、最も合計点数が高い人は誰ですか。\n",
        "\n",
        "以下にコードセルを修正し、`data` を用いて各生徒の合計点数を出力してください。"
      ],
      "metadata": {
        "id": "8YyCYNxwk9jj"
      }
    },
    {
      "cell_type": "code",
      "source": [
        "# 有田"
      ],
      "metadata": {
        "id": "bldwuCq8lM87"
      },
      "execution_count": null,
      "outputs": []
    },
    {
      "cell_type": "code",
      "source": [
        "# 湯浅"
      ],
      "metadata": {
        "id": "E4hH4U_XoVyk"
      },
      "execution_count": null,
      "outputs": []
    },
    {
      "cell_type": "code",
      "source": [
        "# 串本"
      ],
      "metadata": {
        "id": "-ruSHgEzoYz8"
      },
      "execution_count": null,
      "outputs": []
    },
    {
      "cell_type": "markdown",
      "source": [
        "問 4 の答え:"
      ],
      "metadata": {
        "id": "dp9PcTvYlNQV"
      }
    },
    {
      "cell_type": "markdown",
      "source": [
        "## 問 5\n",
        "\n",
        "このデータの作成方法は、同姓の生徒がいた場合に問題があります。\n",
        "\n",
        "同姓がいる場合でも問題ないようなデータ構造を考えてください。\n",
        "\n",
        "ここでは、有田という人が別にいて、次のような点数であったとします。\n",
        "\n",
        "- 有田\n",
        "    - 算数 = 90\n",
        "    - 英語 = 100\n",
        "    - 国語 = 80\n",
        "\n",
        "この生徒も加えた、4 人のデータを以下に作成してください。"
      ],
      "metadata": {
        "id": "lX59SN9llce7"
      }
    },
    {
      "cell_type": "code",
      "source": [
        "# data を再定義"
      ],
      "metadata": {
        "id": "oHk8X9fDpmAO"
      },
      "execution_count": null,
      "outputs": []
    },
    {
      "cell_type": "markdown",
      "source": [
        "## 問 6\n",
        "\n",
        "新たに定義したデータを用いて、各科目の平均点数を以下のデータセルを用いて出力してください。"
      ],
      "metadata": {
        "id": "rha0VpLOqIdt"
      }
    },
    {
      "cell_type": "code",
      "source": [
        "# 国語"
      ],
      "metadata": {
        "id": "c_0qRgVeqX_k"
      },
      "execution_count": null,
      "outputs": []
    },
    {
      "cell_type": "code",
      "source": [
        "# 英語"
      ],
      "metadata": {
        "id": "WqlDpJGCqX_k"
      },
      "execution_count": null,
      "outputs": []
    },
    {
      "cell_type": "code",
      "source": [
        "# 算数"
      ],
      "metadata": {
        "id": "nzS2_pTyqX_k"
      },
      "execution_count": null,
      "outputs": []
    }
  ]
}